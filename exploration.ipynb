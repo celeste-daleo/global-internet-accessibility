{
 "cells": [
  {
   "cell_type": "code",
   "execution_count": 1,
   "metadata": {},
   "outputs": [],
   "source": [
    "# Imports\n",
    "import pandas as pd"
   ]
  },
  {
   "attachments": {},
   "cell_type": "markdown",
   "metadata": {},
   "source": [
    "# Data from word bank"
   ]
  },
  {
   "cell_type": "code",
   "execution_count": 2,
   "metadata": {},
   "outputs": [
    {
     "ename": "UnicodeDecodeError",
     "evalue": "'utf-8' codec can't decode byte 0x96 in position 12: invalid start byte",
     "output_type": "error",
     "traceback": [
      "\u001b[0;31m---------------------------------------------------------------------------\u001b[0m",
      "\u001b[0;31mUnicodeDecodeError\u001b[0m                        Traceback (most recent call last)",
      "\u001b[1;32m/Users/celestedaleo/Documents/GitHub/global_internet_accessibility/exploration.ipynb Cell 3\u001b[0m in \u001b[0;36m<cell line: 4>\u001b[0;34m()\u001b[0m\n\u001b[1;32m      <a href='vscode-notebook-cell:/Users/celestedaleo/Documents/GitHub/global_internet_accessibility/exploration.ipynb#W2sZmlsZQ%3D%3D?line=0'>1</a>\u001b[0m \u001b[39m# Data raw from the internet\u001b[39;00m\n\u001b[1;32m      <a href='vscode-notebook-cell:/Users/celestedaleo/Documents/GitHub/global_internet_accessibility/exploration.ipynb#W2sZmlsZQ%3D%3D?line=2'>3</a>\u001b[0m users_link \u001b[39m=\u001b[39m \u001b[39m'\u001b[39m\u001b[39mhttps://api.worldbank.org/v2/en/indicator/IT.NET.USER.ZS?downloadformat=csv\u001b[39m\u001b[39m'\u001b[39m\n\u001b[0;32m----> <a href='vscode-notebook-cell:/Users/celestedaleo/Documents/GitHub/global_internet_accessibility/exploration.ipynb#W2sZmlsZQ%3D%3D?line=3'>4</a>\u001b[0m users_raw_link \u001b[39m=\u001b[39m pd\u001b[39m.\u001b[39;49mread_csv(users_link, skiprows\u001b[39m=\u001b[39;49m\u001b[39m4\u001b[39;49m, sep\u001b[39m=\u001b[39;49m\u001b[39m'\u001b[39;49m\u001b[39m,\u001b[39;49m\u001b[39m'\u001b[39;49m)\n",
      "File \u001b[0;32m~/opt/anaconda3/lib/python3.9/site-packages/pandas/util/_decorators.py:311\u001b[0m, in \u001b[0;36mdeprecate_nonkeyword_arguments.<locals>.decorate.<locals>.wrapper\u001b[0;34m(*args, **kwargs)\u001b[0m\n\u001b[1;32m    305\u001b[0m \u001b[39mif\u001b[39;00m \u001b[39mlen\u001b[39m(args) \u001b[39m>\u001b[39m num_allow_args:\n\u001b[1;32m    306\u001b[0m     warnings\u001b[39m.\u001b[39mwarn(\n\u001b[1;32m    307\u001b[0m         msg\u001b[39m.\u001b[39mformat(arguments\u001b[39m=\u001b[39marguments),\n\u001b[1;32m    308\u001b[0m         \u001b[39mFutureWarning\u001b[39;00m,\n\u001b[1;32m    309\u001b[0m         stacklevel\u001b[39m=\u001b[39mstacklevel,\n\u001b[1;32m    310\u001b[0m     )\n\u001b[0;32m--> 311\u001b[0m \u001b[39mreturn\u001b[39;00m func(\u001b[39m*\u001b[39;49margs, \u001b[39m*\u001b[39;49m\u001b[39m*\u001b[39;49mkwargs)\n",
      "File \u001b[0;32m~/opt/anaconda3/lib/python3.9/site-packages/pandas/io/parsers/readers.py:680\u001b[0m, in \u001b[0;36mread_csv\u001b[0;34m(filepath_or_buffer, sep, delimiter, header, names, index_col, usecols, squeeze, prefix, mangle_dupe_cols, dtype, engine, converters, true_values, false_values, skipinitialspace, skiprows, skipfooter, nrows, na_values, keep_default_na, na_filter, verbose, skip_blank_lines, parse_dates, infer_datetime_format, keep_date_col, date_parser, dayfirst, cache_dates, iterator, chunksize, compression, thousands, decimal, lineterminator, quotechar, quoting, doublequote, escapechar, comment, encoding, encoding_errors, dialect, error_bad_lines, warn_bad_lines, on_bad_lines, delim_whitespace, low_memory, memory_map, float_precision, storage_options)\u001b[0m\n\u001b[1;32m    665\u001b[0m kwds_defaults \u001b[39m=\u001b[39m _refine_defaults_read(\n\u001b[1;32m    666\u001b[0m     dialect,\n\u001b[1;32m    667\u001b[0m     delimiter,\n\u001b[0;32m   (...)\u001b[0m\n\u001b[1;32m    676\u001b[0m     defaults\u001b[39m=\u001b[39m{\u001b[39m\"\u001b[39m\u001b[39mdelimiter\u001b[39m\u001b[39m\"\u001b[39m: \u001b[39m\"\u001b[39m\u001b[39m,\u001b[39m\u001b[39m\"\u001b[39m},\n\u001b[1;32m    677\u001b[0m )\n\u001b[1;32m    678\u001b[0m kwds\u001b[39m.\u001b[39mupdate(kwds_defaults)\n\u001b[0;32m--> 680\u001b[0m \u001b[39mreturn\u001b[39;00m _read(filepath_or_buffer, kwds)\n",
      "File \u001b[0;32m~/opt/anaconda3/lib/python3.9/site-packages/pandas/io/parsers/readers.py:575\u001b[0m, in \u001b[0;36m_read\u001b[0;34m(filepath_or_buffer, kwds)\u001b[0m\n\u001b[1;32m    572\u001b[0m _validate_names(kwds\u001b[39m.\u001b[39mget(\u001b[39m\"\u001b[39m\u001b[39mnames\u001b[39m\u001b[39m\"\u001b[39m, \u001b[39mNone\u001b[39;00m))\n\u001b[1;32m    574\u001b[0m \u001b[39m# Create the parser.\u001b[39;00m\n\u001b[0;32m--> 575\u001b[0m parser \u001b[39m=\u001b[39m TextFileReader(filepath_or_buffer, \u001b[39m*\u001b[39;49m\u001b[39m*\u001b[39;49mkwds)\n\u001b[1;32m    577\u001b[0m \u001b[39mif\u001b[39;00m chunksize \u001b[39mor\u001b[39;00m iterator:\n\u001b[1;32m    578\u001b[0m     \u001b[39mreturn\u001b[39;00m parser\n",
      "File \u001b[0;32m~/opt/anaconda3/lib/python3.9/site-packages/pandas/io/parsers/readers.py:934\u001b[0m, in \u001b[0;36mTextFileReader.__init__\u001b[0;34m(self, f, engine, **kwds)\u001b[0m\n\u001b[1;32m    931\u001b[0m     \u001b[39mself\u001b[39m\u001b[39m.\u001b[39moptions[\u001b[39m\"\u001b[39m\u001b[39mhas_index_names\u001b[39m\u001b[39m\"\u001b[39m] \u001b[39m=\u001b[39m kwds[\u001b[39m\"\u001b[39m\u001b[39mhas_index_names\u001b[39m\u001b[39m\"\u001b[39m]\n\u001b[1;32m    933\u001b[0m \u001b[39mself\u001b[39m\u001b[39m.\u001b[39mhandles: IOHandles \u001b[39m|\u001b[39m \u001b[39mNone\u001b[39;00m \u001b[39m=\u001b[39m \u001b[39mNone\u001b[39;00m\n\u001b[0;32m--> 934\u001b[0m \u001b[39mself\u001b[39m\u001b[39m.\u001b[39m_engine \u001b[39m=\u001b[39m \u001b[39mself\u001b[39;49m\u001b[39m.\u001b[39;49m_make_engine(f, \u001b[39mself\u001b[39;49m\u001b[39m.\u001b[39;49mengine)\n",
      "File \u001b[0;32m~/opt/anaconda3/lib/python3.9/site-packages/pandas/io/parsers/readers.py:1236\u001b[0m, in \u001b[0;36mTextFileReader._make_engine\u001b[0;34m(self, f, engine)\u001b[0m\n\u001b[1;32m   1233\u001b[0m     \u001b[39mraise\u001b[39;00m \u001b[39mValueError\u001b[39;00m(msg)\n\u001b[1;32m   1235\u001b[0m \u001b[39mtry\u001b[39;00m:\n\u001b[0;32m-> 1236\u001b[0m     \u001b[39mreturn\u001b[39;00m mapping[engine](f, \u001b[39m*\u001b[39;49m\u001b[39m*\u001b[39;49m\u001b[39mself\u001b[39;49m\u001b[39m.\u001b[39;49moptions)\n\u001b[1;32m   1237\u001b[0m \u001b[39mexcept\u001b[39;00m \u001b[39mException\u001b[39;00m:\n\u001b[1;32m   1238\u001b[0m     \u001b[39mif\u001b[39;00m \u001b[39mself\u001b[39m\u001b[39m.\u001b[39mhandles \u001b[39mis\u001b[39;00m \u001b[39mnot\u001b[39;00m \u001b[39mNone\u001b[39;00m:\n",
      "File \u001b[0;32m~/opt/anaconda3/lib/python3.9/site-packages/pandas/io/parsers/c_parser_wrapper.py:75\u001b[0m, in \u001b[0;36mCParserWrapper.__init__\u001b[0;34m(self, src, **kwds)\u001b[0m\n\u001b[1;32m     72\u001b[0m     kwds\u001b[39m.\u001b[39mpop(key, \u001b[39mNone\u001b[39;00m)\n\u001b[1;32m     74\u001b[0m kwds[\u001b[39m\"\u001b[39m\u001b[39mdtype\u001b[39m\u001b[39m\"\u001b[39m] \u001b[39m=\u001b[39m ensure_dtype_objs(kwds\u001b[39m.\u001b[39mget(\u001b[39m\"\u001b[39m\u001b[39mdtype\u001b[39m\u001b[39m\"\u001b[39m, \u001b[39mNone\u001b[39;00m))\n\u001b[0;32m---> 75\u001b[0m \u001b[39mself\u001b[39m\u001b[39m.\u001b[39m_reader \u001b[39m=\u001b[39m parsers\u001b[39m.\u001b[39;49mTextReader(src, \u001b[39m*\u001b[39;49m\u001b[39m*\u001b[39;49mkwds)\n\u001b[1;32m     77\u001b[0m \u001b[39mself\u001b[39m\u001b[39m.\u001b[39munnamed_cols \u001b[39m=\u001b[39m \u001b[39mself\u001b[39m\u001b[39m.\u001b[39m_reader\u001b[39m.\u001b[39munnamed_cols\n\u001b[1;32m     79\u001b[0m \u001b[39m# error: Cannot determine type of 'names'\u001b[39;00m\n",
      "File \u001b[0;32m~/opt/anaconda3/lib/python3.9/site-packages/pandas/_libs/parsers.pyx:544\u001b[0m, in \u001b[0;36mpandas._libs.parsers.TextReader.__cinit__\u001b[0;34m()\u001b[0m\n",
      "File \u001b[0;32m~/opt/anaconda3/lib/python3.9/site-packages/pandas/_libs/parsers.pyx:633\u001b[0m, in \u001b[0;36mpandas._libs.parsers.TextReader._get_header\u001b[0;34m()\u001b[0m\n",
      "File \u001b[0;32m~/opt/anaconda3/lib/python3.9/site-packages/pandas/_libs/parsers.pyx:847\u001b[0m, in \u001b[0;36mpandas._libs.parsers.TextReader._tokenize_rows\u001b[0;34m()\u001b[0m\n",
      "File \u001b[0;32m~/opt/anaconda3/lib/python3.9/site-packages/pandas/_libs/parsers.pyx:1952\u001b[0m, in \u001b[0;36mpandas._libs.parsers.raise_parser_error\u001b[0;34m()\u001b[0m\n",
      "\u001b[0;31mUnicodeDecodeError\u001b[0m: 'utf-8' codec can't decode byte 0x96 in position 12: invalid start byte"
     ]
    }
   ],
   "source": [
    "# Data raw from the internet\n",
    "\n",
    "users_link = 'https://api.worldbank.org/v2/en/indicator/IT.NET.USER.ZS?downloadformat=csv'\n",
    "users_raw_link = pd.read_csv(users_link, skiprows=4, sep=',')\n"
   ]
  },
  {
   "cell_type": "code",
   "execution_count": null,
   "metadata": {},
   "outputs": [],
   "source": [
    "# DATA comes from: https://data.worldbank.org/indicator/IT.NET.USER.ZS\n",
    "\n",
    "# Data raw from local file\n",
    "users_csv_raw = pd.read_csv('individuals_using_the_Internet_percentage_of_population.csv', skiprows=4)\n",
    "\n",
    "# Metadata\n",
    "metadata_raw = pd.read_csv('Metadata_Country_individuals_using_the_Internet_percentage_of_population.csv')"
   ]
  },
  {
   "cell_type": "code",
   "execution_count": null,
   "metadata": {},
   "outputs": [
    {
     "data": {
      "text/html": [
       "<div>\n",
       "<style scoped>\n",
       "    .dataframe tbody tr th:only-of-type {\n",
       "        vertical-align: middle;\n",
       "    }\n",
       "\n",
       "    .dataframe tbody tr th {\n",
       "        vertical-align: top;\n",
       "    }\n",
       "\n",
       "    .dataframe thead th {\n",
       "        text-align: right;\n",
       "    }\n",
       "</style>\n",
       "<table border=\"1\" class=\"dataframe\">\n",
       "  <thead>\n",
       "    <tr style=\"text-align: right;\">\n",
       "      <th></th>\n",
       "      <th>Country Code</th>\n",
       "      <th>Region</th>\n",
       "      <th>IncomeGroup</th>\n",
       "      <th>SpecialNotes</th>\n",
       "      <th>TableName</th>\n",
       "      <th>Unnamed: 5</th>\n",
       "    </tr>\n",
       "  </thead>\n",
       "  <tbody>\n",
       "    <tr>\n",
       "      <th>0</th>\n",
       "      <td>ABW</td>\n",
       "      <td>Latin America &amp; Caribbean</td>\n",
       "      <td>High income</td>\n",
       "      <td>NaN</td>\n",
       "      <td>Aruba</td>\n",
       "      <td>NaN</td>\n",
       "    </tr>\n",
       "    <tr>\n",
       "      <th>1</th>\n",
       "      <td>AFE</td>\n",
       "      <td>NaN</td>\n",
       "      <td>NaN</td>\n",
       "      <td>26 countries, stretching from the Red Sea in t...</td>\n",
       "      <td>Africa Eastern and Southern</td>\n",
       "      <td>NaN</td>\n",
       "    </tr>\n",
       "    <tr>\n",
       "      <th>2</th>\n",
       "      <td>AFG</td>\n",
       "      <td>South Asia</td>\n",
       "      <td>Low income</td>\n",
       "      <td>The reporting period for national accounts dat...</td>\n",
       "      <td>Afghanistan</td>\n",
       "      <td>NaN</td>\n",
       "    </tr>\n",
       "    <tr>\n",
       "      <th>3</th>\n",
       "      <td>AFW</td>\n",
       "      <td>NaN</td>\n",
       "      <td>NaN</td>\n",
       "      <td>22 countries, stretching from the westernmost ...</td>\n",
       "      <td>Africa Western and Central</td>\n",
       "      <td>NaN</td>\n",
       "    </tr>\n",
       "    <tr>\n",
       "      <th>4</th>\n",
       "      <td>AGO</td>\n",
       "      <td>Sub-Saharan Africa</td>\n",
       "      <td>Lower middle income</td>\n",
       "      <td>The World Bank systematically assesses the app...</td>\n",
       "      <td>Angola</td>\n",
       "      <td>NaN</td>\n",
       "    </tr>\n",
       "    <tr>\n",
       "      <th>...</th>\n",
       "      <td>...</td>\n",
       "      <td>...</td>\n",
       "      <td>...</td>\n",
       "      <td>...</td>\n",
       "      <td>...</td>\n",
       "      <td>...</td>\n",
       "    </tr>\n",
       "    <tr>\n",
       "      <th>260</th>\n",
       "      <td>XKX</td>\n",
       "      <td>Europe &amp; Central Asia</td>\n",
       "      <td>Upper middle income</td>\n",
       "      <td>NaN</td>\n",
       "      <td>Kosovo</td>\n",
       "      <td>NaN</td>\n",
       "    </tr>\n",
       "    <tr>\n",
       "      <th>261</th>\n",
       "      <td>YEM</td>\n",
       "      <td>Middle East &amp; North Africa</td>\n",
       "      <td>Low income</td>\n",
       "      <td>The World Bank systematically assesses the app...</td>\n",
       "      <td>Yemen, Rep.</td>\n",
       "      <td>NaN</td>\n",
       "    </tr>\n",
       "    <tr>\n",
       "      <th>262</th>\n",
       "      <td>ZAF</td>\n",
       "      <td>Sub-Saharan Africa</td>\n",
       "      <td>Upper middle income</td>\n",
       "      <td>Fiscal year end: March 31; reporting period fo...</td>\n",
       "      <td>South Africa</td>\n",
       "      <td>NaN</td>\n",
       "    </tr>\n",
       "    <tr>\n",
       "      <th>263</th>\n",
       "      <td>ZMB</td>\n",
       "      <td>Sub-Saharan Africa</td>\n",
       "      <td>Low income</td>\n",
       "      <td>National accounts data were rebased to reflect...</td>\n",
       "      <td>Zambia</td>\n",
       "      <td>NaN</td>\n",
       "    </tr>\n",
       "    <tr>\n",
       "      <th>264</th>\n",
       "      <td>ZWE</td>\n",
       "      <td>Sub-Saharan Africa</td>\n",
       "      <td>Lower middle income</td>\n",
       "      <td>National Accounts data are reported in Zimbabw...</td>\n",
       "      <td>Zimbabwe</td>\n",
       "      <td>NaN</td>\n",
       "    </tr>\n",
       "  </tbody>\n",
       "</table>\n",
       "<p>265 rows × 6 columns</p>\n",
       "</div>"
      ],
      "text/plain": [
       "    Country Code                      Region          IncomeGroup  \\\n",
       "0            ABW   Latin America & Caribbean          High income   \n",
       "1            AFE                         NaN                  NaN   \n",
       "2            AFG                  South Asia           Low income   \n",
       "3            AFW                         NaN                  NaN   \n",
       "4            AGO          Sub-Saharan Africa  Lower middle income   \n",
       "..           ...                         ...                  ...   \n",
       "260          XKX       Europe & Central Asia  Upper middle income   \n",
       "261          YEM  Middle East & North Africa           Low income   \n",
       "262          ZAF          Sub-Saharan Africa  Upper middle income   \n",
       "263          ZMB          Sub-Saharan Africa           Low income   \n",
       "264          ZWE          Sub-Saharan Africa  Lower middle income   \n",
       "\n",
       "                                          SpecialNotes  \\\n",
       "0                                                  NaN   \n",
       "1    26 countries, stretching from the Red Sea in t...   \n",
       "2    The reporting period for national accounts dat...   \n",
       "3    22 countries, stretching from the westernmost ...   \n",
       "4    The World Bank systematically assesses the app...   \n",
       "..                                                 ...   \n",
       "260                                                NaN   \n",
       "261  The World Bank systematically assesses the app...   \n",
       "262  Fiscal year end: March 31; reporting period fo...   \n",
       "263  National accounts data were rebased to reflect...   \n",
       "264  National Accounts data are reported in Zimbabw...   \n",
       "\n",
       "                       TableName  Unnamed: 5  \n",
       "0                          Aruba         NaN  \n",
       "1    Africa Eastern and Southern         NaN  \n",
       "2                    Afghanistan         NaN  \n",
       "3     Africa Western and Central         NaN  \n",
       "4                         Angola         NaN  \n",
       "..                           ...         ...  \n",
       "260                       Kosovo         NaN  \n",
       "261                  Yemen, Rep.         NaN  \n",
       "262                 South Africa         NaN  \n",
       "263                       Zambia         NaN  \n",
       "264                     Zimbabwe         NaN  \n",
       "\n",
       "[265 rows x 6 columns]"
      ]
     },
     "execution_count": 36,
     "metadata": {},
     "output_type": "execute_result"
    }
   ],
   "source": [
    "metadata_raw"
   ]
  },
  {
   "cell_type": "code",
   "execution_count": null,
   "metadata": {},
   "outputs": [],
   "source": [
    "# Copy of data files to be used\n",
    "# users_link = users_raw_link.copy()\n",
    "\n",
    "# Data raw from local file\n",
    "users_csv = users_csv_raw.copy()\n",
    "metadata = metadata_raw.copy()\n"
   ]
  },
  {
   "cell_type": "code",
   "execution_count": null,
   "metadata": {},
   "outputs": [
    {
     "data": {
      "text/html": [
       "<div>\n",
       "<style scoped>\n",
       "    .dataframe tbody tr th:only-of-type {\n",
       "        vertical-align: middle;\n",
       "    }\n",
       "\n",
       "    .dataframe tbody tr th {\n",
       "        vertical-align: top;\n",
       "    }\n",
       "\n",
       "    .dataframe thead th {\n",
       "        text-align: right;\n",
       "    }\n",
       "</style>\n",
       "<table border=\"1\" class=\"dataframe\">\n",
       "  <thead>\n",
       "    <tr style=\"text-align: right;\">\n",
       "      <th></th>\n",
       "      <th>Country Name</th>\n",
       "      <th>Country Code</th>\n",
       "      <th>Indicator Name</th>\n",
       "      <th>Indicator Code</th>\n",
       "      <th>1960</th>\n",
       "      <th>1961</th>\n",
       "      <th>1962</th>\n",
       "      <th>1963</th>\n",
       "      <th>1964</th>\n",
       "      <th>1965</th>\n",
       "      <th>...</th>\n",
       "      <th>2013</th>\n",
       "      <th>2014</th>\n",
       "      <th>2015</th>\n",
       "      <th>2016</th>\n",
       "      <th>2017</th>\n",
       "      <th>2018</th>\n",
       "      <th>2019</th>\n",
       "      <th>2020</th>\n",
       "      <th>2021</th>\n",
       "      <th>Unnamed: 66</th>\n",
       "    </tr>\n",
       "  </thead>\n",
       "  <tbody>\n",
       "    <tr>\n",
       "      <th>9</th>\n",
       "      <td>Argentina</td>\n",
       "      <td>ARG</td>\n",
       "      <td>Individuals using the Internet (% of population)</td>\n",
       "      <td>IT.NET.USER.ZS</td>\n",
       "      <td>NaN</td>\n",
       "      <td>NaN</td>\n",
       "      <td>NaN</td>\n",
       "      <td>NaN</td>\n",
       "      <td>NaN</td>\n",
       "      <td>NaN</td>\n",
       "      <td>...</td>\n",
       "      <td>59.9</td>\n",
       "      <td>64.7</td>\n",
       "      <td>68.043064</td>\n",
       "      <td>70.968981</td>\n",
       "      <td>74.294907</td>\n",
       "      <td>77.7</td>\n",
       "      <td>79.9</td>\n",
       "      <td>85.5</td>\n",
       "      <td>87.148293</td>\n",
       "      <td>NaN</td>\n",
       "    </tr>\n",
       "  </tbody>\n",
       "</table>\n",
       "<p>1 rows × 67 columns</p>\n",
       "</div>"
      ],
      "text/plain": [
       "  Country Name Country Code                                    Indicator Name  \\\n",
       "9    Argentina          ARG  Individuals using the Internet (% of population)   \n",
       "\n",
       "   Indicator Code  1960  1961  1962  1963  1964  1965  ...  2013  2014  \\\n",
       "9  IT.NET.USER.ZS   NaN   NaN   NaN   NaN   NaN   NaN  ...  59.9  64.7   \n",
       "\n",
       "        2015       2016       2017  2018  2019  2020       2021  Unnamed: 66  \n",
       "9  68.043064  70.968981  74.294907  77.7  79.9  85.5  87.148293          NaN  \n",
       "\n",
       "[1 rows x 67 columns]"
      ]
     },
     "execution_count": 49,
     "metadata": {},
     "output_type": "execute_result"
    }
   ],
   "source": [
    "users_csv[users_csv['Country Name'] == 'Argentina']"
   ]
  },
  {
   "attachments": {},
   "cell_type": "markdown",
   "metadata": {},
   "source": [
    "# PROJECT FROM DATACAP"
   ]
  },
  {
   "attachments": {},
   "cell_type": "markdown",
   "metadata": {},
   "source": [
    "# Data from data camp"
   ]
  },
  {
   "cell_type": "code",
   "execution_count": 3,
   "metadata": {},
   "outputs": [],
   "source": [
    "internet = pd.read_csv('internet.csv')\n",
    "broadband = pd.read_csv('broadband.csv')\n",
    "people = pd.read_csv('people.csv')"
   ]
  },
  {
   "cell_type": "code",
   "execution_count": 4,
   "metadata": {},
   "outputs": [
    {
     "data": {
      "text/html": [
       "<div>\n",
       "<style scoped>\n",
       "    .dataframe tbody tr th:only-of-type {\n",
       "        vertical-align: middle;\n",
       "    }\n",
       "\n",
       "    .dataframe tbody tr th {\n",
       "        vertical-align: top;\n",
       "    }\n",
       "\n",
       "    .dataframe thead th {\n",
       "        text-align: right;\n",
       "    }\n",
       "</style>\n",
       "<table border=\"1\" class=\"dataframe\">\n",
       "  <thead>\n",
       "    <tr style=\"text-align: right;\">\n",
       "      <th></th>\n",
       "      <th>Entity</th>\n",
       "      <th>Code</th>\n",
       "      <th>Year</th>\n",
       "      <th>Users</th>\n",
       "    </tr>\n",
       "  </thead>\n",
       "  <tbody>\n",
       "    <tr>\n",
       "      <th>0</th>\n",
       "      <td>Afghanistan</td>\n",
       "      <td>AFG</td>\n",
       "      <td>1990</td>\n",
       "      <td>0</td>\n",
       "    </tr>\n",
       "    <tr>\n",
       "      <th>1</th>\n",
       "      <td>Afghanistan</td>\n",
       "      <td>AFG</td>\n",
       "      <td>1991</td>\n",
       "      <td>0</td>\n",
       "    </tr>\n",
       "    <tr>\n",
       "      <th>2</th>\n",
       "      <td>Afghanistan</td>\n",
       "      <td>AFG</td>\n",
       "      <td>1992</td>\n",
       "      <td>0</td>\n",
       "    </tr>\n",
       "    <tr>\n",
       "      <th>3</th>\n",
       "      <td>Afghanistan</td>\n",
       "      <td>AFG</td>\n",
       "      <td>1993</td>\n",
       "      <td>0</td>\n",
       "    </tr>\n",
       "    <tr>\n",
       "      <th>4</th>\n",
       "      <td>Afghanistan</td>\n",
       "      <td>AFG</td>\n",
       "      <td>1994</td>\n",
       "      <td>0</td>\n",
       "    </tr>\n",
       "    <tr>\n",
       "      <th>...</th>\n",
       "      <td>...</td>\n",
       "      <td>...</td>\n",
       "      <td>...</td>\n",
       "      <td>...</td>\n",
       "    </tr>\n",
       "    <tr>\n",
       "      <th>6374</th>\n",
       "      <td>Zimbabwe</td>\n",
       "      <td>ZWE</td>\n",
       "      <td>2016</td>\n",
       "      <td>3341464</td>\n",
       "    </tr>\n",
       "    <tr>\n",
       "      <th>6375</th>\n",
       "      <td>Zimbabwe</td>\n",
       "      <td>ZWE</td>\n",
       "      <td>2017</td>\n",
       "      <td>3599269</td>\n",
       "    </tr>\n",
       "    <tr>\n",
       "      <th>6376</th>\n",
       "      <td>Zimbabwe</td>\n",
       "      <td>ZWE</td>\n",
       "      <td>2018</td>\n",
       "      <td>3763048</td>\n",
       "    </tr>\n",
       "    <tr>\n",
       "      <th>6377</th>\n",
       "      <td>Zimbabwe</td>\n",
       "      <td>ZWE</td>\n",
       "      <td>2019</td>\n",
       "      <td>3854006</td>\n",
       "    </tr>\n",
       "    <tr>\n",
       "      <th>6378</th>\n",
       "      <td>Zimbabwe</td>\n",
       "      <td>ZWE</td>\n",
       "      <td>2020</td>\n",
       "      <td>4591211</td>\n",
       "    </tr>\n",
       "  </tbody>\n",
       "</table>\n",
       "<p>6379 rows × 4 columns</p>\n",
       "</div>"
      ],
      "text/plain": [
       "           Entity Code  Year    Users\n",
       "0     Afghanistan  AFG  1990        0\n",
       "1     Afghanistan  AFG  1991        0\n",
       "2     Afghanistan  AFG  1992        0\n",
       "3     Afghanistan  AFG  1993        0\n",
       "4     Afghanistan  AFG  1994        0\n",
       "...           ...  ...   ...      ...\n",
       "6374     Zimbabwe  ZWE  2016  3341464\n",
       "6375     Zimbabwe  ZWE  2017  3599269\n",
       "6376     Zimbabwe  ZWE  2018  3763048\n",
       "6377     Zimbabwe  ZWE  2019  3854006\n",
       "6378     Zimbabwe  ZWE  2020  4591211\n",
       "\n",
       "[6379 rows x 4 columns]"
      ]
     },
     "execution_count": 4,
     "metadata": {},
     "output_type": "execute_result"
    }
   ],
   "source": [
    "people\n"
   ]
  },
  {
   "cell_type": "code",
   "execution_count": 5,
   "metadata": {},
   "outputs": [
    {
     "data": {
      "text/html": [
       "<div>\n",
       "<style scoped>\n",
       "    .dataframe tbody tr th:only-of-type {\n",
       "        vertical-align: middle;\n",
       "    }\n",
       "\n",
       "    .dataframe tbody tr th {\n",
       "        vertical-align: top;\n",
       "    }\n",
       "\n",
       "    .dataframe thead th {\n",
       "        text-align: right;\n",
       "    }\n",
       "</style>\n",
       "<table border=\"1\" class=\"dataframe\">\n",
       "  <thead>\n",
       "    <tr style=\"text-align: right;\">\n",
       "      <th></th>\n",
       "      <th>Entity</th>\n",
       "      <th>Code</th>\n",
       "      <th>Year</th>\n",
       "      <th>Internet_Usage</th>\n",
       "    </tr>\n",
       "  </thead>\n",
       "  <tbody>\n",
       "    <tr>\n",
       "      <th>0</th>\n",
       "      <td>Afghanistan</td>\n",
       "      <td>AFG</td>\n",
       "      <td>1990</td>\n",
       "      <td>0.000000</td>\n",
       "    </tr>\n",
       "    <tr>\n",
       "      <th>1</th>\n",
       "      <td>Afghanistan</td>\n",
       "      <td>AFG</td>\n",
       "      <td>1991</td>\n",
       "      <td>0.000000</td>\n",
       "    </tr>\n",
       "    <tr>\n",
       "      <th>2</th>\n",
       "      <td>Afghanistan</td>\n",
       "      <td>AFG</td>\n",
       "      <td>1992</td>\n",
       "      <td>0.000000</td>\n",
       "    </tr>\n",
       "    <tr>\n",
       "      <th>3</th>\n",
       "      <td>Afghanistan</td>\n",
       "      <td>AFG</td>\n",
       "      <td>1993</td>\n",
       "      <td>0.000000</td>\n",
       "    </tr>\n",
       "    <tr>\n",
       "      <th>4</th>\n",
       "      <td>Afghanistan</td>\n",
       "      <td>AFG</td>\n",
       "      <td>1994</td>\n",
       "      <td>0.000000</td>\n",
       "    </tr>\n",
       "    <tr>\n",
       "      <th>...</th>\n",
       "      <td>...</td>\n",
       "      <td>...</td>\n",
       "      <td>...</td>\n",
       "      <td>...</td>\n",
       "    </tr>\n",
       "    <tr>\n",
       "      <th>7084</th>\n",
       "      <td>Zimbabwe</td>\n",
       "      <td>ZWE</td>\n",
       "      <td>2013</td>\n",
       "      <td>15.500000</td>\n",
       "    </tr>\n",
       "    <tr>\n",
       "      <th>7085</th>\n",
       "      <td>Zimbabwe</td>\n",
       "      <td>ZWE</td>\n",
       "      <td>2014</td>\n",
       "      <td>16.364740</td>\n",
       "    </tr>\n",
       "    <tr>\n",
       "      <th>7086</th>\n",
       "      <td>Zimbabwe</td>\n",
       "      <td>ZWE</td>\n",
       "      <td>2015</td>\n",
       "      <td>22.742818</td>\n",
       "    </tr>\n",
       "    <tr>\n",
       "      <th>7087</th>\n",
       "      <td>Zimbabwe</td>\n",
       "      <td>ZWE</td>\n",
       "      <td>2016</td>\n",
       "      <td>23.119989</td>\n",
       "    </tr>\n",
       "    <tr>\n",
       "      <th>7088</th>\n",
       "      <td>Zimbabwe</td>\n",
       "      <td>ZWE</td>\n",
       "      <td>2017</td>\n",
       "      <td>27.055488</td>\n",
       "    </tr>\n",
       "  </tbody>\n",
       "</table>\n",
       "<p>7089 rows × 4 columns</p>\n",
       "</div>"
      ],
      "text/plain": [
       "           Entity Code  Year  Internet_Usage\n",
       "0     Afghanistan  AFG  1990        0.000000\n",
       "1     Afghanistan  AFG  1991        0.000000\n",
       "2     Afghanistan  AFG  1992        0.000000\n",
       "3     Afghanistan  AFG  1993        0.000000\n",
       "4     Afghanistan  AFG  1994        0.000000\n",
       "...           ...  ...   ...             ...\n",
       "7084     Zimbabwe  ZWE  2013       15.500000\n",
       "7085     Zimbabwe  ZWE  2014       16.364740\n",
       "7086     Zimbabwe  ZWE  2015       22.742818\n",
       "7087     Zimbabwe  ZWE  2016       23.119989\n",
       "7088     Zimbabwe  ZWE  2017       27.055488\n",
       "\n",
       "[7089 rows x 4 columns]"
      ]
     },
     "execution_count": 5,
     "metadata": {},
     "output_type": "execute_result"
    }
   ],
   "source": [
    "internet\n"
   ]
  },
  {
   "cell_type": "code",
   "execution_count": 6,
   "metadata": {},
   "outputs": [
    {
     "data": {
      "text/html": [
       "<div>\n",
       "<style scoped>\n",
       "    .dataframe tbody tr th:only-of-type {\n",
       "        vertical-align: middle;\n",
       "    }\n",
       "\n",
       "    .dataframe tbody tr th {\n",
       "        vertical-align: top;\n",
       "    }\n",
       "\n",
       "    .dataframe thead th {\n",
       "        text-align: right;\n",
       "    }\n",
       "</style>\n",
       "<table border=\"1\" class=\"dataframe\">\n",
       "  <thead>\n",
       "    <tr style=\"text-align: right;\">\n",
       "      <th></th>\n",
       "      <th>Entity</th>\n",
       "      <th>Code</th>\n",
       "      <th>Year</th>\n",
       "      <th>Broadband_Subscriptions</th>\n",
       "    </tr>\n",
       "  </thead>\n",
       "  <tbody>\n",
       "    <tr>\n",
       "      <th>0</th>\n",
       "      <td>Afghanistan</td>\n",
       "      <td>AFG</td>\n",
       "      <td>2004</td>\n",
       "      <td>0.000809</td>\n",
       "    </tr>\n",
       "    <tr>\n",
       "      <th>1</th>\n",
       "      <td>Afghanistan</td>\n",
       "      <td>AFG</td>\n",
       "      <td>2005</td>\n",
       "      <td>0.000858</td>\n",
       "    </tr>\n",
       "    <tr>\n",
       "      <th>2</th>\n",
       "      <td>Afghanistan</td>\n",
       "      <td>AFG</td>\n",
       "      <td>2006</td>\n",
       "      <td>0.001892</td>\n",
       "    </tr>\n",
       "    <tr>\n",
       "      <th>3</th>\n",
       "      <td>Afghanistan</td>\n",
       "      <td>AFG</td>\n",
       "      <td>2007</td>\n",
       "      <td>0.001845</td>\n",
       "    </tr>\n",
       "    <tr>\n",
       "      <th>4</th>\n",
       "      <td>Afghanistan</td>\n",
       "      <td>AFG</td>\n",
       "      <td>2008</td>\n",
       "      <td>0.001804</td>\n",
       "    </tr>\n",
       "    <tr>\n",
       "      <th>...</th>\n",
       "      <td>...</td>\n",
       "      <td>...</td>\n",
       "      <td>...</td>\n",
       "      <td>...</td>\n",
       "    </tr>\n",
       "    <tr>\n",
       "      <th>3883</th>\n",
       "      <td>Zimbabwe</td>\n",
       "      <td>ZWE</td>\n",
       "      <td>2016</td>\n",
       "      <td>1.217633</td>\n",
       "    </tr>\n",
       "    <tr>\n",
       "      <th>3884</th>\n",
       "      <td>Zimbabwe</td>\n",
       "      <td>ZWE</td>\n",
       "      <td>2017</td>\n",
       "      <td>1.315694</td>\n",
       "    </tr>\n",
       "    <tr>\n",
       "      <th>3885</th>\n",
       "      <td>Zimbabwe</td>\n",
       "      <td>ZWE</td>\n",
       "      <td>2018</td>\n",
       "      <td>1.406322</td>\n",
       "    </tr>\n",
       "    <tr>\n",
       "      <th>3886</th>\n",
       "      <td>Zimbabwe</td>\n",
       "      <td>ZWE</td>\n",
       "      <td>2019</td>\n",
       "      <td>1.395818</td>\n",
       "    </tr>\n",
       "    <tr>\n",
       "      <th>3887</th>\n",
       "      <td>Zimbabwe</td>\n",
       "      <td>ZWE</td>\n",
       "      <td>2020</td>\n",
       "      <td>1.368916</td>\n",
       "    </tr>\n",
       "  </tbody>\n",
       "</table>\n",
       "<p>3888 rows × 4 columns</p>\n",
       "</div>"
      ],
      "text/plain": [
       "           Entity Code  Year  Broadband_Subscriptions\n",
       "0     Afghanistan  AFG  2004                 0.000809\n",
       "1     Afghanistan  AFG  2005                 0.000858\n",
       "2     Afghanistan  AFG  2006                 0.001892\n",
       "3     Afghanistan  AFG  2007                 0.001845\n",
       "4     Afghanistan  AFG  2008                 0.001804\n",
       "...           ...  ...   ...                      ...\n",
       "3883     Zimbabwe  ZWE  2016                 1.217633\n",
       "3884     Zimbabwe  ZWE  2017                 1.315694\n",
       "3885     Zimbabwe  ZWE  2018                 1.406322\n",
       "3886     Zimbabwe  ZWE  2019                 1.395818\n",
       "3887     Zimbabwe  ZWE  2020                 1.368916\n",
       "\n",
       "[3888 rows x 4 columns]"
      ]
     },
     "execution_count": 6,
     "metadata": {},
     "output_type": "execute_result"
    }
   ],
   "source": [
    "broadband"
   ]
  },
  {
   "attachments": {},
   "cell_type": "markdown",
   "metadata": {},
   "source": [
    "# The data\n",
    "\n",
    "#### The research team compiled the following tables ([source](https://ourworldindata.org/internet)):\n",
    "\n",
    "#### internet\n",
    "- \"Entity\" - The name of the country, region, or group.\n",
    "- \"Code\" - Unique id for the country (null for other entities).\n",
    "- \"Year\" - Year from 1990 to 2019.\n",
    "- \"Internet_usage\" -  The share of the entity's population who have used the internet in the last three months.\n",
    "\n",
    "#### people\n",
    "- \"Entity\" - The name of the country, region, or group.\n",
    "- \"Code\" - Unique id for the country (null for other entities).\n",
    "- \"Year\" - Year from 1990 to 2020.\n",
    "- \"Users\" - The number of people who have used the internet in the last three months for that country, region, or group.\n",
    "\n",
    "#### broadband\n",
    "- \"Entity\" - The name of the country, region, or group.\n",
    "- \"Code\" - Unique id for the country (null for other entities).\n",
    "- \"Year\" - Year from 1998 to 2020.\n",
    "- \"Broadband_Subscriptions\" - The number of fixed subscriptions to high-speed internet at downstream speeds >= 256 kbit/s for that country, region, or group.\n",
    "\n",
    "_**Acknowledgments**: Max Roser, Hannah Ritchie, and Esteban Ortiz-Ospina (2015) - \"Internet.\" OurWorldInData.org._"
   ]
  },
  {
   "cell_type": "code",
   "execution_count": 7,
   "metadata": {},
   "outputs": [],
   "source": [
    "import pandas as pd\n",
    "import matplotlib.pyplot as plt\n",
    "import seaborn as sns\n",
    "import numpy as np\n",
    "import plotly.express as px"
   ]
  },
  {
   "cell_type": "code",
   "execution_count": 8,
   "metadata": {},
   "outputs": [
    {
     "data": {
      "text/plain": [
       "Entity\n",
       "Bahrain                 99.701504\n",
       "Qatar                   99.652804\n",
       "Kuwait                  99.542676\n",
       "United Arab Emirates    99.149998\n",
       "Denmark                 98.046435\n",
       "Name: Internet_Usage, dtype: float64"
      ]
     },
     "execution_count": 8,
     "metadata": {},
     "output_type": "execute_result"
    }
   ],
   "source": [
    "# What are the top 5 countries with the highest internet use (by population share)?\n",
    "top_five = internet.query('Year == 2019')\n",
    "top_five = top_five.groupby('Entity')['Internet_Usage'].sum()\n",
    "top_five = top_five.sort_values(ascending=False).head(5)\n",
    "top_five"
   ]
  },
  {
   "cell_type": "code",
   "execution_count": 9,
   "metadata": {},
   "outputs": [
    {
     "data": {
      "text/html": [
       "<div>\n",
       "<style scoped>\n",
       "    .dataframe tbody tr th:only-of-type {\n",
       "        vertical-align: middle;\n",
       "    }\n",
       "\n",
       "    .dataframe tbody tr th {\n",
       "        vertical-align: top;\n",
       "    }\n",
       "\n",
       "    .dataframe thead th {\n",
       "        text-align: right;\n",
       "    }\n",
       "</style>\n",
       "<table border=\"1\" class=\"dataframe\">\n",
       "  <thead>\n",
       "    <tr style=\"text-align: right;\">\n",
       "      <th></th>\n",
       "      <th>Year</th>\n",
       "      <th>Entity</th>\n",
       "      <th>Users</th>\n",
       "    </tr>\n",
       "  </thead>\n",
       "  <tbody>\n",
       "    <tr>\n",
       "      <th>5986</th>\n",
       "      <td>2019</td>\n",
       "      <td>United Arab Emirates</td>\n",
       "      <td>9133361</td>\n",
       "    </tr>\n",
       "    <tr>\n",
       "      <th>1565</th>\n",
       "      <td>2019</td>\n",
       "      <td>Denmark</td>\n",
       "      <td>5682653</td>\n",
       "    </tr>\n",
       "    <tr>\n",
       "      <th>3091</th>\n",
       "      <td>2019</td>\n",
       "      <td>Kuwait</td>\n",
       "      <td>4420795</td>\n",
       "    </tr>\n",
       "    <tr>\n",
       "      <th>4728</th>\n",
       "      <td>2019</td>\n",
       "      <td>Qatar</td>\n",
       "      <td>2797495</td>\n",
       "    </tr>\n",
       "    <tr>\n",
       "      <th>477</th>\n",
       "      <td>2019</td>\n",
       "      <td>Bahrain</td>\n",
       "      <td>1489735</td>\n",
       "    </tr>\n",
       "  </tbody>\n",
       "</table>\n",
       "</div>"
      ],
      "text/plain": [
       "      Year                Entity    Users\n",
       "5986  2019  United Arab Emirates  9133361\n",
       "1565  2019               Denmark  5682653\n",
       "3091  2019                Kuwait  4420795\n",
       "4728  2019                 Qatar  2797495\n",
       "477   2019               Bahrain  1489735"
      ]
     },
     "execution_count": 9,
     "metadata": {},
     "output_type": "execute_result"
    }
   ],
   "source": [
    "# How many people had internet access in those countries in 2019?\n",
    "countries_users_2019 = people[people['Entity'].isin(top_five.index)]\n",
    "countries_users_2019 = countries_users_2019 [(countries_users_2019 ['Year'] == 2019)].sort_values(ascending=False, by ='Users' )\n",
    "countries_users_2019 = countries_users_2019[['Year', 'Entity', 'Users' ]]\n",
    "countries_users_2019"
   ]
  },
  {
   "cell_type": "code",
   "execution_count": 10,
   "metadata": {},
   "outputs": [],
   "source": [
    "# What are the top 5 countries with the highest internet use for each of the following regions:\n",
    "new = internet.dropna(axis=0, subset=('Code', ))\n",
    "new = new.query ('Entity != \"World\"')\n",
    "\n",
    "df1 = pd.read_html('https://statisticstimes.com/geography/countries-by-continents.php', thousands=None, decimal=',')\n",
    "may = df1[2]\n",
    "may.rename (columns= {'ISO-alpha3 Code':'Code'}, inplace = True )\n",
    "\n",
    "countries = new.merge(may, how = \"left\")"
   ]
  },
  {
   "cell_type": "code",
   "execution_count": 12,
   "metadata": {},
   "outputs": [
    {
     "data": {
      "text/plain": [
       "Entity\n",
       "Seychelles      58.769811\n",
       "South Africa    56.167394\n",
       "Djibouti        55.681409\n",
       "Mauritius       55.403240\n",
       "Botswana        41.413795\n",
       "Name: Internet_Usage, dtype: float64"
      ]
     },
     "execution_count": 12,
     "metadata": {},
     "output_type": "execute_result"
    }
   ],
   "source": [
    "# Africa eastern and southern\n",
    "aes = 'Eastern Africa', 'Southern Africa'\n",
    "aes1 = countries[countries['Region 1'].isin(aes)]\n",
    "aes1 = aes1.query('Year == 2017')\n",
    "\n",
    "top_five_aes = aes1.groupby('Entity')['Internet_Usage'].sum().sort_values(ascending=False).head(5)\n",
    "top_five_aes"
   ]
  },
  {
   "cell_type": "code",
   "execution_count": 13,
   "metadata": {},
   "outputs": [
    {
     "data": {
      "text/plain": [
       "Entity\n",
       "Cape Verde       57.162146\n",
       "Cote d'Ivoire    43.839921\n",
       "Ghana            37.884153\n",
       "Senegal          29.643124\n",
       "Mauritania       20.800964\n",
       "Name: Internet_Usage, dtype: float64"
      ]
     },
     "execution_count": 13,
     "metadata": {},
     "output_type": "execute_result"
    }
   ],
   "source": [
    "# Africa west and central\n",
    "awc = 'Western Africa', 'Central Africa'\n",
    "awc1 = countries[countries['Region 1'].isin(awc)]\n",
    "awc1 = awc1.query('Year == 2017')\n",
    "top_five_awc = awc1.groupby('Entity')['Internet_Usage'].sum().sort_values(ascending=False).head(5)\n",
    "top_five_awc"
   ]
  },
  {
   "cell_type": "code",
   "execution_count": null,
   "metadata": {},
   "outputs": [
    {
     "data": {
      "text/plain": [
       "Entity\n",
       "Aruba             97.170000\n",
       "Bahamas           85.000000\n",
       "Chile             82.327487\n",
       "Barbados          81.760778\n",
       "Cayman Islands    81.067693\n",
       "Name: Internet_Usage, dtype: float64"
      ]
     },
     "execution_count": 82,
     "metadata": {},
     "output_type": "execute_result"
    }
   ],
   "source": [
    "# Latin america and caribean\n",
    "lac = [\"Latin America and the Caribbean\"]\n",
    "lac1 = countries[countries['Region 2'].isin(lac)]\n",
    "lac1 = lac1.query('Year == 2017')\n",
    "top_five_lac = lac1.groupby('Entity')['Internet_Usage'].sum().sort_values(ascending=False).head(5)\n",
    "top_five_lac"
   ]
  },
  {
   "cell_type": "code",
   "execution_count": 14,
   "metadata": {},
   "outputs": [
    {
     "data": {
      "text/plain": [
       "Entity\n",
       "South Korea    95.069422\n",
       "Japan          91.726547\n",
       "New Zealand    90.811093\n",
       "Hong Kong      89.415945\n",
       "Australia      86.545049\n",
       "Name: Internet_Usage, dtype: float64"
      ]
     },
     "execution_count": 14,
     "metadata": {},
     "output_type": "execute_result"
    }
   ],
   "source": [
    "# East asia and pacific\n",
    "eap1 = countries[(countries['Region 1'] == 'Eastern Asia') | (countries['Continent'] == 'Oceania')]\n",
    "eap1 = eap1.query('Year == 2017')\n",
    "top_five_eap = eap1.groupby('Entity')['Internet_Usage'].sum().sort_values(ascending=False).head(5)\n",
    "top_five_eap"
   ]
  },
  {
   "cell_type": "code",
   "execution_count": 15,
   "metadata": {},
   "outputs": [
    {
     "data": {
      "text/plain": [
       "Entity\n",
       "Iran         64.043974\n",
       "Maldives     63.185666\n",
       "Sri Lanka    34.113348\n",
       "India        32.000000\n",
       "Nepal        21.403510\n",
       "Name: Internet_Usage, dtype: float64"
      ]
     },
     "execution_count": 15,
     "metadata": {},
     "output_type": "execute_result"
    }
   ],
   "source": [
    "# South Asia\n",
    "sa = [\"Southern Asia\"]\n",
    "sa1 = countries[countries['Region 1'].isin(sa)]\n",
    "sa1 = sa1.query('Year == 2017')\n",
    "top_five_sa = sa1.groupby('Entity')['Internet_Usage'].sum().sort_values(ascending=False).head(5)\n",
    "top_five_sa"
   ]
  },
  {
   "cell_type": "code",
   "execution_count": 16,
   "metadata": {},
   "outputs": [
    {
     "data": {
      "text/plain": [
       "Entity\n",
       "Bermuda          98.370000\n",
       "Aruba            97.170000\n",
       "Canada           92.701372\n",
       "United States    87.274889\n",
       "Bahamas          85.000000\n",
       "Name: Internet_Usage, dtype: float64"
      ]
     },
     "execution_count": 16,
     "metadata": {},
     "output_type": "execute_result"
    }
   ],
   "source": [
    "# North america\n",
    "na = [\"North America\"]\n",
    "na1 = countries[countries['Continent'].isin(na)]\n",
    "na1 = na1.query('Year == 2017')\n",
    "top_five_na = na1.groupby('Entity')['Internet_Usage'].sum().sort_values(ascending=False).head(5)\n",
    "top_five_na"
   ]
  },
  {
   "cell_type": "code",
   "execution_count": 17,
   "metadata": {},
   "outputs": [
    {
     "data": {
      "text/plain": [
       "Entity\n",
       "Denmark        98.046435\n",
       "Sweden         94.493443\n",
       "Netherlands    93.288591\n",
       "Spain          90.718665\n",
       "Belgium        90.370513\n",
       "Name: Internet_Usage, dtype: float64"
      ]
     },
     "execution_count": 17,
     "metadata": {},
     "output_type": "execute_result"
    }
   ],
   "source": [
    "# European union\n",
    "eu =  'Austria', 'Belgium', 'Bulgaria', 'Croatia', 'Cyprus', 'Czechia', 'Denmark', 'Estonia', 'Finland', 'France', 'Germany', 'Greece', 'Hungary', 'Ireland', 'Italy', 'Latvia', 'Lithuania', 'Luxembourg', 'Malta', 'Netherlands', 'Poland', 'Portugal', 'Romania', 'Slovakia', 'Slovenia', 'Spain', 'Sweden'\n",
    "eu1 = internet[internet['Entity'].isin(eu)]\n",
    "eu1 = eu1.query('Year == 2019')\n",
    "top_five_eu = eu1.groupby('Entity')['Internet_Usage'].sum().sort_values(ascending=False).head(5)\n",
    "top_five_eu"
   ]
  },
  {
   "cell_type": "code",
   "execution_count": 18,
   "metadata": {},
   "outputs": [
    {
     "data": {
      "text/plain": [
       "Entity\n",
       "Luxembourg     97.362960\n",
       "Denmark        97.099362\n",
       "Netherlands    93.197279\n",
       "Sweden         93.006267\n",
       "Estonia        88.102457\n",
       "Name: Internet_Usage, dtype: float64"
      ]
     },
     "execution_count": 18,
     "metadata": {},
     "output_type": "execute_result"
    }
   ],
   "source": [
    "# Top five countriea with highest internet use in eu\n",
    "eu1 = internet[internet['Entity'].isin(eu)]\n",
    "eu1 = eu1.query('Year == 2017')\n",
    "top_five_eu = eu1.groupby('Entity')['Internet_Usage'].sum().sort_values(ascending=False).head(5)\n",
    "top_five_eu"
   ]
  },
  {
   "cell_type": "code",
   "execution_count": 19,
   "metadata": {},
   "outputs": [
    {
     "data": {
      "text/plain": [
       "array(['Africa Eastern and Southern', 'Africa Western and Central',\n",
       "       'East Asia & Pacific', 'European Union',\n",
       "       'Latin America & Caribbean', 'North America', 'South Asia'],\n",
       "      dtype=object)"
      ]
     },
     "execution_count": 19,
     "metadata": {},
     "output_type": "execute_result"
    }
   ],
   "source": [
    "# viz\n",
    "seven = internet\n",
    "region3 = 'Africa Eastern and Southern', 'Africa Western and Central', 'Latin America & Caribbean', 'East Asia & Pacific', 'South Asia', 'North America', 'European Union'\n",
    "seven_regions = internet[internet['Entity'].isin(region3)]\n",
    "seven_regions.Entity.unique()"
   ]
  },
  {
   "cell_type": "code",
   "execution_count": 20,
   "metadata": {},
   "outputs": [
    {
     "data": {
      "image/png": "[encoded data removed]",
      "text/plain": [
       "<Figure size 1400x700 with 1 Axes>"
      ]
     },
     "metadata": {},
     "output_type": "display_data"
    }
   ],
   "source": [
    "plt.figure(figsize=(14,7))\n",
    "sns.lineplot(data=seven_regions,  x = 'Year', y = 'Internet_Usage', hue = 'Entity', palette = 'inferno').set(title='Internet usage over time for seven regions');\n"
   ]
  },
  {
   "cell_type": "code",
   "execution_count": 21,
   "metadata": {},
   "outputs": [
    {
     "data": {
      "application/vnd.plotly.v1+json": {
       "config": {
        "plotlyServerURL": "https://plot.ly"
       },
       "data": [
        {
         "alignmentgroup": "True",
         "hovertemplate": "Entity=%{x}<br>Year=1990<br>Internet_Usage=%{y}<extra></extra>",
         "ids": [
          "Africa Eastern and Southern"
         ],
         "legendgroup": "Africa Eastern and Southern",
         "marker": {
          "color": "#000004",
          "pattern": {
           "shape": ""
          }
         },
         "name": "Africa Eastern and Southern",
         "offsetgroup": "Africa Eastern and Southern",
         "orientation": "v",
         "showlegend": true,
         "textposition": "auto",
         "type": "bar",
         "x": [
          "Africa Eastern and Southern"
         ],
         "xaxis": "x",
         "y": [
          0
         ],
         "yaxis": "y"
        },
        {
         "alignmentgroup": "True",
         "hovertemplate": "Entity=%{x}<br>Year=1990<br>Internet_Usage=%{y}<extra></extra>",
         "ids": [
          "Africa Western and Central"
         ],
         "legendgroup": "Africa Western and Central",
         "marker": {
          "color": "#1b0c41",
          "pattern": {
           "shape": ""
          }
         },
         "name": "Africa Western and Central",
         "offsetgroup": "Africa Western and Central",
         "orientation": "v",
         "showlegend": true,
         "textposition": "auto",
         "type": "bar",
         "x": [
          "Africa Western and Central"
         ],
         "xaxis": "x",
         "y": [
          0
         ],
         "yaxis": "y"
        },
        {
         "alignmentgroup": "True",
         "hovertemplate": "Entity=%{x}<br>Year=1990<br>Internet_Usage=%{y}<extra></extra>",
         "ids": [
          "East Asia & Pacific"
         ],
         "legendgroup": "East Asia & Pacific",
         "marker": {
          "color": "#4a0c6b",
          "pattern": {
           "shape": ""
          }
         },
         "name": "East Asia & Pacific",
         "offsetgroup": "East Asia & Pacific",
         "orientation": "v",
         "showlegend": true,
         "textposition": "auto",
         "type": "bar",
         "x": [
          "East Asia & Pacific"
         ],
         "xaxis": "x",
         "y": [
          0.0072108745794878
         ],
         "yaxis": "y"
        },
        {
         "alignmentgroup": "True",
         "hovertemplate": "Entity=%{x}<br>Year=1990<br>Internet_Usage=%{y}<extra></extra>",
         "ids": [
          "European Union"
         ],
         "legendgroup": "European Union",
         "marker": {
          "color": "#781c6d",
          "pattern": {
           "shape": ""
          }
         },
         "name": "European Union",
         "offsetgroup": "European Union",
         "orientation": "v",
         "showlegend": true,
         "textposition": "auto",
         "type": "bar",
         "x": [
          "European Union"
         ],
         "xaxis": "x",
         "y": [
          0.0667223726931025
         ],
         "yaxis": "y"
        },
        {
         "alignmentgroup": "True",
         "hovertemplate": "Entity=%{x}<br>Year=1990<br>Internet_Usage=%{y}<extra></extra>",
         "ids": [
          "Latin America & Caribbean"
         ],
         "legendgroup": "Latin America & Caribbean",
         "marker": {
          "color": "#a52c60",
          "pattern": {
           "shape": ""
          }
         },
         "name": "Latin America & Caribbean",
         "offsetgroup": "Latin America & Caribbean",
         "orientation": "v",
         "showlegend": true,
         "textposition": "auto",
         "type": "bar",
         "x": [
          "Latin America & Caribbean"
         ],
         "xaxis": "x",
         "y": [
          0
         ],
         "yaxis": "y"
        },
        {
         "alignmentgroup": "True",
         "hovertemplate": "Entity=%{x}<br>Year=1990<br>Internet_Usage=%{y}<extra></extra>",
         "ids": [
          "North America"
         ],
         "legendgroup": "North America",
         "marker": {
          "color": "#cf4446",
          "pattern": {
           "shape": ""
          }
         },
         "name": "North America",
         "offsetgroup": "North America",
         "orientation": "v",
         "showlegend": true,
         "textposition": "auto",
         "type": "bar",
         "x": [
          "North America"
         ],
         "xaxis": "x",
         "y": [
          0.742835611324641
         ],
         "yaxis": "y"
        },
        {
         "alignmentgroup": "True",
         "hovertemplate": "Entity=%{x}<br>Year=1990<br>Internet_Usage=%{y}<extra></extra>",
         "ids": [
          "South Asia"
         ],
         "legendgroup": "South Asia",
         "marker": {
          "color": "#ed6925",
          "pattern": {
           "shape": ""
          }
         },
         "name": "South Asia",
         "offsetgroup": "South Asia",
         "orientation": "v",
         "showlegend": true,
         "textposition": "auto",
         "type": "bar",
         "x": [
          "South Asia"
         ],
         "xaxis": "x",
         "y": [
          0
         ],
         "yaxis": "y"
        }
       ],
       "frames": [
        {
         "data": [
          {
           "alignmentgroup": "True",
           "hovertemplate": "Entity=%{x}<br>Year=1990<br>Internet_Usage=%{y}<extra></extra>",
           "ids": [
            "Africa Eastern and Southern"
           ],
           "legendgroup": "Africa Eastern and Southern",
           "marker": {
            "color": "#000004",
            "pattern": {
             "shape": ""
            }
           },
           "name": "Africa Eastern and Southern",
           "offsetgroup": "Africa Eastern and Southern",
           "orientation": "v",
           "showlegend": true,
           "textposition": "auto",
           "type": "bar",
           "x": [
            "Africa Eastern and Southern"
           ],
           "xaxis": "x",
           "y": [
            0
           ],
           "yaxis": "y"
          },
          {
           "alignmentgroup": "True",
           "hovertemplate": "Entity=%{x}<br>Year=1990<br>Internet_Usage=%{y}<extra></extra>",
           "ids": [
            "Africa Western and Central"
           ],
           "legendgroup": "Africa Western and Central",
           "marker": {
            "color": "#1b0c41",
            "pattern": {
             "shape": ""
            }
           },
           "name": "Africa Western and Central",
           "offsetgroup": "Africa Western and Central",
           "orientation": "v",
           "showlegend": true,
           "textposition": "auto",
           "type": "bar",
           "x": [
            "Africa Western and Central"
           ],
           "xaxis": "x",
           "y": [
            0
           ],
           "yaxis": "y"
          },
          {
           "alignmentgroup": "True",
           "hovertemplate": "Entity=%{x}<br>Year=1990<br>Internet_Usage=%{y}<extra></extra>",
           "ids": [
            "East Asia & Pacific"
           ],
           "legendgroup": "East Asia & Pacific",
           "marker": {
            "color": "#4a0c6b",
            "pattern": {
             "shape": ""
            }
           },
           "name": "East Asia & Pacific",
           "offsetgroup": "East Asia & Pacific",
           "orientation": "v",
           "showlegend": true,
           "textposition": "auto",
           "type": "bar",
           "x": [
            "East Asia & Pacific"
           ],
           "xaxis": "x",
           "y": [
            0.0072108745794878
           ],
           "yaxis": "y"
          },
          {
           "alignmentgroup": "True",
           "hovertemplate": "Entity=%{x}<br>Year=1990<br>Internet_Usage=%{y}<extra></extra>",
           "ids": [
            "European Union"
           ],
           "legendgroup": "European Union",
           "marker": {
            "color": "#781c6d",
            "pattern": {
             "shape": ""
            }
           },
           "name": "European Union",
           "offsetgroup": "European Union",
           "orientation": "v",
           "showlegend": true,
           "textposition": "auto",
           "type": "bar",
           "x": [
            "European Union"
           ],
           "xaxis": "x",
           "y": [
            0.0667223726931025
           ],
           "yaxis": "y"
          },
          {
           "alignmentgroup": "True",
           "hovertemplate": "Entity=%{x}<br>Year=1990<br>Internet_Usage=%{y}<extra></extra>",
           "ids": [
            "Latin America & Caribbean"
           ],
           "legendgroup": "Latin America & Caribbean",
           "marker": {
            "color": "#a52c60",
            "pattern": {
             "shape": ""
            }
           },
           "name": "Latin America & Caribbean",
           "offsetgroup": "Latin America & Caribbean",
           "orientation": "v",
           "showlegend": true,
           "textposition": "auto",
           "type": "bar",
           "x": [
            "Latin America & Caribbean"
           ],
           "xaxis": "x",
           "y": [
            0
           ],
           "yaxis": "y"
          },
          {
           "alignmentgroup": "True",
           "hovertemplate": "Entity=%{x}<br>Year=1990<br>Internet_Usage=%{y}<extra></extra>",
           "ids": [
            "North America"
           ],
           "legendgroup": "North America",
           "marker": {
            "color": "#cf4446",
            "pattern": {
             "shape": ""
            }
           },
           "name": "North America",
           "offsetgroup": "North America",
           "orientation": "v",
           "showlegend": true,
           "textposition": "auto",
           "type": "bar",
           "x": [
            "North America"
           ],
           "xaxis": "x",
           "y": [
            0.742835611324641
           ],
           "yaxis": "y"
          },
          {
           "alignmentgroup": "True",
           "hovertemplate": "Entity=%{x}<br>Year=1990<br>Internet_Usage=%{y}<extra></extra>",
           "ids": [
            "South Asia"
           ],
           "legendgroup": "South Asia",
           "marker": {
            "color": "#ed6925",
            "pattern": {
             "shape": ""
            }
           },
           "name": "South Asia",
           "offsetgroup": "South Asia",
           "orientation": "v",
           "showlegend": true,
           "textposition": "auto",
           "type": "bar",
           "x": [
            "South Asia"
           ],
           "xaxis": "x",
           "y": [
            0
           ],
           "yaxis": "y"
          }
         ],
         "name": "1990"
        },
        {
         "data": [
          {
           "alignmentgroup": "True",
           "hovertemplate": "Entity=%{x}<br>Year=1991<br>Internet_Usage=%{y}<extra></extra>",
           "ids": [
            "Africa Eastern and Southern"
           ],
           "legendgroup": "Africa Eastern and Southern",
           "marker": {
            "color": "#000004",
            "pattern": {
             "shape": ""
            }
           },
           "name": "Africa Eastern and Southern",
           "offsetgroup": "Africa Eastern and Southern",
           "orientation": "v",
           "showlegend": true,
           "textposition": "auto",
           "type": "bar",
           "x": [
            "Africa Eastern and Southern"
           ],
           "xaxis": "x",
           "y": [
            0.0015987650680518
           ],
           "yaxis": "y"
          },
          {
           "alignmentgroup": "True",
           "hovertemplate": "Entity=%{x}<br>Year=1991<br>Internet_Usage=%{y}<extra></extra>",
           "ids": [
            "Africa Western and Central"
           ],
           "legendgroup": "Africa Western and Central",
           "marker": {
            "color": "#1b0c41",
            "pattern": {
             "shape": ""
            }
           },
           "name": "Africa Western and Central",
           "offsetgroup": "Africa Western and Central",
           "orientation": "v",
           "showlegend": true,
           "textposition": "auto",
           "type": "bar",
           "x": [
            "Africa Western and Central"
           ],
           "xaxis": "x",
           "y": [
            0
           ],
           "yaxis": "y"
          },
          {
           "alignmentgroup": "True",
           "hovertemplate": "Entity=%{x}<br>Year=1991<br>Internet_Usage=%{y}<extra></extra>",
           "ids": [
            "East Asia & Pacific"
           ],
           "legendgroup": "East Asia & Pacific",
           "marker": {
            "color": "#4a0c6b",
            "pattern": {
             "shape": ""
            }
           },
           "name": "East Asia & Pacific",
           "offsetgroup": "East Asia & Pacific",
           "orientation": "v",
           "showlegend": true,
           "textposition": "auto",
           "type": "bar",
           "x": [
            "East Asia & Pacific"
           ],
           "xaxis": "x",
           "y": [
            0.0148675340362716
           ],
           "yaxis": "y"
          },
          {
           "alignmentgroup": "True",
           "hovertemplate": "Entity=%{x}<br>Year=1991<br>Internet_Usage=%{y}<extra></extra>",
           "ids": [
            "European Union"
           ],
           "legendgroup": "European Union",
           "marker": {
            "color": "#781c6d",
            "pattern": {
             "shape": ""
            }
           },
           "name": "European Union",
           "offsetgroup": "European Union",
           "orientation": "v",
           "showlegend": true,
           "textposition": "auto",
           "type": "bar",
           "x": [
            "European Union"
           ],
           "xaxis": "x",
           "y": [
            0.145183745842492
           ],
           "yaxis": "y"
          },
          {
           "alignmentgroup": "True",
           "hovertemplate": "Entity=%{x}<br>Year=1991<br>Internet_Usage=%{y}<extra></extra>",
           "ids": [
            "Latin America & Caribbean"
           ],
           "legendgroup": "Latin America & Caribbean",
           "marker": {
            "color": "#a52c60",
            "pattern": {
             "shape": ""
            }
           },
           "name": "Latin America & Caribbean",
           "offsetgroup": "Latin America & Caribbean",
           "orientation": "v",
           "showlegend": true,
           "textposition": "auto",
           "type": "bar",
           "x": [
            "Latin America & Caribbean"
           ],
           "xaxis": "x",
           "y": [
            0.0022264823521394
           ],
           "yaxis": "y"
          },
          {
           "alignmentgroup": "True",
           "hovertemplate": "Entity=%{x}<br>Year=1991<br>Internet_Usage=%{y}<extra></extra>",
           "ids": [
            "North America"
           ],
           "legendgroup": "North America",
           "marker": {
            "color": "#cf4446",
            "pattern": {
             "shape": ""
            }
           },
           "name": "North America",
           "offsetgroup": "North America",
           "orientation": "v",
           "showlegend": true,
           "textposition": "auto",
           "type": "bar",
           "x": [
            "North America"
           ],
           "xaxis": "x",
           "y": [
            1.10441347317847
           ],
           "yaxis": "y"
          },
          {
           "alignmentgroup": "True",
           "hovertemplate": "Entity=%{x}<br>Year=1991<br>Internet_Usage=%{y}<extra></extra>",
           "ids": [
            "South Asia"
           ],
           "legendgroup": "South Asia",
           "marker": {
            "color": "#ed6925",
            "pattern": {
             "shape": ""
            }
           },
           "name": "South Asia",
           "offsetgroup": "South Asia",
           "orientation": "v",
           "showlegend": true,
           "textposition": "auto",
           "type": "bar",
           "x": [
            "South Asia"
           ],
           "xaxis": "x",
           "y": [
            0
           ],
           "yaxis": "y"
          }
         ],
         "name": "1991"
        },
        {
         "data": [
          {
           "alignmentgroup": "True",
           "hovertemplate": "Entity=%{x}<br>Year=1992<br>Internet_Usage=%{y}<extra></extra>",
           "ids": [
            "Africa Eastern and Southern"
           ],
           "legendgroup": "Africa Eastern and Southern",
           "marker": {
            "color": "#000004",
            "pattern": {
             "shape": ""
            }
           },
           "name": "Africa Eastern and Southern",
           "offsetgroup": "Africa Eastern and Southern",
           "orientation": "v",
           "showlegend": true,
           "textposition": "auto",
           "type": "bar",
           "x": [
            "Africa Eastern and Southern"
           ],
           "xaxis": "x",
           "y": [
            0.0046643105220642
           ],
           "yaxis": "y"
          },
          {
           "alignmentgroup": "True",
           "hovertemplate": "Entity=%{x}<br>Year=1992<br>Internet_Usage=%{y}<extra></extra>",
           "ids": [
            "Africa Western and Central"
           ],
           "legendgroup": "Africa Western and Central",
           "marker": {
            "color": "#1b0c41",
            "pattern": {
             "shape": ""
            }
           },
           "name": "Africa Western and Central",
           "offsetgroup": "Africa Western and Central",
           "orientation": "v",
           "showlegend": true,
           "textposition": "auto",
           "type": "bar",
           "x": [
            "Africa Western and Central"
           ],
           "xaxis": "x",
           "y": [
            0
           ],
           "yaxis": "y"
          },
          {
           "alignmentgroup": "True",
           "hovertemplate": "Entity=%{x}<br>Year=1992<br>Internet_Usage=%{y}<extra></extra>",
           "ids": [
            "East Asia & Pacific"
           ],
           "legendgroup": "East Asia & Pacific",
           "marker": {
            "color": "#4a0c6b",
            "pattern": {
             "shape": ""
            }
           },
           "name": "East Asia & Pacific",
           "offsetgroup": "East Asia & Pacific",
           "orientation": "v",
           "showlegend": true,
           "textposition": "auto",
           "type": "bar",
           "x": [
            "East Asia & Pacific"
           ],
           "xaxis": "x",
           "y": [
            0.0311976182830164
           ],
           "yaxis": "y"
          },
          {
           "alignmentgroup": "True",
           "hovertemplate": "Entity=%{x}<br>Year=1992<br>Internet_Usage=%{y}<extra></extra>",
           "ids": [
            "European Union"
           ],
           "legendgroup": "European Union",
           "marker": {
            "color": "#781c6d",
            "pattern": {
             "shape": ""
            }
           },
           "name": "European Union",
           "offsetgroup": "European Union",
           "orientation": "v",
           "showlegend": true,
           "textposition": "auto",
           "type": "bar",
           "x": [
            "European Union"
           ],
           "xaxis": "x",
           "y": [
            0.271839359869986
           ],
           "yaxis": "y"
          },
          {
           "alignmentgroup": "True",
           "hovertemplate": "Entity=%{x}<br>Year=1992<br>Internet_Usage=%{y}<extra></extra>",
           "ids": [
            "Latin America & Caribbean"
           ],
           "legendgroup": "Latin America & Caribbean",
           "marker": {
            "color": "#a52c60",
            "pattern": {
             "shape": ""
            }
           },
           "name": "Latin America & Caribbean",
           "offsetgroup": "Latin America & Caribbean",
           "orientation": "v",
           "showlegend": true,
           "textposition": "auto",
           "type": "bar",
           "x": [
            "Latin America & Caribbean"
           ],
           "xaxis": "x",
           "y": [
            0.0096374913979162
           ],
           "yaxis": "y"
          },
          {
           "alignmentgroup": "True",
           "hovertemplate": "Entity=%{x}<br>Year=1992<br>Internet_Usage=%{y}<extra></extra>",
           "ids": [
            "North America"
           ],
           "legendgroup": "North America",
           "marker": {
            "color": "#cf4446",
            "pattern": {
             "shape": ""
            }
           },
           "name": "North America",
           "offsetgroup": "North America",
           "orientation": "v",
           "showlegend": true,
           "textposition": "auto",
           "type": "bar",
           "x": [
            "North America"
           ],
           "xaxis": "x",
           "y": [
            1.643862685444
           ],
           "yaxis": "y"
          },
          {
           "alignmentgroup": "True",
           "hovertemplate": "Entity=%{x}<br>Year=1992<br>Internet_Usage=%{y}<extra></extra>",
           "ids": [
            "South Asia"
           ],
           "legendgroup": "South Asia",
           "marker": {
            "color": "#ed6925",
            "pattern": {
             "shape": ""
            }
           },
           "name": "South Asia",
           "offsetgroup": "South Asia",
           "orientation": "v",
           "showlegend": true,
           "textposition": "auto",
           "type": "bar",
           "x": [
            "South Asia"
           ],
           "xaxis": "x",
           "y": [
            0.0000854744513479
           ],
           "yaxis": "y"
          }
         ],
         "name": "1992"
        },
        {
         "data": [
          {
           "alignmentgroup": "True",
           "hovertemplate": "Entity=%{x}<br>Year=1993<br>Internet_Usage=%{y}<extra></extra>",
           "ids": [
            "Africa Eastern and Southern"
           ],
           "legendgroup": "Africa Eastern and Southern",
           "marker": {
            "color": "#000004",
            "pattern": {
             "shape": ""
            }
           },
           "name": "Africa Eastern and Southern",
           "offsetgroup": "Africa Eastern and Southern",
           "orientation": "v",
           "showlegend": true,
           "textposition": "auto",
           "type": "bar",
           "x": [
            "Africa Eastern and Southern"
           ],
           "xaxis": "x",
           "y": [
            0.0136089801269559
           ],
           "yaxis": "y"
          },
          {
           "alignmentgroup": "True",
           "hovertemplate": "Entity=%{x}<br>Year=1993<br>Internet_Usage=%{y}<extra></extra>",
           "ids": [
            "Africa Western and Central"
           ],
           "legendgroup": "Africa Western and Central",
           "marker": {
            "color": "#1b0c41",
            "pattern": {
             "shape": ""
            }
           },
           "name": "Africa Western and Central",
           "offsetgroup": "Africa Western and Central",
           "orientation": "v",
           "showlegend": true,
           "textposition": "auto",
           "type": "bar",
           "x": [
            "Africa Western and Central"
           ],
           "xaxis": "x",
           "y": [
            0
           ],
           "yaxis": "y"
          },
          {
           "alignmentgroup": "True",
           "hovertemplate": "Entity=%{x}<br>Year=1993<br>Internet_Usage=%{y}<extra></extra>",
           "ids": [
            "East Asia & Pacific"
           ],
           "legendgroup": "East Asia & Pacific",
           "marker": {
            "color": "#4a0c6b",
            "pattern": {
             "shape": ""
            }
           },
           "name": "East Asia & Pacific",
           "offsetgroup": "East Asia & Pacific",
           "orientation": "v",
           "showlegend": true,
           "textposition": "auto",
           "type": "bar",
           "x": [
            "East Asia & Pacific"
           ],
           "xaxis": "x",
           "y": [
            0.062183679879623
           ],
           "yaxis": "y"
          },
          {
           "alignmentgroup": "True",
           "hovertemplate": "Entity=%{x}<br>Year=1993<br>Internet_Usage=%{y}<extra></extra>",
           "ids": [
            "European Union"
           ],
           "legendgroup": "European Union",
           "marker": {
            "color": "#781c6d",
            "pattern": {
             "shape": ""
            }
           },
           "name": "European Union",
           "offsetgroup": "European Union",
           "orientation": "v",
           "showlegend": true,
           "textposition": "auto",
           "type": "bar",
           "x": [
            "European Union"
           ],
           "xaxis": "x",
           "y": [
            0.415061288233737
           ],
           "yaxis": "y"
          },
          {
           "alignmentgroup": "True",
           "hovertemplate": "Entity=%{x}<br>Year=1993<br>Internet_Usage=%{y}<extra></extra>",
           "ids": [
            "Latin America & Caribbean"
           ],
           "legendgroup": "Latin America & Caribbean",
           "marker": {
            "color": "#a52c60",
            "pattern": {
             "shape": ""
            }
           },
           "name": "Latin America & Caribbean",
           "offsetgroup": "Latin America & Caribbean",
           "orientation": "v",
           "showlegend": true,
           "textposition": "auto",
           "type": "bar",
           "x": [
            "Latin America & Caribbean"
           ],
           "xaxis": "x",
           "y": [
            0.0211212702156735
           ],
           "yaxis": "y"
          },
          {
           "alignmentgroup": "True",
           "hovertemplate": "Entity=%{x}<br>Year=1993<br>Internet_Usage=%{y}<extra></extra>",
           "ids": [
            "North America"
           ],
           "legendgroup": "North America",
           "marker": {
            "color": "#cf4446",
            "pattern": {
             "shape": ""
            }
           },
           "name": "North America",
           "offsetgroup": "North America",
           "orientation": "v",
           "showlegend": true,
           "textposition": "auto",
           "type": "bar",
           "x": [
            "North America"
           ],
           "xaxis": "x",
           "y": [
            2.16347177698383
           ],
           "yaxis": "y"
          },
          {
           "alignmentgroup": "True",
           "hovertemplate": "Entity=%{x}<br>Year=1993<br>Internet_Usage=%{y}<extra></extra>",
           "ids": [
            "South Asia"
           ],
           "legendgroup": "South Asia",
           "marker": {
            "color": "#ed6925",
            "pattern": {
             "shape": ""
            }
           },
           "name": "South Asia",
           "offsetgroup": "South Asia",
           "orientation": "v",
           "showlegend": true,
           "textposition": "auto",
           "type": "bar",
           "x": [
            "South Asia"
           ],
           "xaxis": "x",
           "y": [
            0.0001672419182815
           ],
           "yaxis": "y"
          }
         ],
         "name": "1993"
        },
        {
         "data": [
          {
           "alignmentgroup": "True",
           "hovertemplate": "Entity=%{x}<br>Year=1994<br>Internet_Usage=%{y}<extra></extra>",
           "ids": [
            "Africa Eastern and Southern"
           ],
           "legendgroup": "Africa Eastern and Southern",
           "marker": {
            "color": "#000004",
            "pattern": {
             "shape": ""
            }
           },
           "name": "Africa Eastern and Southern",
           "offsetgroup": "Africa Eastern and Southern",
           "orientation": "v",
           "showlegend": true,
           "textposition": "auto",
           "type": "bar",
           "x": [
            "Africa Eastern and Southern"
           ],
           "xaxis": "x",
           "y": [
            0.0296583471803235
           ],
           "yaxis": "y"
          },
          {
           "alignmentgroup": "True",
           "hovertemplate": "Entity=%{x}<br>Year=1994<br>Internet_Usage=%{y}<extra></extra>",
           "ids": [
            "Africa Western and Central"
           ],
           "legendgroup": "Africa Western and Central",
           "marker": {
            "color": "#1b0c41",
            "pattern": {
             "shape": ""
            }
           },
           "name": "Africa Western and Central",
           "offsetgroup": "Africa Western and Central",
           "orientation": "v",
           "showlegend": true,
           "textposition": "auto",
           "type": "bar",
           "x": [
            "Africa Western and Central"
           ],
           "xaxis": "x",
           "y": [
            0.0000043016238906
           ],
           "yaxis": "y"
          },
          {
           "alignmentgroup": "True",
           "hovertemplate": "Entity=%{x}<br>Year=1994<br>Internet_Usage=%{y}<extra></extra>",
           "ids": [
            "East Asia & Pacific"
           ],
           "legendgroup": "East Asia & Pacific",
           "marker": {
            "color": "#4a0c6b",
            "pattern": {
             "shape": ""
            }
           },
           "name": "East Asia & Pacific",
           "offsetgroup": "East Asia & Pacific",
           "orientation": "v",
           "showlegend": true,
           "textposition": "auto",
           "type": "bar",
           "x": [
            "East Asia & Pacific"
           ],
           "xaxis": "x",
           "y": [
            0.107776621019807
           ],
           "yaxis": "y"
          },
          {
           "alignmentgroup": "True",
           "hovertemplate": "Entity=%{x}<br>Year=1994<br>Internet_Usage=%{y}<extra></extra>",
           "ids": [
            "European Union"
           ],
           "legendgroup": "European Union",
           "marker": {
            "color": "#781c6d",
            "pattern": {
             "shape": ""
            }
           },
           "name": "European Union",
           "offsetgroup": "European Union",
           "orientation": "v",
           "showlegend": true,
           "textposition": "auto",
           "type": "bar",
           "x": [
            "European Union"
           ],
           "xaxis": "x",
           "y": [
            0.785199202952114
           ],
           "yaxis": "y"
          },
          {
           "alignmentgroup": "True",
           "hovertemplate": "Entity=%{x}<br>Year=1994<br>Internet_Usage=%{y}<extra></extra>",
           "ids": [
            "Latin America & Caribbean"
           ],
           "legendgroup": "Latin America & Caribbean",
           "marker": {
            "color": "#a52c60",
            "pattern": {
             "shape": ""
            }
           },
           "name": "Latin America & Caribbean",
           "offsetgroup": "Latin America & Caribbean",
           "orientation": "v",
           "showlegend": true,
           "textposition": "auto",
           "type": "bar",
           "x": [
            "Latin America & Caribbean"
           ],
           "xaxis": "x",
           "y": [
            0.0434068906029553
           ],
           "yaxis": "y"
          },
          {
           "alignmentgroup": "True",
           "hovertemplate": "Entity=%{x}<br>Year=1994<br>Internet_Usage=%{y}<extra></extra>",
           "ids": [
            "North America"
           ],
           "legendgroup": "North America",
           "marker": {
            "color": "#cf4446",
            "pattern": {
             "shape": ""
            }
           },
           "name": "North America",
           "offsetgroup": "North America",
           "orientation": "v",
           "showlegend": true,
           "textposition": "auto",
           "type": "bar",
           "x": [
            "North America"
           ],
           "xaxis": "x",
           "y": [
            4.61550020464823
           ],
           "yaxis": "y"
          },
          {
           "alignmentgroup": "True",
           "hovertemplate": "Entity=%{x}<br>Year=1994<br>Internet_Usage=%{y}<extra></extra>",
           "ids": [
            "South Asia"
           ],
           "legendgroup": "South Asia",
           "marker": {
            "color": "#ed6925",
            "pattern": {
             "shape": ""
            }
           },
           "name": "South Asia",
           "offsetgroup": "South Asia",
           "orientation": "v",
           "showlegend": true,
           "textposition": "auto",
           "type": "bar",
           "x": [
            "South Asia"
           ],
           "xaxis": "x",
           "y": [
            0.0008589660816701
           ],
           "yaxis": "y"
          }
         ],
         "name": "1994"
        },
        {
         "data": [
          {
           "alignmentgroup": "True",
           "hovertemplate": "Entity=%{x}<br>Year=1995<br>Internet_Usage=%{y}<extra></extra>",
           "ids": [
            "Africa Eastern and Southern"
           ],
           "legendgroup": "Africa Eastern and Southern",
           "marker": {
            "color": "#000004",
            "pattern": {
             "shape": ""
            }
           },
           "name": "Africa Eastern and Southern",
           "offsetgroup": "Africa Eastern and Southern",
           "orientation": "v",
           "showlegend": true,
           "textposition": "auto",
           "type": "bar",
           "x": [
            "Africa Eastern and Southern"
           ],
           "xaxis": "x",
           "y": [
            0.0812162187313169
           ],
           "yaxis": "y"
          },
          {
           "alignmentgroup": "True",
           "hovertemplate": "Entity=%{x}<br>Year=1995<br>Internet_Usage=%{y}<extra></extra>",
           "ids": [
            "Africa Western and Central"
           ],
           "legendgroup": "Africa Western and Central",
           "marker": {
            "color": "#1b0c41",
            "pattern": {
             "shape": ""
            }
           },
           "name": "Africa Western and Central",
           "offsetgroup": "Africa Western and Central",
           "orientation": "v",
           "showlegend": true,
           "textposition": "auto",
           "type": "bar",
           "x": [
            "Africa Western and Central"
           ],
           "xaxis": "x",
           "y": [
            0.000128512174414
           ],
           "yaxis": "y"
          },
          {
           "alignmentgroup": "True",
           "hovertemplate": "Entity=%{x}<br>Year=1995<br>Internet_Usage=%{y}<extra></extra>",
           "ids": [
            "East Asia & Pacific"
           ],
           "legendgroup": "East Asia & Pacific",
           "marker": {
            "color": "#4a0c6b",
            "pattern": {
             "shape": ""
            }
           },
           "name": "East Asia & Pacific",
           "offsetgroup": "East Asia & Pacific",
           "orientation": "v",
           "showlegend": true,
           "textposition": "auto",
           "type": "bar",
           "x": [
            "East Asia & Pacific"
           ],
           "xaxis": "x",
           "y": [
            0.193066878560003
           ],
           "yaxis": "y"
          },
          {
           "alignmentgroup": "True",
           "hovertemplate": "Entity=%{x}<br>Year=1995<br>Internet_Usage=%{y}<extra></extra>",
           "ids": [
            "European Union"
           ],
           "legendgroup": "European Union",
           "marker": {
            "color": "#781c6d",
            "pattern": {
             "shape": ""
            }
           },
           "name": "European Union",
           "offsetgroup": "European Union",
           "orientation": "v",
           "showlegend": true,
           "textposition": "auto",
           "type": "bar",
           "x": [
            "European Union"
           ],
           "xaxis": "x",
           "y": [
            1.5146894217204
           ],
           "yaxis": "y"
          },
          {
           "alignmentgroup": "True",
           "hovertemplate": "Entity=%{x}<br>Year=1995<br>Internet_Usage=%{y}<extra></extra>",
           "ids": [
            "Latin America & Caribbean"
           ],
           "legendgroup": "Latin America & Caribbean",
           "marker": {
            "color": "#a52c60",
            "pattern": {
             "shape": ""
            }
           },
           "name": "Latin America & Caribbean",
           "offsetgroup": "Latin America & Caribbean",
           "orientation": "v",
           "showlegend": true,
           "textposition": "auto",
           "type": "bar",
           "x": [
            "Latin America & Caribbean"
           ],
           "xaxis": "x",
           "y": [
            0.105625846033003
           ],
           "yaxis": "y"
          },
          {
           "alignmentgroup": "True",
           "hovertemplate": "Entity=%{x}<br>Year=1995<br>Internet_Usage=%{y}<extra></extra>",
           "ids": [
            "North America"
           ],
           "legendgroup": "North America",
           "marker": {
            "color": "#cf4446",
            "pattern": {
             "shape": ""
            }
           },
           "name": "North America",
           "offsetgroup": "North America",
           "orientation": "v",
           "showlegend": true,
           "textposition": "auto",
           "type": "bar",
           "x": [
            "North America"
           ],
           "xaxis": "x",
           "y": [
            8.73395407814314
           ],
           "yaxis": "y"
          },
          {
           "alignmentgroup": "True",
           "hovertemplate": "Entity=%{x}<br>Year=1995<br>Internet_Usage=%{y}<extra></extra>",
           "ids": [
            "South Asia"
           ],
           "legendgroup": "South Asia",
           "marker": {
            "color": "#ed6925",
            "pattern": {
             "shape": ""
            }
           },
           "name": "South Asia",
           "offsetgroup": "South Asia",
           "orientation": "v",
           "showlegend": true,
           "textposition": "auto",
           "type": "bar",
           "x": [
            "South Asia"
           ],
           "xaxis": "x",
           "y": [
            0.0201474719356977
           ],
           "yaxis": "y"
          }
         ],
         "name": "1995"
        },
        {
         "data": [
          {
           "alignmentgroup": "True",
           "hovertemplate": "Entity=%{x}<br>Year=1996<br>Internet_Usage=%{y}<extra></extra>",
           "ids": [
            "Africa Eastern and Southern"
           ],
           "legendgroup": "Africa Eastern and Southern",
           "marker": {
            "color": "#000004",
            "pattern": {
             "shape": ""
            }
           },
           "name": "Africa Eastern and Southern",
           "offsetgroup": "Africa Eastern and Southern",
           "orientation": "v",
           "showlegend": true,
           "textposition": "auto",
           "type": "bar",
           "x": [
            "Africa Eastern and Southern"
           ],
           "xaxis": "x",
           "y": [
            0.106348941915746
           ],
           "yaxis": "y"
          },
          {
           "alignmentgroup": "True",
           "hovertemplate": "Entity=%{x}<br>Year=1996<br>Internet_Usage=%{y}<extra></extra>",
           "ids": [
            "Africa Western and Central"
           ],
           "legendgroup": "Africa Western and Central",
           "marker": {
            "color": "#1b0c41",
            "pattern": {
             "shape": ""
            }
           },
           "name": "Africa Western and Central",
           "offsetgroup": "Africa Western and Central",
           "orientation": "v",
           "showlegend": true,
           "textposition": "auto",
           "type": "bar",
           "x": [
            "Africa Western and Central"
           ],
           "xaxis": "x",
           "y": [
            0.0070349480412736
           ],
           "yaxis": "y"
          },
          {
           "alignmentgroup": "True",
           "hovertemplate": "Entity=%{x}<br>Year=1996<br>Internet_Usage=%{y}<extra></extra>",
           "ids": [
            "East Asia & Pacific"
           ],
           "legendgroup": "East Asia & Pacific",
           "marker": {
            "color": "#4a0c6b",
            "pattern": {
             "shape": ""
            }
           },
           "name": "East Asia & Pacific",
           "offsetgroup": "East Asia & Pacific",
           "orientation": "v",
           "showlegend": true,
           "textposition": "auto",
           "type": "bar",
           "x": [
            "East Asia & Pacific"
           ],
           "xaxis": "x",
           "y": [
            0.467536911294776
           ],
           "yaxis": "y"
          },
          {
           "alignmentgroup": "True",
           "hovertemplate": "Entity=%{x}<br>Year=1996<br>Internet_Usage=%{y}<extra></extra>",
           "ids": [
            "European Union"
           ],
           "legendgroup": "European Union",
           "marker": {
            "color": "#781c6d",
            "pattern": {
             "shape": ""
            }
           },
           "name": "European Union",
           "offsetgroup": "European Union",
           "orientation": "v",
           "showlegend": true,
           "textposition": "auto",
           "type": "bar",
           "x": [
            "European Union"
           ],
           "xaxis": "x",
           "y": [
            2.62462287233831
           ],
           "yaxis": "y"
          },
          {
           "alignmentgroup": "True",
           "hovertemplate": "Entity=%{x}<br>Year=1996<br>Internet_Usage=%{y}<extra></extra>",
           "ids": [
            "Latin America & Caribbean"
           ],
           "legendgroup": "Latin America & Caribbean",
           "marker": {
            "color": "#a52c60",
            "pattern": {
             "shape": ""
            }
           },
           "name": "Latin America & Caribbean",
           "offsetgroup": "Latin America & Caribbean",
           "orientation": "v",
           "showlegend": true,
           "textposition": "auto",
           "type": "bar",
           "x": [
            "Latin America & Caribbean"
           ],
           "xaxis": "x",
           "y": [
            0.309551535351447
           ],
           "yaxis": "y"
          },
          {
           "alignmentgroup": "True",
           "hovertemplate": "Entity=%{x}<br>Year=1996<br>Internet_Usage=%{y}<extra></extra>",
           "ids": [
            "North America"
           ],
           "legendgroup": "North America",
           "marker": {
            "color": "#cf4446",
            "pattern": {
             "shape": ""
            }
           },
           "name": "North America",
           "offsetgroup": "North America",
           "orientation": "v",
           "showlegend": true,
           "textposition": "auto",
           "type": "bar",
           "x": [
            "North America"
           ],
           "xaxis": "x",
           "y": [
            15.4640267065347
           ],
           "yaxis": "y"
          },
          {
           "alignmentgroup": "True",
           "hovertemplate": "Entity=%{x}<br>Year=1996<br>Internet_Usage=%{y}<extra></extra>",
           "ids": [
            "South Asia"
           ],
           "legendgroup": "South Asia",
           "marker": {
            "color": "#ed6925",
            "pattern": {
             "shape": ""
            }
           },
           "name": "South Asia",
           "offsetgroup": "South Asia",
           "orientation": "v",
           "showlegend": true,
           "textposition": "auto",
           "type": "bar",
           "x": [
            "South Asia"
           ],
           "xaxis": "x",
           "y": [
            0.0409035293739115
           ],
           "yaxis": "y"
          }
         ],
         "name": "1996"
        },
        {
         "data": [
          {
           "alignmentgroup": "True",
           "hovertemplate": "Entity=%{x}<br>Year=1997<br>Internet_Usage=%{y}<extra></extra>",
           "ids": [
            "Africa Eastern and Southern"
           ],
           "legendgroup": "Africa Eastern and Southern",
           "marker": {
            "color": "#000004",
            "pattern": {
             "shape": ""
            }
           },
           "name": "Africa Eastern and Southern",
           "offsetgroup": "Africa Eastern and Southern",
           "orientation": "v",
           "showlegend": true,
           "textposition": "auto",
           "type": "bar",
           "x": [
            "Africa Eastern and Southern"
           ],
           "xaxis": "x",
           "y": [
            0.202055769965555
           ],
           "yaxis": "y"
          },
          {
           "alignmentgroup": "True",
           "hovertemplate": "Entity=%{x}<br>Year=1997<br>Internet_Usage=%{y}<extra></extra>",
           "ids": [
            "Africa Western and Central"
           ],
           "legendgroup": "Africa Western and Central",
           "marker": {
            "color": "#1b0c41",
            "pattern": {
             "shape": ""
            }
           },
           "name": "Africa Western and Central",
           "offsetgroup": "Africa Western and Central",
           "orientation": "v",
           "showlegend": true,
           "textposition": "auto",
           "type": "bar",
           "x": [
            "Africa Western and Central"
           ],
           "xaxis": "x",
           "y": [
            0.0198422946306781
           ],
           "yaxis": "y"
          },
          {
           "alignmentgroup": "True",
           "hovertemplate": "Entity=%{x}<br>Year=1997<br>Internet_Usage=%{y}<extra></extra>",
           "ids": [
            "East Asia & Pacific"
           ],
           "legendgroup": "East Asia & Pacific",
           "marker": {
            "color": "#4a0c6b",
            "pattern": {
             "shape": ""
            }
           },
           "name": "East Asia & Pacific",
           "offsetgroup": "East Asia & Pacific",
           "orientation": "v",
           "showlegend": true,
           "textposition": "auto",
           "type": "bar",
           "x": [
            "East Asia & Pacific"
           ],
           "xaxis": "x",
           "y": [
            1.08368558341961
           ],
           "yaxis": "y"
          },
          {
           "alignmentgroup": "True",
           "hovertemplate": "Entity=%{x}<br>Year=1997<br>Internet_Usage=%{y}<extra></extra>",
           "ids": [
            "European Union"
           ],
           "legendgroup": "European Union",
           "marker": {
            "color": "#781c6d",
            "pattern": {
             "shape": ""
            }
           },
           "name": "European Union",
           "offsetgroup": "European Union",
           "orientation": "v",
           "showlegend": true,
           "textposition": "auto",
           "type": "bar",
           "x": [
            "European Union"
           ],
           "xaxis": "x",
           "y": [
            4.80236084523099
           ],
           "yaxis": "y"
          },
          {
           "alignmentgroup": "True",
           "hovertemplate": "Entity=%{x}<br>Year=1997<br>Internet_Usage=%{y}<extra></extra>",
           "ids": [
            "Latin America & Caribbean"
           ],
           "legendgroup": "Latin America & Caribbean",
           "marker": {
            "color": "#a52c60",
            "pattern": {
             "shape": ""
            }
           },
           "name": "Latin America & Caribbean",
           "offsetgroup": "Latin America & Caribbean",
           "orientation": "v",
           "showlegend": true,
           "textposition": "auto",
           "type": "bar",
           "x": [
            "Latin America & Caribbean"
           ],
           "xaxis": "x",
           "y": [
            0.608914642895414
           ],
           "yaxis": "y"
          },
          {
           "alignmentgroup": "True",
           "hovertemplate": "Entity=%{x}<br>Year=1997<br>Internet_Usage=%{y}<extra></extra>",
           "ids": [
            "North America"
           ],
           "legendgroup": "North America",
           "marker": {
            "color": "#cf4446",
            "pattern": {
             "shape": ""
            }
           },
           "name": "North America",
           "offsetgroup": "North America",
           "orientation": "v",
           "showlegend": true,
           "textposition": "auto",
           "type": "bar",
           "x": [
            "North America"
           ],
           "xaxis": "x",
           "y": [
            20.9714337581609
           ],
           "yaxis": "y"
          },
          {
           "alignmentgroup": "True",
           "hovertemplate": "Entity=%{x}<br>Year=1997<br>Internet_Usage=%{y}<extra></extra>",
           "ids": [
            "South Asia"
           ],
           "legendgroup": "South Asia",
           "marker": {
            "color": "#ed6925",
            "pattern": {
             "shape": ""
            }
           },
           "name": "South Asia",
           "offsetgroup": "South Asia",
           "orientation": "v",
           "showlegend": true,
           "textposition": "auto",
           "type": "bar",
           "x": [
            "South Asia"
           ],
           "xaxis": "x",
           "y": [
            0.060390755784059
           ],
           "yaxis": "y"
          }
         ],
         "name": "1997"
        },
        {
         "data": [
          {
           "alignmentgroup": "True",
           "hovertemplate": "Entity=%{x}<br>Year=1998<br>Internet_Usage=%{y}<extra></extra>",
           "ids": [
            "Africa Eastern and Southern"
           ],
           "legendgroup": "Africa Eastern and Southern",
           "marker": {
            "color": "#000004",
            "pattern": {
             "shape": ""
            }
           },
           "name": "Africa Eastern and Southern",
           "offsetgroup": "Africa Eastern and Southern",
           "orientation": "v",
           "showlegend": true,
           "textposition": "auto",
           "type": "bar",
           "x": [
            "Africa Eastern and Southern"
           ],
           "xaxis": "x",
           "y": [
            0.367790377676976
           ],
           "yaxis": "y"
          },
          {
           "alignmentgroup": "True",
           "hovertemplate": "Entity=%{x}<br>Year=1998<br>Internet_Usage=%{y}<extra></extra>",
           "ids": [
            "Africa Western and Central"
           ],
           "legendgroup": "Africa Western and Central",
           "marker": {
            "color": "#1b0c41",
            "pattern": {
             "shape": ""
            }
           },
           "name": "Africa Western and Central",
           "offsetgroup": "Africa Western and Central",
           "orientation": "v",
           "showlegend": true,
           "textposition": "auto",
           "type": "bar",
           "x": [
            "Africa Western and Central"
           ],
           "xaxis": "x",
           "y": [
            0.0354244563365098
           ],
           "yaxis": "y"
          },
          {
           "alignmentgroup": "True",
           "hovertemplate": "Entity=%{x}<br>Year=1998<br>Internet_Usage=%{y}<extra></extra>",
           "ids": [
            "East Asia & Pacific"
           ],
           "legendgroup": "East Asia & Pacific",
           "marker": {
            "color": "#4a0c6b",
            "pattern": {
             "shape": ""
            }
           },
           "name": "East Asia & Pacific",
           "offsetgroup": "East Asia & Pacific",
           "orientation": "v",
           "showlegend": true,
           "textposition": "auto",
           "type": "bar",
           "x": [
            "East Asia & Pacific"
           ],
           "xaxis": "x",
           "y": [
            1.88541468355169
           ],
           "yaxis": "y"
          },
          {
           "alignmentgroup": "True",
           "hovertemplate": "Entity=%{x}<br>Year=1998<br>Internet_Usage=%{y}<extra></extra>",
           "ids": [
            "European Union"
           ],
           "legendgroup": "European Union",
           "marker": {
            "color": "#781c6d",
            "pattern": {
             "shape": ""
            }
           },
           "name": "European Union",
           "offsetgroup": "European Union",
           "orientation": "v",
           "showlegend": true,
           "textposition": "auto",
           "type": "bar",
           "x": [
            "European Union"
           ],
           "xaxis": "x",
           "y": [
            7.69303237924152
           ],
           "yaxis": "y"
          },
          {
           "alignmentgroup": "True",
           "hovertemplate": "Entity=%{x}<br>Year=1998<br>Internet_Usage=%{y}<extra></extra>",
           "ids": [
            "Latin America & Caribbean"
           ],
           "legendgroup": "Latin America & Caribbean",
           "marker": {
            "color": "#a52c60",
            "pattern": {
             "shape": ""
            }
           },
           "name": "Latin America & Caribbean",
           "offsetgroup": "Latin America & Caribbean",
           "orientation": "v",
           "showlegend": true,
           "textposition": "auto",
           "type": "bar",
           "x": [
            "Latin America & Caribbean"
           ],
           "xaxis": "x",
           "y": [
            1.22873933742197
           ],
           "yaxis": "y"
          },
          {
           "alignmentgroup": "True",
           "hovertemplate": "Entity=%{x}<br>Year=1998<br>Internet_Usage=%{y}<extra></extra>",
           "ids": [
            "North America"
           ],
           "legendgroup": "North America",
           "marker": {
            "color": "#cf4446",
            "pattern": {
             "shape": ""
            }
           },
           "name": "North America",
           "offsetgroup": "North America",
           "orientation": "v",
           "showlegend": true,
           "textposition": "auto",
           "type": "bar",
           "x": [
            "North America"
           ],
           "xaxis": "x",
           "y": [
            29.5826213192236
           ],
           "yaxis": "y"
          },
          {
           "alignmentgroup": "True",
           "hovertemplate": "Entity=%{x}<br>Year=1998<br>Internet_Usage=%{y}<extra></extra>",
           "ids": [
            "South Asia"
           ],
           "legendgroup": "South Asia",
           "marker": {
            "color": "#ed6925",
            "pattern": {
             "shape": ""
            }
           },
           "name": "South Asia",
           "offsetgroup": "South Asia",
           "orientation": "v",
           "showlegend": true,
           "textposition": "auto",
           "type": "bar",
           "x": [
            "South Asia"
           ],
           "xaxis": "x",
           "y": [
            0.117714358250296
           ],
           "yaxis": "y"
          }
         ],
         "name": "1998"
        },
        {
         "data": [
          {
           "alignmentgroup": "True",
           "hovertemplate": "Entity=%{x}<br>Year=1999<br>Internet_Usage=%{y}<extra></extra>",
           "ids": [
            "Africa Eastern and Southern"
           ],
           "legendgroup": "Africa Eastern and Southern",
           "marker": {
            "color": "#000004",
            "pattern": {
             "shape": ""
            }
           },
           "name": "Africa Eastern and Southern",
           "offsetgroup": "Africa Eastern and Southern",
           "orientation": "v",
           "showlegend": true,
           "textposition": "auto",
           "type": "bar",
           "x": [
            "Africa Eastern and Southern"
           ],
           "xaxis": "x",
           "y": [
            0.544145756214162
           ],
           "yaxis": "y"
          },
          {
           "alignmentgroup": "True",
           "hovertemplate": "Entity=%{x}<br>Year=1999<br>Internet_Usage=%{y}<extra></extra>",
           "ids": [
            "Africa Western and Central"
           ],
           "legendgroup": "Africa Western and Central",
           "marker": {
            "color": "#1b0c41",
            "pattern": {
             "shape": ""
            }
           },
           "name": "Africa Western and Central",
           "offsetgroup": "Africa Western and Central",
           "orientation": "v",
           "showlegend": true,
           "textposition": "auto",
           "type": "bar",
           "x": [
            "Africa Western and Central"
           ],
           "xaxis": "x",
           "y": [
            0.0862388487127028
           ],
           "yaxis": "y"
          },
          {
           "alignmentgroup": "True",
           "hovertemplate": "Entity=%{x}<br>Year=1999<br>Internet_Usage=%{y}<extra></extra>",
           "ids": [
            "East Asia & Pacific"
           ],
           "legendgroup": "East Asia & Pacific",
           "marker": {
            "color": "#4a0c6b",
            "pattern": {
             "shape": ""
            }
           },
           "name": "East Asia & Pacific",
           "offsetgroup": "East Asia & Pacific",
           "orientation": "v",
           "showlegend": true,
           "textposition": "auto",
           "type": "bar",
           "x": [
            "East Asia & Pacific"
           ],
           "xaxis": "x",
           "y": [
            3.41787819769399
           ],
           "yaxis": "y"
          },
          {
           "alignmentgroup": "True",
           "hovertemplate": "Entity=%{x}<br>Year=1999<br>Internet_Usage=%{y}<extra></extra>",
           "ids": [
            "European Union"
           ],
           "legendgroup": "European Union",
           "marker": {
            "color": "#781c6d",
            "pattern": {
             "shape": ""
            }
           },
           "name": "European Union",
           "offsetgroup": "European Union",
           "orientation": "v",
           "showlegend": true,
           "textposition": "auto",
           "type": "bar",
           "x": [
            "European Union"
           ],
           "xaxis": "x",
           "y": [
            13.6278604408869
           ],
           "yaxis": "y"
          },
          {
           "alignmentgroup": "True",
           "hovertemplate": "Entity=%{x}<br>Year=1999<br>Internet_Usage=%{y}<extra></extra>",
           "ids": [
            "Latin America & Caribbean"
           ],
           "legendgroup": "Latin America & Caribbean",
           "marker": {
            "color": "#a52c60",
            "pattern": {
             "shape": ""
            }
           },
           "name": "Latin America & Caribbean",
           "offsetgroup": "Latin America & Caribbean",
           "orientation": "v",
           "showlegend": true,
           "textposition": "auto",
           "type": "bar",
           "x": [
            "Latin America & Caribbean"
           ],
           "xaxis": "x",
           "y": [
            2.05177996241735
           ],
           "yaxis": "y"
          },
          {
           "alignmentgroup": "True",
           "hovertemplate": "Entity=%{x}<br>Year=1999<br>Internet_Usage=%{y}<extra></extra>",
           "ids": [
            "North America"
           ],
           "legendgroup": "North America",
           "marker": {
            "color": "#cf4446",
            "pattern": {
             "shape": ""
            }
           },
           "name": "North America",
           "offsetgroup": "North America",
           "orientation": "v",
           "showlegend": true,
           "textposition": "auto",
           "type": "bar",
           "x": [
            "North America"
           ],
           "xaxis": "x",
           "y": [
            35.8827105582599
           ],
           "yaxis": "y"
          },
          {
           "alignmentgroup": "True",
           "hovertemplate": "Entity=%{x}<br>Year=1999<br>Internet_Usage=%{y}<extra></extra>",
           "ids": [
            "South Asia"
           ],
           "legendgroup": "South Asia",
           "marker": {
            "color": "#ed6925",
            "pattern": {
             "shape": ""
            }
           },
           "name": "South Asia",
           "offsetgroup": "South Asia",
           "orientation": "v",
           "showlegend": true,
           "textposition": "auto",
           "type": "bar",
           "x": [
            "South Asia"
           ],
           "xaxis": "x",
           "y": [
            0.227646629594943
           ],
           "yaxis": "y"
          }
         ],
         "name": "1999"
        },
        {
         "data": [
          {
           "alignmentgroup": "True",
           "hovertemplate": "Entity=%{x}<br>Year=2000<br>Internet_Usage=%{y}<extra></extra>",
           "ids": [
            "Africa Eastern and Southern"
           ],
           "legendgroup": "Africa Eastern and Southern",
           "marker": {
            "color": "#000004",
            "pattern": {
             "shape": ""
            }
           },
           "name": "Africa Eastern and Southern",
           "offsetgroup": "Africa Eastern and Southern",
           "orientation": "v",
           "showlegend": true,
           "textposition": "auto",
           "type": "bar",
           "x": [
            "Africa Eastern and Southern"
           ],
           "xaxis": "x",
           "y": [
            0.743921679270876
           ],
           "yaxis": "y"
          },
          {
           "alignmentgroup": "True",
           "hovertemplate": "Entity=%{x}<br>Year=2000<br>Internet_Usage=%{y}<extra></extra>",
           "ids": [
            "Africa Western and Central"
           ],
           "legendgroup": "Africa Western and Central",
           "marker": {
            "color": "#1b0c41",
            "pattern": {
             "shape": ""
            }
           },
           "name": "Africa Western and Central",
           "offsetgroup": "Africa Western and Central",
           "orientation": "v",
           "showlegend": true,
           "textposition": "auto",
           "type": "bar",
           "x": [
            "Africa Western and Central"
           ],
           "xaxis": "x",
           "y": [
            0.138960653380905
           ],
           "yaxis": "y"
          },
          {
           "alignmentgroup": "True",
           "hovertemplate": "Entity=%{x}<br>Year=2000<br>Internet_Usage=%{y}<extra></extra>",
           "ids": [
            "East Asia & Pacific"
           ],
           "legendgroup": "East Asia & Pacific",
           "marker": {
            "color": "#4a0c6b",
            "pattern": {
             "shape": ""
            }
           },
           "name": "East Asia & Pacific",
           "offsetgroup": "East Asia & Pacific",
           "orientation": "v",
           "showlegend": true,
           "textposition": "auto",
           "type": "bar",
           "x": [
            "East Asia & Pacific"
           ],
           "xaxis": "x",
           "y": [
            5.60924070528704
           ],
           "yaxis": "y"
          },
          {
           "alignmentgroup": "True",
           "hovertemplate": "Entity=%{x}<br>Year=2000<br>Internet_Usage=%{y}<extra></extra>",
           "ids": [
            "European Union"
           ],
           "legendgroup": "European Union",
           "marker": {
            "color": "#781c6d",
            "pattern": {
             "shape": ""
            }
           },
           "name": "European Union",
           "offsetgroup": "European Union",
           "orientation": "v",
           "showlegend": true,
           "textposition": "auto",
           "type": "bar",
           "x": [
            "European Union"
           ],
           "xaxis": "x",
           "y": [
            19.6471689008245
           ],
           "yaxis": "y"
          },
          {
           "alignmentgroup": "True",
           "hovertemplate": "Entity=%{x}<br>Year=2000<br>Internet_Usage=%{y}<extra></extra>",
           "ids": [
            "Latin America & Caribbean"
           ],
           "legendgroup": "Latin America & Caribbean",
           "marker": {
            "color": "#a52c60",
            "pattern": {
             "shape": ""
            }
           },
           "name": "Latin America & Caribbean",
           "offsetgroup": "Latin America & Caribbean",
           "orientation": "v",
           "showlegend": true,
           "textposition": "auto",
           "type": "bar",
           "x": [
            "Latin America & Caribbean"
           ],
           "xaxis": "x",
           "y": [
            3.88445540375328
           ],
           "yaxis": "y"
          },
          {
           "alignmentgroup": "True",
           "hovertemplate": "Entity=%{x}<br>Year=2000<br>Internet_Usage=%{y}<extra></extra>",
           "ids": [
            "North America"
           ],
           "legendgroup": "North America",
           "marker": {
            "color": "#cf4446",
            "pattern": {
             "shape": ""
            }
           },
           "name": "North America",
           "offsetgroup": "North America",
           "orientation": "v",
           "showlegend": true,
           "textposition": "auto",
           "type": "bar",
           "x": [
            "North America"
           ],
           "xaxis": "x",
           "y": [
            43.8841640832073
           ],
           "yaxis": "y"
          },
          {
           "alignmentgroup": "True",
           "hovertemplate": "Entity=%{x}<br>Year=2000<br>Internet_Usage=%{y}<extra></extra>",
           "ids": [
            "South Asia"
           ],
           "legendgroup": "South Asia",
           "marker": {
            "color": "#ed6925",
            "pattern": {
             "shape": ""
            }
           },
           "name": "South Asia",
           "offsetgroup": "South Asia",
           "orientation": "v",
           "showlegend": true,
           "textposition": "auto",
           "type": "bar",
           "x": [
            "South Asia"
           ],
           "xaxis": "x",
           "y": [
            0.475928509361668
           ],
           "yaxis": "y"
          }
         ],
         "name": "2000"
        },
        {
         "data": [
          {
           "alignmentgroup": "True",
           "hovertemplate": "Entity=%{x}<br>Year=2001<br>Internet_Usage=%{y}<extra></extra>",
           "ids": [
            "Africa Eastern and Southern"
           ],
           "legendgroup": "Africa Eastern and Southern",
           "marker": {
            "color": "#000004",
            "pattern": {
             "shape": ""
            }
           },
           "name": "Africa Eastern and Southern",
           "offsetgroup": "Africa Eastern and Southern",
           "orientation": "v",
           "showlegend": true,
           "textposition": "auto",
           "type": "bar",
           "x": [
            "Africa Eastern and Southern"
           ],
           "xaxis": "x",
           "y": [
            0.930779519522306
           ],
           "yaxis": "y"
          },
          {
           "alignmentgroup": "True",
           "hovertemplate": "Entity=%{x}<br>Year=2001<br>Internet_Usage=%{y}<extra></extra>",
           "ids": [
            "Africa Western and Central"
           ],
           "legendgroup": "Africa Western and Central",
           "marker": {
            "color": "#1b0c41",
            "pattern": {
             "shape": ""
            }
           },
           "name": "Africa Western and Central",
           "offsetgroup": "Africa Western and Central",
           "orientation": "v",
           "showlegend": true,
           "textposition": "auto",
           "type": "bar",
           "x": [
            "Africa Western and Central"
           ],
           "xaxis": "x",
           "y": [
            0.20959643027656
           ],
           "yaxis": "y"
          },
          {
           "alignmentgroup": "True",
           "hovertemplate": "Entity=%{x}<br>Year=2001<br>Internet_Usage=%{y}<extra></extra>",
           "ids": [
            "East Asia & Pacific"
           ],
           "legendgroup": "East Asia & Pacific",
           "marker": {
            "color": "#4a0c6b",
            "pattern": {
             "shape": ""
            }
           },
           "name": "East Asia & Pacific",
           "offsetgroup": "East Asia & Pacific",
           "orientation": "v",
           "showlegend": true,
           "textposition": "auto",
           "type": "bar",
           "x": [
            "East Asia & Pacific"
           ],
           "xaxis": "x",
           "y": [
            7.27835490444649
           ],
           "yaxis": "y"
          },
          {
           "alignmentgroup": "True",
           "hovertemplate": "Entity=%{x}<br>Year=2001<br>Internet_Usage=%{y}<extra></extra>",
           "ids": [
            "European Union"
           ],
           "legendgroup": "European Union",
           "marker": {
            "color": "#781c6d",
            "pattern": {
             "shape": ""
            }
           },
           "name": "European Union",
           "offsetgroup": "European Union",
           "orientation": "v",
           "showlegend": true,
           "textposition": "auto",
           "type": "bar",
           "x": [
            "European Union"
           ],
           "xaxis": "x",
           "y": [
            24.138993449168
           ],
           "yaxis": "y"
          },
          {
           "alignmentgroup": "True",
           "hovertemplate": "Entity=%{x}<br>Year=2001<br>Internet_Usage=%{y}<extra></extra>",
           "ids": [
            "Latin America & Caribbean"
           ],
           "legendgroup": "Latin America & Caribbean",
           "marker": {
            "color": "#a52c60",
            "pattern": {
             "shape": ""
            }
           },
           "name": "Latin America & Caribbean",
           "offsetgroup": "Latin America & Caribbean",
           "orientation": "v",
           "showlegend": true,
           "textposition": "auto",
           "type": "bar",
           "x": [
            "Latin America & Caribbean"
           ],
           "xaxis": "x",
           "y": [
            5.63092332270643
           ],
           "yaxis": "y"
          },
          {
           "alignmentgroup": "True",
           "hovertemplate": "Entity=%{x}<br>Year=2001<br>Internet_Usage=%{y}<extra></extra>",
           "ids": [
            "North America"
           ],
           "legendgroup": "North America",
           "marker": {
            "color": "#cf4446",
            "pattern": {
             "shape": ""
            }
           },
           "name": "North America",
           "offsetgroup": "North America",
           "orientation": "v",
           "showlegend": true,
           "textposition": "auto",
           "type": "bar",
           "x": [
            "North America"
           ],
           "xaxis": "x",
           "y": [
            50.1686287653019
           ],
           "yaxis": "y"
          },
          {
           "alignmentgroup": "True",
           "hovertemplate": "Entity=%{x}<br>Year=2001<br>Internet_Usage=%{y}<extra></extra>",
           "ids": [
            "South Asia"
           ],
           "legendgroup": "South Asia",
           "marker": {
            "color": "#ed6925",
            "pattern": {
             "shape": ""
            }
           },
           "name": "South Asia",
           "offsetgroup": "South Asia",
           "orientation": "v",
           "showlegend": true,
           "textposition": "auto",
           "type": "bar",
           "x": [
            "South Asia"
           ],
           "xaxis": "x",
           "y": [
            0.664542970301687
           ],
           "yaxis": "y"
          }
         ],
         "name": "2001"
        },
        {
         "data": [
          {
           "alignmentgroup": "True",
           "hovertemplate": "Entity=%{x}<br>Year=2002<br>Internet_Usage=%{y}<extra></extra>",
           "ids": [
            "Africa Eastern and Southern"
           ],
           "legendgroup": "Africa Eastern and Southern",
           "marker": {
            "color": "#000004",
            "pattern": {
             "shape": ""
            }
           },
           "name": "Africa Eastern and Southern",
           "offsetgroup": "Africa Eastern and Southern",
           "orientation": "v",
           "showlegend": true,
           "textposition": "auto",
           "type": "bar",
           "x": [
            "Africa Eastern and Southern"
           ],
           "xaxis": "x",
           "y": [
            1.10689607706053
           ],
           "yaxis": "y"
          },
          {
           "alignmentgroup": "True",
           "hovertemplate": "Entity=%{x}<br>Year=2002<br>Internet_Usage=%{y}<extra></extra>",
           "ids": [
            "Africa Western and Central"
           ],
           "legendgroup": "Africa Western and Central",
           "marker": {
            "color": "#1b0c41",
            "pattern": {
             "shape": ""
            }
           },
           "name": "Africa Western and Central",
           "offsetgroup": "Africa Western and Central",
           "orientation": "v",
           "showlegend": true,
           "textposition": "auto",
           "type": "bar",
           "x": [
            "Africa Western and Central"
           ],
           "xaxis": "x",
           "y": [
            0.411060803424681
           ],
           "yaxis": "y"
          },
          {
           "alignmentgroup": "True",
           "hovertemplate": "Entity=%{x}<br>Year=2002<br>Internet_Usage=%{y}<extra></extra>",
           "ids": [
            "East Asia & Pacific"
           ],
           "legendgroup": "East Asia & Pacific",
           "marker": {
            "color": "#4a0c6b",
            "pattern": {
             "shape": ""
            }
           },
           "name": "East Asia & Pacific",
           "offsetgroup": "East Asia & Pacific",
           "orientation": "v",
           "showlegend": true,
           "textposition": "auto",
           "type": "bar",
           "x": [
            "East Asia & Pacific"
           ],
           "xaxis": "x",
           "y": [
            9.03018298411244
           ],
           "yaxis": "y"
          },
          {
           "alignmentgroup": "True",
           "hovertemplate": "Entity=%{x}<br>Year=2002<br>Internet_Usage=%{y}<extra></extra>",
           "ids": [
            "European Union"
           ],
           "legendgroup": "European Union",
           "marker": {
            "color": "#781c6d",
            "pattern": {
             "shape": ""
            }
           },
           "name": "European Union",
           "offsetgroup": "European Union",
           "orientation": "v",
           "showlegend": true,
           "textposition": "auto",
           "type": "bar",
           "x": [
            "European Union"
           ],
           "xaxis": "x",
           "y": [
            32.1282630636134
           ],
           "yaxis": "y"
          },
          {
           "alignmentgroup": "True",
           "hovertemplate": "Entity=%{x}<br>Year=2002<br>Internet_Usage=%{y}<extra></extra>",
           "ids": [
            "Latin America & Caribbean"
           ],
           "legendgroup": "Latin America & Caribbean",
           "marker": {
            "color": "#a52c60",
            "pattern": {
             "shape": ""
            }
           },
           "name": "Latin America & Caribbean",
           "offsetgroup": "Latin America & Caribbean",
           "orientation": "v",
           "showlegend": true,
           "textposition": "auto",
           "type": "bar",
           "x": [
            "Latin America & Caribbean"
           ],
           "xaxis": "x",
           "y": [
            8.8525507158455
           ],
           "yaxis": "y"
          },
          {
           "alignmentgroup": "True",
           "hovertemplate": "Entity=%{x}<br>Year=2002<br>Internet_Usage=%{y}<extra></extra>",
           "ids": [
            "North America"
           ],
           "legendgroup": "North America",
           "marker": {
            "color": "#cf4446",
            "pattern": {
             "shape": ""
            }
           },
           "name": "North America",
           "offsetgroup": "North America",
           "orientation": "v",
           "showlegend": true,
           "textposition": "auto",
           "type": "bar",
           "x": [
            "North America"
           ],
           "xaxis": "x",
           "y": [
            59.058859197879
           ],
           "yaxis": "y"
          },
          {
           "alignmentgroup": "True",
           "hovertemplate": "Entity=%{x}<br>Year=2002<br>Internet_Usage=%{y}<extra></extra>",
           "ids": [
            "South Asia"
           ],
           "legendgroup": "South Asia",
           "marker": {
            "color": "#ed6925",
            "pattern": {
             "shape": ""
            }
           },
           "name": "South Asia",
           "offsetgroup": "South Asia",
           "orientation": "v",
           "showlegend": true,
           "textposition": "auto",
           "type": "bar",
           "x": [
            "South Asia"
           ],
           "xaxis": "x",
           "y": [
            1.46664446850377
           ],
           "yaxis": "y"
          }
         ],
         "name": "2002"
        },
        {
         "data": [
          {
           "alignmentgroup": "True",
           "hovertemplate": "Entity=%{x}<br>Year=2003<br>Internet_Usage=%{y}<extra></extra>",
           "ids": [
            "Africa Eastern and Southern"
           ],
           "legendgroup": "Africa Eastern and Southern",
           "marker": {
            "color": "#000004",
            "pattern": {
             "shape": ""
            }
           },
           "name": "Africa Eastern and Southern",
           "offsetgroup": "Africa Eastern and Southern",
           "orientation": "v",
           "showlegend": true,
           "textposition": "auto",
           "type": "bar",
           "x": [
            "Africa Eastern and Southern"
           ],
           "xaxis": "x",
           "y": [
            1.40818976008011
           ],
           "yaxis": "y"
          },
          {
           "alignmentgroup": "True",
           "hovertemplate": "Entity=%{x}<br>Year=2003<br>Internet_Usage=%{y}<extra></extra>",
           "ids": [
            "Africa Western and Central"
           ],
           "legendgroup": "Africa Western and Central",
           "marker": {
            "color": "#1b0c41",
            "pattern": {
             "shape": ""
            }
           },
           "name": "Africa Western and Central",
           "offsetgroup": "Africa Western and Central",
           "orientation": "v",
           "showlegend": true,
           "textposition": "auto",
           "type": "bar",
           "x": [
            "Africa Western and Central"
           ],
           "xaxis": "x",
           "y": [
            0.657285158944135
           ],
           "yaxis": "y"
          },
          {
           "alignmentgroup": "True",
           "hovertemplate": "Entity=%{x}<br>Year=2003<br>Internet_Usage=%{y}<extra></extra>",
           "ids": [
            "East Asia & Pacific"
           ],
           "legendgroup": "East Asia & Pacific",
           "marker": {
            "color": "#4a0c6b",
            "pattern": {
             "shape": ""
            }
           },
           "name": "East Asia & Pacific",
           "offsetgroup": "East Asia & Pacific",
           "orientation": "v",
           "showlegend": true,
           "textposition": "auto",
           "type": "bar",
           "x": [
            "East Asia & Pacific"
           ],
           "xaxis": "x",
           "y": [
            10.5786362918198
           ],
           "yaxis": "y"
          },
          {
           "alignmentgroup": "True",
           "hovertemplate": "Entity=%{x}<br>Year=2003<br>Internet_Usage=%{y}<extra></extra>",
           "ids": [
            "European Union"
           ],
           "legendgroup": "European Union",
           "marker": {
            "color": "#781c6d",
            "pattern": {
             "shape": ""
            }
           },
           "name": "European Union",
           "offsetgroup": "European Union",
           "orientation": "v",
           "showlegend": true,
           "textposition": "auto",
           "type": "bar",
           "x": [
            "European Union"
           ],
           "xaxis": "x",
           "y": [
            38.6077946457506
           ],
           "yaxis": "y"
          },
          {
           "alignmentgroup": "True",
           "hovertemplate": "Entity=%{x}<br>Year=2003<br>Internet_Usage=%{y}<extra></extra>",
           "ids": [
            "Latin America & Caribbean"
           ],
           "legendgroup": "Latin America & Caribbean",
           "marker": {
            "color": "#a52c60",
            "pattern": {
             "shape": ""
            }
           },
           "name": "Latin America & Caribbean",
           "offsetgroup": "Latin America & Caribbean",
           "orientation": "v",
           "showlegend": true,
           "textposition": "auto",
           "type": "bar",
           "x": [
            "Latin America & Caribbean"
           ],
           "xaxis": "x",
           "y": [
            11.2655071338012
           ],
           "yaxis": "y"
          },
          {
           "alignmentgroup": "True",
           "hovertemplate": "Entity=%{x}<br>Year=2003<br>Internet_Usage=%{y}<extra></extra>",
           "ids": [
            "North America"
           ],
           "legendgroup": "North America",
           "marker": {
            "color": "#cf4446",
            "pattern": {
             "shape": ""
            }
           },
           "name": "North America",
           "offsetgroup": "North America",
           "orientation": "v",
           "showlegend": true,
           "textposition": "auto",
           "type": "bar",
           "x": [
            "North America"
           ],
           "xaxis": "x",
           "y": [
            61.9412897044475
           ],
           "yaxis": "y"
          },
          {
           "alignmentgroup": "True",
           "hovertemplate": "Entity=%{x}<br>Year=2003<br>Internet_Usage=%{y}<extra></extra>",
           "ids": [
            "South Asia"
           ],
           "legendgroup": "South Asia",
           "marker": {
            "color": "#ed6925",
            "pattern": {
             "shape": ""
            }
           },
           "name": "South Asia",
           "offsetgroup": "South Asia",
           "orientation": "v",
           "showlegend": true,
           "textposition": "auto",
           "type": "bar",
           "x": [
            "South Asia"
           ],
           "xaxis": "x",
           "y": [
            1.84665677677393
           ],
           "yaxis": "y"
          }
         ],
         "name": "2003"
        },
        {
         "data": [
          {
           "alignmentgroup": "True",
           "hovertemplate": "Entity=%{x}<br>Year=2004<br>Internet_Usage=%{y}<extra></extra>",
           "ids": [
            "Africa Eastern and Southern"
           ],
           "legendgroup": "Africa Eastern and Southern",
           "marker": {
            "color": "#000004",
            "pattern": {
             "shape": ""
            }
           },
           "name": "Africa Eastern and Southern",
           "offsetgroup": "Africa Eastern and Southern",
           "orientation": "v",
           "showlegend": true,
           "textposition": "auto",
           "type": "bar",
           "x": [
            "Africa Eastern and Southern"
           ],
           "xaxis": "x",
           "y": [
            1.71679138112129
           ],
           "yaxis": "y"
          },
          {
           "alignmentgroup": "True",
           "hovertemplate": "Entity=%{x}<br>Year=2004<br>Internet_Usage=%{y}<extra></extra>",
           "ids": [
            "Africa Western and Central"
           ],
           "legendgroup": "Africa Western and Central",
           "marker": {
            "color": "#1b0c41",
            "pattern": {
             "shape": ""
            }
           },
           "name": "Africa Western and Central",
           "offsetgroup": "Africa Western and Central",
           "orientation": "v",
           "showlegend": true,
           "textposition": "auto",
           "type": "bar",
           "x": [
            "Africa Western and Central"
           ],
           "xaxis": "x",
           "y": [
            1.17786496755986
           ],
           "yaxis": "y"
          },
          {
           "alignmentgroup": "True",
           "hovertemplate": "Entity=%{x}<br>Year=2004<br>Internet_Usage=%{y}<extra></extra>",
           "ids": [
            "East Asia & Pacific"
           ],
           "legendgroup": "East Asia & Pacific",
           "marker": {
            "color": "#4a0c6b",
            "pattern": {
             "shape": ""
            }
           },
           "name": "East Asia & Pacific",
           "offsetgroup": "East Asia & Pacific",
           "orientation": "v",
           "showlegend": true,
           "textposition": "auto",
           "type": "bar",
           "x": [
            "East Asia & Pacific"
           ],
           "xaxis": "x",
           "y": [
            12.6281762173798
           ],
           "yaxis": "y"
          },
          {
           "alignmentgroup": "True",
           "hovertemplate": "Entity=%{x}<br>Year=2004<br>Internet_Usage=%{y}<extra></extra>",
           "ids": [
            "European Union"
           ],
           "legendgroup": "European Union",
           "marker": {
            "color": "#781c6d",
            "pattern": {
             "shape": ""
            }
           },
           "name": "European Union",
           "offsetgroup": "European Union",
           "orientation": "v",
           "showlegend": true,
           "textposition": "auto",
           "type": "bar",
           "x": [
            "European Union"
           ],
           "xaxis": "x",
           "y": [
            44.1873073985821
           ],
           "yaxis": "y"
          },
          {
           "alignmentgroup": "True",
           "hovertemplate": "Entity=%{x}<br>Year=2004<br>Internet_Usage=%{y}<extra></extra>",
           "ids": [
            "Latin America & Caribbean"
           ],
           "legendgroup": "Latin America & Caribbean",
           "marker": {
            "color": "#a52c60",
            "pattern": {
             "shape": ""
            }
           },
           "name": "Latin America & Caribbean",
           "offsetgroup": "Latin America & Caribbean",
           "orientation": "v",
           "showlegend": true,
           "textposition": "auto",
           "type": "bar",
           "x": [
            "Latin America & Caribbean"
           ],
           "xaxis": "x",
           "y": [
            14.3980321275045
           ],
           "yaxis": "y"
          },
          {
           "alignmentgroup": "True",
           "hovertemplate": "Entity=%{x}<br>Year=2004<br>Internet_Usage=%{y}<extra></extra>",
           "ids": [
            "North America"
           ],
           "legendgroup": "North America",
           "marker": {
            "color": "#cf4446",
            "pattern": {
             "shape": ""
            }
           },
           "name": "North America",
           "offsetgroup": "North America",
           "orientation": "v",
           "showlegend": true,
           "textposition": "auto",
           "type": "bar",
           "x": [
            "North America"
           ],
           "xaxis": "x",
           "y": [
            64.875012149211
           ],
           "yaxis": "y"
          },
          {
           "alignmentgroup": "True",
           "hovertemplate": "Entity=%{x}<br>Year=2004<br>Internet_Usage=%{y}<extra></extra>",
           "ids": [
            "South Asia"
           ],
           "legendgroup": "South Asia",
           "marker": {
            "color": "#ed6925",
            "pattern": {
             "shape": ""
            }
           },
           "name": "South Asia",
           "offsetgroup": "South Asia",
           "orientation": "v",
           "showlegend": true,
           "textposition": "auto",
           "type": "bar",
           "x": [
            "South Asia"
           ],
           "xaxis": "x",
           "y": [
            2.19007537447087
           ],
           "yaxis": "y"
          }
         ],
         "name": "2004"
        },
        {
         "data": [
          {
           "alignmentgroup": "True",
           "hovertemplate": "Entity=%{x}<br>Year=2005<br>Internet_Usage=%{y}<extra></extra>",
           "ids": [
            "Africa Eastern and Southern"
           ],
           "legendgroup": "Africa Eastern and Southern",
           "marker": {
            "color": "#000004",
            "pattern": {
             "shape": ""
            }
           },
           "name": "Africa Eastern and Southern",
           "offsetgroup": "Africa Eastern and Southern",
           "orientation": "v",
           "showlegend": true,
           "textposition": "auto",
           "type": "bar",
           "x": [
            "Africa Eastern and Southern"
           ],
           "xaxis": "x",
           "y": [
            1.83534488985186
           ],
           "yaxis": "y"
          },
          {
           "alignmentgroup": "True",
           "hovertemplate": "Entity=%{x}<br>Year=2005<br>Internet_Usage=%{y}<extra></extra>",
           "ids": [
            "Africa Western and Central"
           ],
           "legendgroup": "Africa Western and Central",
           "marker": {
            "color": "#1b0c41",
            "pattern": {
             "shape": ""
            }
           },
           "name": "Africa Western and Central",
           "offsetgroup": "Africa Western and Central",
           "orientation": "v",
           "showlegend": true,
           "textposition": "auto",
           "type": "bar",
           "x": [
            "Africa Western and Central"
           ],
           "xaxis": "x",
           "y": [
            2.32674116599097
           ],
           "yaxis": "y"
          },
          {
           "alignmentgroup": "True",
           "hovertemplate": "Entity=%{x}<br>Year=2005<br>Internet_Usage=%{y}<extra></extra>",
           "ids": [
            "East Asia & Pacific"
           ],
           "legendgroup": "East Asia & Pacific",
           "marker": {
            "color": "#4a0c6b",
            "pattern": {
             "shape": ""
            }
           },
           "name": "East Asia & Pacific",
           "offsetgroup": "East Asia & Pacific",
           "orientation": "v",
           "showlegend": true,
           "textposition": "auto",
           "type": "bar",
           "x": [
            "East Asia & Pacific"
           ],
           "xaxis": "x",
           "y": [
            14.6865023197775
           ],
           "yaxis": "y"
          },
          {
           "alignmentgroup": "True",
           "hovertemplate": "Entity=%{x}<br>Year=2005<br>Internet_Usage=%{y}<extra></extra>",
           "ids": [
            "European Union"
           ],
           "legendgroup": "European Union",
           "marker": {
            "color": "#781c6d",
            "pattern": {
             "shape": ""
            }
           },
           "name": "European Union",
           "offsetgroup": "European Union",
           "orientation": "v",
           "showlegend": true,
           "textposition": "auto",
           "type": "bar",
           "x": [
            "European Union"
           ],
           "xaxis": "x",
           "y": [
            48.301943657072
           ],
           "yaxis": "y"
          },
          {
           "alignmentgroup": "True",
           "hovertemplate": "Entity=%{x}<br>Year=2005<br>Internet_Usage=%{y}<extra></extra>",
           "ids": [
            "Latin America & Caribbean"
           ],
           "legendgroup": "Latin America & Caribbean",
           "marker": {
            "color": "#a52c60",
            "pattern": {
             "shape": ""
            }
           },
           "name": "Latin America & Caribbean",
           "offsetgroup": "Latin America & Caribbean",
           "orientation": "v",
           "showlegend": true,
           "textposition": "auto",
           "type": "bar",
           "x": [
            "Latin America & Caribbean"
           ],
           "xaxis": "x",
           "y": [
            16.6160568076105
           ],
           "yaxis": "y"
          },
          {
           "alignmentgroup": "True",
           "hovertemplate": "Entity=%{x}<br>Year=2005<br>Internet_Usage=%{y}<extra></extra>",
           "ids": [
            "North America"
           ],
           "legendgroup": "North America",
           "marker": {
            "color": "#cf4446",
            "pattern": {
             "shape": ""
            }
           },
           "name": "North America",
           "offsetgroup": "North America",
           "orientation": "v",
           "showlegend": true,
           "textposition": "auto",
           "type": "bar",
           "x": [
            "North America"
           ],
           "xaxis": "x",
           "y": [
            68.3304403541267
           ],
           "yaxis": "y"
          },
          {
           "alignmentgroup": "True",
           "hovertemplate": "Entity=%{x}<br>Year=2005<br>Internet_Usage=%{y}<extra></extra>",
           "ids": [
            "South Asia"
           ],
           "legendgroup": "South Asia",
           "marker": {
            "color": "#ed6925",
            "pattern": {
             "shape": ""
            }
           },
           "name": "South Asia",
           "offsetgroup": "South Asia",
           "orientation": "v",
           "showlegend": true,
           "textposition": "auto",
           "type": "bar",
           "x": [
            "South Asia"
           ],
           "xaxis": "x",
           "y": [
            2.55564645668164
           ],
           "yaxis": "y"
          }
         ],
         "name": "2005"
        },
        {
         "data": [
          {
           "alignmentgroup": "True",
           "hovertemplate": "Entity=%{x}<br>Year=2006<br>Internet_Usage=%{y}<extra></extra>",
           "ids": [
            "Africa Eastern and Southern"
           ],
           "legendgroup": "Africa Eastern and Southern",
           "marker": {
            "color": "#000004",
            "pattern": {
             "shape": ""
            }
           },
           "name": "Africa Eastern and Southern",
           "offsetgroup": "Africa Eastern and Southern",
           "orientation": "v",
           "showlegend": true,
           "textposition": "auto",
           "type": "bar",
           "x": [
            "Africa Eastern and Southern"
           ],
           "xaxis": "x",
           "y": [
            2.13614074042728
           ],
           "yaxis": "y"
          },
          {
           "alignmentgroup": "True",
           "hovertemplate": "Entity=%{x}<br>Year=2006<br>Internet_Usage=%{y}<extra></extra>",
           "ids": [
            "Africa Western and Central"
           ],
           "legendgroup": "Africa Western and Central",
           "marker": {
            "color": "#1b0c41",
            "pattern": {
             "shape": ""
            }
           },
           "name": "Africa Western and Central",
           "offsetgroup": "Africa Western and Central",
           "orientation": "v",
           "showlegend": true,
           "textposition": "auto",
           "type": "bar",
           "x": [
            "Africa Western and Central"
           ],
           "xaxis": "x",
           "y": [
            3.46323637758135
           ],
           "yaxis": "y"
          },
          {
           "alignmentgroup": "True",
           "hovertemplate": "Entity=%{x}<br>Year=2006<br>Internet_Usage=%{y}<extra></extra>",
           "ids": [
            "East Asia & Pacific"
           ],
           "legendgroup": "East Asia & Pacific",
           "marker": {
            "color": "#4a0c6b",
            "pattern": {
             "shape": ""
            }
           },
           "name": "East Asia & Pacific",
           "offsetgroup": "East Asia & Pacific",
           "orientation": "v",
           "showlegend": true,
           "textposition": "auto",
           "type": "bar",
           "x": [
            "East Asia & Pacific"
           ],
           "xaxis": "x",
           "y": [
            16.6375335685497
           ],
           "yaxis": "y"
          },
          {
           "alignmentgroup": "True",
           "hovertemplate": "Entity=%{x}<br>Year=2006<br>Internet_Usage=%{y}<extra></extra>",
           "ids": [
            "European Union"
           ],
           "legendgroup": "European Union",
           "marker": {
            "color": "#781c6d",
            "pattern": {
             "shape": ""
            }
           },
           "name": "European Union",
           "offsetgroup": "European Union",
           "orientation": "v",
           "showlegend": true,
           "textposition": "auto",
           "type": "bar",
           "x": [
            "European Union"
           ],
           "xaxis": "x",
           "y": [
            52.5502049648805
           ],
           "yaxis": "y"
          },
          {
           "alignmentgroup": "True",
           "hovertemplate": "Entity=%{x}<br>Year=2006<br>Internet_Usage=%{y}<extra></extra>",
           "ids": [
            "Latin America & Caribbean"
           ],
           "legendgroup": "Latin America & Caribbean",
           "marker": {
            "color": "#a52c60",
            "pattern": {
             "shape": ""
            }
           },
           "name": "Latin America & Caribbean",
           "offsetgroup": "Latin America & Caribbean",
           "orientation": "v",
           "showlegend": true,
           "textposition": "auto",
           "type": "bar",
           "x": [
            "Latin America & Caribbean"
           ],
           "xaxis": "x",
           "y": [
            20.7533781651469
           ],
           "yaxis": "y"
          },
          {
           "alignmentgroup": "True",
           "hovertemplate": "Entity=%{x}<br>Year=2006<br>Internet_Usage=%{y}<extra></extra>",
           "ids": [
            "North America"
           ],
           "legendgroup": "North America",
           "marker": {
            "color": "#cf4446",
            "pattern": {
             "shape": ""
            }
           },
           "name": "North America",
           "offsetgroup": "North America",
           "orientation": "v",
           "showlegend": true,
           "textposition": "auto",
           "type": "bar",
           "x": [
            "North America"
           ],
           "xaxis": "x",
           "y": [
            69.2730261939104
           ],
           "yaxis": "y"
          },
          {
           "alignmentgroup": "True",
           "hovertemplate": "Entity=%{x}<br>Year=2006<br>Internet_Usage=%{y}<extra></extra>",
           "ids": [
            "South Asia"
           ],
           "legendgroup": "South Asia",
           "marker": {
            "color": "#ed6925",
            "pattern": {
             "shape": ""
            }
           },
           "name": "South Asia",
           "offsetgroup": "South Asia",
           "orientation": "v",
           "showlegend": true,
           "textposition": "auto",
           "type": "bar",
           "x": [
            "South Asia"
           ],
           "xaxis": "x",
           "y": [
            2.99224040780104
           ],
           "yaxis": "y"
          }
         ],
         "name": "2006"
        },
        {
         "data": [
          {
           "alignmentgroup": "True",
           "hovertemplate": "Entity=%{x}<br>Year=2007<br>Internet_Usage=%{y}<extra></extra>",
           "ids": [
            "Africa Eastern and Southern"
           ],
           "legendgroup": "Africa Eastern and Southern",
           "marker": {
            "color": "#000004",
            "pattern": {
             "shape": ""
            }
           },
           "name": "Africa Eastern and Southern",
           "offsetgroup": "Africa Eastern and Southern",
           "orientation": "v",
           "showlegend": true,
           "textposition": "auto",
           "type": "bar",
           "x": [
            "Africa Eastern and Southern"
           ],
           "xaxis": "x",
           "y": [
            2.97794447577724
           ],
           "yaxis": "y"
          },
          {
           "alignmentgroup": "True",
           "hovertemplate": "Entity=%{x}<br>Year=2007<br>Internet_Usage=%{y}<extra></extra>",
           "ids": [
            "Africa Western and Central"
           ],
           "legendgroup": "Africa Western and Central",
           "marker": {
            "color": "#1b0c41",
            "pattern": {
             "shape": ""
            }
           },
           "name": "Africa Western and Central",
           "offsetgroup": "Africa Western and Central",
           "orientation": "v",
           "showlegend": true,
           "textposition": "auto",
           "type": "bar",
           "x": [
            "Africa Western and Central"
           ],
           "xaxis": "x",
           "y": [
            4.24017376957547
           ],
           "yaxis": "y"
          },
          {
           "alignmentgroup": "True",
           "hovertemplate": "Entity=%{x}<br>Year=2007<br>Internet_Usage=%{y}<extra></extra>",
           "ids": [
            "East Asia & Pacific"
           ],
           "legendgroup": "East Asia & Pacific",
           "marker": {
            "color": "#4a0c6b",
            "pattern": {
             "shape": ""
            }
           },
           "name": "East Asia & Pacific",
           "offsetgroup": "East Asia & Pacific",
           "orientation": "v",
           "showlegend": true,
           "textposition": "auto",
           "type": "bar",
           "x": [
            "East Asia & Pacific"
           ],
           "xaxis": "x",
           "y": [
            20.7904574744464
           ],
           "yaxis": "y"
          },
          {
           "alignmentgroup": "True",
           "hovertemplate": "Entity=%{x}<br>Year=2007<br>Internet_Usage=%{y}<extra></extra>",
           "ids": [
            "European Union"
           ],
           "legendgroup": "European Union",
           "marker": {
            "color": "#781c6d",
            "pattern": {
             "shape": ""
            }
           },
           "name": "European Union",
           "offsetgroup": "European Union",
           "orientation": "v",
           "showlegend": true,
           "textposition": "auto",
           "type": "bar",
           "x": [
            "European Union"
           ],
           "xaxis": "x",
           "y": [
            58.2491049624314
           ],
           "yaxis": "y"
          },
          {
           "alignmentgroup": "True",
           "hovertemplate": "Entity=%{x}<br>Year=2007<br>Internet_Usage=%{y}<extra></extra>",
           "ids": [
            "Latin America & Caribbean"
           ],
           "legendgroup": "Latin America & Caribbean",
           "marker": {
            "color": "#a52c60",
            "pattern": {
             "shape": ""
            }
           },
           "name": "Latin America & Caribbean",
           "offsetgroup": "Latin America & Caribbean",
           "orientation": "v",
           "showlegend": true,
           "textposition": "auto",
           "type": "bar",
           "x": [
            "Latin America & Caribbean"
           ],
           "xaxis": "x",
           "y": [
            23.7118466918057
           ],
           "yaxis": "y"
          },
          {
           "alignmentgroup": "True",
           "hovertemplate": "Entity=%{x}<br>Year=2007<br>Internet_Usage=%{y}<extra></extra>",
           "ids": [
            "North America"
           ],
           "legendgroup": "North America",
           "marker": {
            "color": "#cf4446",
            "pattern": {
             "shape": ""
            }
           },
           "name": "North America",
           "offsetgroup": "North America",
           "orientation": "v",
           "showlegend": true,
           "textposition": "auto",
           "type": "bar",
           "x": [
            "North America"
           ],
           "xaxis": "x",
           "y": [
            74.8221899816302
           ],
           "yaxis": "y"
          },
          {
           "alignmentgroup": "True",
           "hovertemplate": "Entity=%{x}<br>Year=2007<br>Internet_Usage=%{y}<extra></extra>",
           "ids": [
            "South Asia"
           ],
           "legendgroup": "South Asia",
           "marker": {
            "color": "#ed6925",
            "pattern": {
             "shape": ""
            }
           },
           "name": "South Asia",
           "offsetgroup": "South Asia",
           "orientation": "v",
           "showlegend": true,
           "textposition": "auto",
           "type": "bar",
           "x": [
            "South Asia"
           ],
           "xaxis": "x",
           "y": [
            3.98381730183109
           ],
           "yaxis": "y"
          }
         ],
         "name": "2007"
        },
        {
         "data": [
          {
           "alignmentgroup": "True",
           "hovertemplate": "Entity=%{x}<br>Year=2008<br>Internet_Usage=%{y}<extra></extra>",
           "ids": [
            "Africa Eastern and Southern"
           ],
           "legendgroup": "Africa Eastern and Southern",
           "marker": {
            "color": "#000004",
            "pattern": {
             "shape": ""
            }
           },
           "name": "Africa Eastern and Southern",
           "offsetgroup": "Africa Eastern and Southern",
           "orientation": "v",
           "showlegend": true,
           "textposition": "auto",
           "type": "bar",
           "x": [
            "Africa Eastern and Southern"
           ],
           "xaxis": "x",
           "y": [
            3.07089536531711
           ],
           "yaxis": "y"
          },
          {
           "alignmentgroup": "True",
           "hovertemplate": "Entity=%{x}<br>Year=2008<br>Internet_Usage=%{y}<extra></extra>",
           "ids": [
            "Africa Western and Central"
           ],
           "legendgroup": "Africa Western and Central",
           "marker": {
            "color": "#1b0c41",
            "pattern": {
             "shape": ""
            }
           },
           "name": "Africa Western and Central",
           "offsetgroup": "Africa Western and Central",
           "orientation": "v",
           "showlegend": true,
           "textposition": "auto",
           "type": "bar",
           "x": [
            "Africa Western and Central"
           ],
           "xaxis": "x",
           "y": [
            4.99156545490828
           ],
           "yaxis": "y"
          },
          {
           "alignmentgroup": "True",
           "hovertemplate": "Entity=%{x}<br>Year=2008<br>Internet_Usage=%{y}<extra></extra>",
           "ids": [
            "East Asia & Pacific"
           ],
           "legendgroup": "East Asia & Pacific",
           "marker": {
            "color": "#4a0c6b",
            "pattern": {
             "shape": ""
            }
           },
           "name": "East Asia & Pacific",
           "offsetgroup": "East Asia & Pacific",
           "orientation": "v",
           "showlegend": true,
           "textposition": "auto",
           "type": "bar",
           "x": [
            "East Asia & Pacific"
           ],
           "xaxis": "x",
           "y": [
            25.2855108798676
           ],
           "yaxis": "y"
          },
          {
           "alignmentgroup": "True",
           "hovertemplate": "Entity=%{x}<br>Year=2008<br>Internet_Usage=%{y}<extra></extra>",
           "ids": [
            "European Union"
           ],
           "legendgroup": "European Union",
           "marker": {
            "color": "#781c6d",
            "pattern": {
             "shape": ""
            }
           },
           "name": "European Union",
           "offsetgroup": "European Union",
           "orientation": "v",
           "showlegend": true,
           "textposition": "auto",
           "type": "bar",
           "x": [
            "European Union"
           ],
           "xaxis": "x",
           "y": [
            62.2500947715588
           ],
           "yaxis": "y"
          },
          {
           "alignmentgroup": "True",
           "hovertemplate": "Entity=%{x}<br>Year=2008<br>Internet_Usage=%{y}<extra></extra>",
           "ids": [
            "Latin America & Caribbean"
           ],
           "legendgroup": "Latin America & Caribbean",
           "marker": {
            "color": "#a52c60",
            "pattern": {
             "shape": ""
            }
           },
           "name": "Latin America & Caribbean",
           "offsetgroup": "Latin America & Caribbean",
           "orientation": "v",
           "showlegend": true,
           "textposition": "auto",
           "type": "bar",
           "x": [
            "Latin America & Caribbean"
           ],
           "xaxis": "x",
           "y": [
            26.5140437979054
           ],
           "yaxis": "y"
          },
          {
           "alignmentgroup": "True",
           "hovertemplate": "Entity=%{x}<br>Year=2008<br>Internet_Usage=%{y}<extra></extra>",
           "ids": [
            "North America"
           ],
           "legendgroup": "North America",
           "marker": {
            "color": "#cf4446",
            "pattern": {
             "shape": ""
            }
           },
           "name": "North America",
           "offsetgroup": "North America",
           "orientation": "v",
           "showlegend": true,
           "textposition": "auto",
           "type": "bar",
           "x": [
            "North America"
           ],
           "xaxis": "x",
           "y": [
            74.2688086987766
           ],
           "yaxis": "y"
          },
          {
           "alignmentgroup": "True",
           "hovertemplate": "Entity=%{x}<br>Year=2008<br>Internet_Usage=%{y}<extra></extra>",
           "ids": [
            "South Asia"
           ],
           "legendgroup": "South Asia",
           "marker": {
            "color": "#ed6925",
            "pattern": {
             "shape": ""
            }
           },
           "name": "South Asia",
           "offsetgroup": "South Asia",
           "orientation": "v",
           "showlegend": true,
           "textposition": "auto",
           "type": "bar",
           "x": [
            "South Asia"
           ],
           "xaxis": "x",
           "y": [
            4.42625968942614
           ],
           "yaxis": "y"
          }
         ],
         "name": "2008"
        },
        {
         "data": [
          {
           "alignmentgroup": "True",
           "hovertemplate": "Entity=%{x}<br>Year=2009<br>Internet_Usage=%{y}<extra></extra>",
           "ids": [
            "Africa Eastern and Southern"
           ],
           "legendgroup": "Africa Eastern and Southern",
           "marker": {
            "color": "#000004",
            "pattern": {
             "shape": ""
            }
           },
           "name": "Africa Eastern and Southern",
           "offsetgroup": "Africa Eastern and Southern",
           "orientation": "v",
           "showlegend": true,
           "textposition": "auto",
           "type": "bar",
           "x": [
            "Africa Eastern and Southern"
           ],
           "xaxis": "x",
           "y": [
            3.71530402776679
           ],
           "yaxis": "y"
          },
          {
           "alignmentgroup": "True",
           "hovertemplate": "Entity=%{x}<br>Year=2009<br>Internet_Usage=%{y}<extra></extra>",
           "ids": [
            "Africa Western and Central"
           ],
           "legendgroup": "Africa Western and Central",
           "marker": {
            "color": "#1b0c41",
            "pattern": {
             "shape": ""
            }
           },
           "name": "Africa Western and Central",
           "offsetgroup": "Africa Western and Central",
           "orientation": "v",
           "showlegend": true,
           "textposition": "auto",
           "type": "bar",
           "x": [
            "Africa Western and Central"
           ],
           "xaxis": "x",
           "y": [
            5.80796073263232
           ],
           "yaxis": "y"
          },
          {
           "alignmentgroup": "True",
           "hovertemplate": "Entity=%{x}<br>Year=2009<br>Internet_Usage=%{y}<extra></extra>",
           "ids": [
            "East Asia & Pacific"
           ],
           "legendgroup": "East Asia & Pacific",
           "marker": {
            "color": "#4a0c6b",
            "pattern": {
             "shape": ""
            }
           },
           "name": "East Asia & Pacific",
           "offsetgroup": "East Asia & Pacific",
           "orientation": "v",
           "showlegend": true,
           "textposition": "auto",
           "type": "bar",
           "x": [
            "East Asia & Pacific"
           ],
           "xaxis": "x",
           "y": [
            29.5506961195955
           ],
           "yaxis": "y"
          },
          {
           "alignmentgroup": "True",
           "hovertemplate": "Entity=%{x}<br>Year=2009<br>Internet_Usage=%{y}<extra></extra>",
           "ids": [
            "European Union"
           ],
           "legendgroup": "European Union",
           "marker": {
            "color": "#781c6d",
            "pattern": {
             "shape": ""
            }
           },
           "name": "European Union",
           "offsetgroup": "European Union",
           "orientation": "v",
           "showlegend": true,
           "textposition": "auto",
           "type": "bar",
           "x": [
            "European Union"
           ],
           "xaxis": "x",
           "y": [
            64.9928352161294
           ],
           "yaxis": "y"
          },
          {
           "alignmentgroup": "True",
           "hovertemplate": "Entity=%{x}<br>Year=2009<br>Internet_Usage=%{y}<extra></extra>",
           "ids": [
            "Latin America & Caribbean"
           ],
           "legendgroup": "Latin America & Caribbean",
           "marker": {
            "color": "#a52c60",
            "pattern": {
             "shape": ""
            }
           },
           "name": "Latin America & Caribbean",
           "offsetgroup": "Latin America & Caribbean",
           "orientation": "v",
           "showlegend": true,
           "textposition": "auto",
           "type": "bar",
           "x": [
            "Latin America & Caribbean"
           ],
           "xaxis": "x",
           "y": [
            31.0392955545167
           ],
           "yaxis": "y"
          },
          {
           "alignmentgroup": "True",
           "hovertemplate": "Entity=%{x}<br>Year=2009<br>Internet_Usage=%{y}<extra></extra>",
           "ids": [
            "North America"
           ],
           "legendgroup": "North America",
           "marker": {
            "color": "#cf4446",
            "pattern": {
             "shape": ""
            }
           },
           "name": "North America",
           "offsetgroup": "North America",
           "orientation": "v",
           "showlegend": true,
           "textposition": "auto",
           "type": "bar",
           "x": [
            "North America"
           ],
           "xaxis": "x",
           "y": [
            71.9250963998418
           ],
           "yaxis": "y"
          },
          {
           "alignmentgroup": "True",
           "hovertemplate": "Entity=%{x}<br>Year=2009<br>Internet_Usage=%{y}<extra></extra>",
           "ids": [
            "South Asia"
           ],
           "legendgroup": "South Asia",
           "marker": {
            "color": "#ed6925",
            "pattern": {
             "shape": ""
            }
           },
           "name": "South Asia",
           "offsetgroup": "South Asia",
           "orientation": "v",
           "showlegend": true,
           "textposition": "auto",
           "type": "bar",
           "x": [
            "South Asia"
           ],
           "xaxis": "x",
           "y": [
            5.16686609553699
           ],
           "yaxis": "y"
          }
         ],
         "name": "2009"
        },
        {
         "data": [
          {
           "alignmentgroup": "True",
           "hovertemplate": "Entity=%{x}<br>Year=2010<br>Internet_Usage=%{y}<extra></extra>",
           "ids": [
            "Africa Eastern and Southern"
           ],
           "legendgroup": "Africa Eastern and Southern",
           "marker": {
            "color": "#000004",
            "pattern": {
             "shape": ""
            }
           },
           "name": "Africa Eastern and Southern",
           "offsetgroup": "Africa Eastern and Southern",
           "orientation": "v",
           "showlegend": true,
           "textposition": "auto",
           "type": "bar",
           "x": [
            "Africa Eastern and Southern"
           ],
           "xaxis": "x",
           "y": [
            6.83708439817341
           ],
           "yaxis": "y"
          },
          {
           "alignmentgroup": "True",
           "hovertemplate": "Entity=%{x}<br>Year=2010<br>Internet_Usage=%{y}<extra></extra>",
           "ids": [
            "Africa Western and Central"
           ],
           "legendgroup": "Africa Western and Central",
           "marker": {
            "color": "#1b0c41",
            "pattern": {
             "shape": ""
            }
           },
           "name": "Africa Western and Central",
           "offsetgroup": "Africa Western and Central",
           "orientation": "v",
           "showlegend": true,
           "textposition": "auto",
           "type": "bar",
           "x": [
            "Africa Western and Central"
           ],
           "xaxis": "x",
           "y": [
            7.24207193407158
           ],
           "yaxis": "y"
          },
          {
           "alignmentgroup": "True",
           "hovertemplate": "Entity=%{x}<br>Year=2010<br>Internet_Usage=%{y}<extra></extra>",
           "ids": [
            "East Asia & Pacific"
           ],
           "legendgroup": "East Asia & Pacific",
           "marker": {
            "color": "#4a0c6b",
            "pattern": {
             "shape": ""
            }
           },
           "name": "East Asia & Pacific",
           "offsetgroup": "East Asia & Pacific",
           "orientation": "v",
           "showlegend": true,
           "textposition": "auto",
           "type": "bar",
           "x": [
            "East Asia & Pacific"
           ],
           "xaxis": "x",
           "y": [
            34.2705539668784
           ],
           "yaxis": "y"
          },
          {
           "alignmentgroup": "True",
           "hovertemplate": "Entity=%{x}<br>Year=2010<br>Internet_Usage=%{y}<extra></extra>",
           "ids": [
            "European Union"
           ],
           "legendgroup": "European Union",
           "marker": {
            "color": "#781c6d",
            "pattern": {
             "shape": ""
            }
           },
           "name": "European Union",
           "offsetgroup": "European Union",
           "orientation": "v",
           "showlegend": true,
           "textposition": "auto",
           "type": "bar",
           "x": [
            "European Union"
           ],
           "xaxis": "x",
           "y": [
            68.6956421468731
           ],
           "yaxis": "y"
          },
          {
           "alignmentgroup": "True",
           "hovertemplate": "Entity=%{x}<br>Year=2010<br>Internet_Usage=%{y}<extra></extra>",
           "ids": [
            "Latin America & Caribbean"
           ],
           "legendgroup": "Latin America & Caribbean",
           "marker": {
            "color": "#a52c60",
            "pattern": {
             "shape": ""
            }
           },
           "name": "Latin America & Caribbean",
           "offsetgroup": "Latin America & Caribbean",
           "orientation": "v",
           "showlegend": true,
           "textposition": "auto",
           "type": "bar",
           "x": [
            "Latin America & Caribbean"
           ],
           "xaxis": "x",
           "y": [
            34.7021411941668
           ],
           "yaxis": "y"
          },
          {
           "alignmentgroup": "True",
           "hovertemplate": "Entity=%{x}<br>Year=2010<br>Internet_Usage=%{y}<extra></extra>",
           "ids": [
            "North America"
           ],
           "legendgroup": "North America",
           "marker": {
            "color": "#cf4446",
            "pattern": {
             "shape": ""
            }
           },
           "name": "North America",
           "offsetgroup": "North America",
           "orientation": "v",
           "showlegend": true,
           "textposition": "auto",
           "type": "bar",
           "x": [
            "North America"
           ],
           "xaxis": "x",
           "y": [
            72.5489982887815
           ],
           "yaxis": "y"
          },
          {
           "alignmentgroup": "True",
           "hovertemplate": "Entity=%{x}<br>Year=2010<br>Internet_Usage=%{y}<extra></extra>",
           "ids": [
            "South Asia"
           ],
           "legendgroup": "South Asia",
           "marker": {
            "color": "#ed6925",
            "pattern": {
             "shape": ""
            }
           },
           "name": "South Asia",
           "offsetgroup": "South Asia",
           "orientation": "v",
           "showlegend": true,
           "textposition": "auto",
           "type": "bar",
           "x": [
            "South Asia"
           ],
           "xaxis": "x",
           "y": [
            7.21973969713247
           ],
           "yaxis": "y"
          }
         ],
         "name": "2010"
        },
        {
         "data": [
          {
           "alignmentgroup": "True",
           "hovertemplate": "Entity=%{x}<br>Year=2011<br>Internet_Usage=%{y}<extra></extra>",
           "ids": [
            "Africa Eastern and Southern"
           ],
           "legendgroup": "Africa Eastern and Southern",
           "marker": {
            "color": "#000004",
            "pattern": {
             "shape": ""
            }
           },
           "name": "Africa Eastern and Southern",
           "offsetgroup": "Africa Eastern and Southern",
           "orientation": "v",
           "showlegend": true,
           "textposition": "auto",
           "type": "bar",
           "x": [
            "Africa Eastern and Southern"
           ],
           "xaxis": "x",
           "y": [
            8.21733034430149
           ],
           "yaxis": "y"
          },
          {
           "alignmentgroup": "True",
           "hovertemplate": "Entity=%{x}<br>Year=2011<br>Internet_Usage=%{y}<extra></extra>",
           "ids": [
            "Africa Western and Central"
           ],
           "legendgroup": "Africa Western and Central",
           "marker": {
            "color": "#1b0c41",
            "pattern": {
             "shape": ""
            }
           },
           "name": "Africa Western and Central",
           "offsetgroup": "Africa Western and Central",
           "orientation": "v",
           "showlegend": true,
           "textposition": "auto",
           "type": "bar",
           "x": [
            "Africa Western and Central"
           ],
           "xaxis": "x",
           "y": [
            8.66331049088811
           ],
           "yaxis": "y"
          },
          {
           "alignmentgroup": "True",
           "hovertemplate": "Entity=%{x}<br>Year=2011<br>Internet_Usage=%{y}<extra></extra>",
           "ids": [
            "East Asia & Pacific"
           ],
           "legendgroup": "East Asia & Pacific",
           "marker": {
            "color": "#4a0c6b",
            "pattern": {
             "shape": ""
            }
           },
           "name": "East Asia & Pacific",
           "offsetgroup": "East Asia & Pacific",
           "orientation": "v",
           "showlegend": true,
           "textposition": "auto",
           "type": "bar",
           "x": [
            "East Asia & Pacific"
           ],
           "xaxis": "x",
           "y": [
            37.4023237117011
           ],
           "yaxis": "y"
          },
          {
           "alignmentgroup": "True",
           "hovertemplate": "Entity=%{x}<br>Year=2011<br>Internet_Usage=%{y}<extra></extra>",
           "ids": [
            "European Union"
           ],
           "legendgroup": "European Union",
           "marker": {
            "color": "#781c6d",
            "pattern": {
             "shape": ""
            }
           },
           "name": "European Union",
           "offsetgroup": "European Union",
           "orientation": "v",
           "showlegend": true,
           "textposition": "auto",
           "type": "bar",
           "x": [
            "European Union"
           ],
           "xaxis": "x",
           "y": [
            69.661777891422
           ],
           "yaxis": "y"
          },
          {
           "alignmentgroup": "True",
           "hovertemplate": "Entity=%{x}<br>Year=2011<br>Internet_Usage=%{y}<extra></extra>",
           "ids": [
            "Latin America & Caribbean"
           ],
           "legendgroup": "Latin America & Caribbean",
           "marker": {
            "color": "#a52c60",
            "pattern": {
             "shape": ""
            }
           },
           "name": "Latin America & Caribbean",
           "offsetgroup": "Latin America & Caribbean",
           "orientation": "v",
           "showlegend": true,
           "textposition": "auto",
           "type": "bar",
           "x": [
            "Latin America & Caribbean"
           ],
           "xaxis": "x",
           "y": [
            39.3384906810595
           ],
           "yaxis": "y"
          },
          {
           "alignmentgroup": "True",
           "hovertemplate": "Entity=%{x}<br>Year=2011<br>Internet_Usage=%{y}<extra></extra>",
           "ids": [
            "North America"
           ],
           "legendgroup": "North America",
           "marker": {
            "color": "#cf4446",
            "pattern": {
             "shape": ""
            }
           },
           "name": "North America",
           "offsetgroup": "North America",
           "orientation": "v",
           "showlegend": true,
           "textposition": "auto",
           "type": "bar",
           "x": [
            "North America"
           ],
           "xaxis": "x",
           "y": [
            71.0569584322978
           ],
           "yaxis": "y"
          },
          {
           "alignmentgroup": "True",
           "hovertemplate": "Entity=%{x}<br>Year=2011<br>Internet_Usage=%{y}<extra></extra>",
           "ids": [
            "South Asia"
           ],
           "legendgroup": "South Asia",
           "marker": {
            "color": "#ed6925",
            "pattern": {
             "shape": ""
            }
           },
           "name": "South Asia",
           "offsetgroup": "South Asia",
           "orientation": "v",
           "showlegend": true,
           "textposition": "auto",
           "type": "bar",
           "x": [
            "South Asia"
           ],
           "xaxis": "x",
           "y": [
            9.41001702905328
           ],
           "yaxis": "y"
          }
         ],
         "name": "2011"
        },
        {
         "data": [
          {
           "alignmentgroup": "True",
           "hovertemplate": "Entity=%{x}<br>Year=2012<br>Internet_Usage=%{y}<extra></extra>",
           "ids": [
            "Africa Eastern and Southern"
           ],
           "legendgroup": "Africa Eastern and Southern",
           "marker": {
            "color": "#000004",
            "pattern": {
             "shape": ""
            }
           },
           "name": "Africa Eastern and Southern",
           "offsetgroup": "Africa Eastern and Southern",
           "orientation": "v",
           "showlegend": true,
           "textposition": "auto",
           "type": "bar",
           "x": [
            "Africa Eastern and Southern"
           ],
           "xaxis": "x",
           "y": [
            10.2528175683957
           ],
           "yaxis": "y"
          },
          {
           "alignmentgroup": "True",
           "hovertemplate": "Entity=%{x}<br>Year=2012<br>Internet_Usage=%{y}<extra></extra>",
           "ids": [
            "Africa Western and Central"
           ],
           "legendgroup": "Africa Western and Central",
           "marker": {
            "color": "#1b0c41",
            "pattern": {
             "shape": ""
            }
           },
           "name": "Africa Western and Central",
           "offsetgroup": "Africa Western and Central",
           "orientation": "v",
           "showlegend": true,
           "textposition": "auto",
           "type": "bar",
           "x": [
            "Africa Western and Central"
           ],
           "xaxis": "x",
           "y": [
            10.3355545850363
           ],
           "yaxis": "y"
          },
          {
           "alignmentgroup": "True",
           "hovertemplate": "Entity=%{x}<br>Year=2012<br>Internet_Usage=%{y}<extra></extra>",
           "ids": [
            "East Asia & Pacific"
           ],
           "legendgroup": "East Asia & Pacific",
           "marker": {
            "color": "#4a0c6b",
            "pattern": {
             "shape": ""
            }
           },
           "name": "East Asia & Pacific",
           "offsetgroup": "East Asia & Pacific",
           "orientation": "v",
           "showlegend": true,
           "textposition": "auto",
           "type": "bar",
           "x": [
            "East Asia & Pacific"
           ],
           "xaxis": "x",
           "y": [
            40.743754029271
           ],
           "yaxis": "y"
          },
          {
           "alignmentgroup": "True",
           "hovertemplate": "Entity=%{x}<br>Year=2012<br>Internet_Usage=%{y}<extra></extra>",
           "ids": [
            "European Union"
           ],
           "legendgroup": "European Union",
           "marker": {
            "color": "#781c6d",
            "pattern": {
             "shape": ""
            }
           },
           "name": "European Union",
           "offsetgroup": "European Union",
           "orientation": "v",
           "showlegend": true,
           "textposition": "auto",
           "type": "bar",
           "x": [
            "European Union"
           ],
           "xaxis": "x",
           "y": [
            71.8574513072492
           ],
           "yaxis": "y"
          },
          {
           "alignmentgroup": "True",
           "hovertemplate": "Entity=%{x}<br>Year=2012<br>Internet_Usage=%{y}<extra></extra>",
           "ids": [
            "Latin America & Caribbean"
           ],
           "legendgroup": "Latin America & Caribbean",
           "marker": {
            "color": "#a52c60",
            "pattern": {
             "shape": ""
            }
           },
           "name": "Latin America & Caribbean",
           "offsetgroup": "Latin America & Caribbean",
           "orientation": "v",
           "showlegend": true,
           "textposition": "auto",
           "type": "bar",
           "x": [
            "Latin America & Caribbean"
           ],
           "xaxis": "x",
           "y": [
            43.162893355839
           ],
           "yaxis": "y"
          },
          {
           "alignmentgroup": "True",
           "hovertemplate": "Entity=%{x}<br>Year=2012<br>Internet_Usage=%{y}<extra></extra>",
           "ids": [
            "North America"
           ],
           "legendgroup": "North America",
           "marker": {
            "color": "#cf4446",
            "pattern": {
             "shape": ""
            }
           },
           "name": "North America",
           "offsetgroup": "North America",
           "orientation": "v",
           "showlegend": true,
           "textposition": "auto",
           "type": "bar",
           "x": [
            "North America"
           ],
           "xaxis": "x",
           "y": [
            75.5335297673991
           ],
           "yaxis": "y"
          },
          {
           "alignmentgroup": "True",
           "hovertemplate": "Entity=%{x}<br>Year=2012<br>Internet_Usage=%{y}<extra></extra>",
           "ids": [
            "South Asia"
           ],
           "legendgroup": "South Asia",
           "marker": {
            "color": "#ed6925",
            "pattern": {
             "shape": ""
            }
           },
           "name": "South Asia",
           "offsetgroup": "South Asia",
           "orientation": "v",
           "showlegend": true,
           "textposition": "auto",
           "type": "bar",
           "x": [
            "South Asia"
           ],
           "xaxis": "x",
           "y": [
            11.5311286506713
           ],
           "yaxis": "y"
          }
         ],
         "name": "2012"
        },
        {
         "data": [
          {
           "alignmentgroup": "True",
           "hovertemplate": "Entity=%{x}<br>Year=2013<br>Internet_Usage=%{y}<extra></extra>",
           "ids": [
            "Africa Eastern and Southern"
           ],
           "legendgroup": "Africa Eastern and Southern",
           "marker": {
            "color": "#000004",
            "pattern": {
             "shape": ""
            }
           },
           "name": "Africa Eastern and Southern",
           "offsetgroup": "Africa Eastern and Southern",
           "orientation": "v",
           "showlegend": true,
           "textposition": "auto",
           "type": "bar",
           "x": [
            "Africa Eastern and Southern"
           ],
           "xaxis": "x",
           "y": [
            11.8766800032232
           ],
           "yaxis": "y"
          },
          {
           "alignmentgroup": "True",
           "hovertemplate": "Entity=%{x}<br>Year=2013<br>Internet_Usage=%{y}<extra></extra>",
           "ids": [
            "Africa Western and Central"
           ],
           "legendgroup": "Africa Western and Central",
           "marker": {
            "color": "#1b0c41",
            "pattern": {
             "shape": ""
            }
           },
           "name": "Africa Western and Central",
           "offsetgroup": "Africa Western and Central",
           "orientation": "v",
           "showlegend": true,
           "textposition": "auto",
           "type": "bar",
           "x": [
            "Africa Western and Central"
           ],
           "xaxis": "x",
           "y": [
            13.0852009626666
           ],
           "yaxis": "y"
          },
          {
           "alignmentgroup": "True",
           "hovertemplate": "Entity=%{x}<br>Year=2013<br>Internet_Usage=%{y}<extra></extra>",
           "ids": [
            "East Asia & Pacific"
           ],
           "legendgroup": "East Asia & Pacific",
           "marker": {
            "color": "#4a0c6b",
            "pattern": {
             "shape": ""
            }
           },
           "name": "East Asia & Pacific",
           "offsetgroup": "East Asia & Pacific",
           "orientation": "v",
           "showlegend": true,
           "textposition": "auto",
           "type": "bar",
           "x": [
            "East Asia & Pacific"
           ],
           "xaxis": "x",
           "y": [
            44.123035166719
           ],
           "yaxis": "y"
          },
          {
           "alignmentgroup": "True",
           "hovertemplate": "Entity=%{x}<br>Year=2013<br>Internet_Usage=%{y}<extra></extra>",
           "ids": [
            "European Union"
           ],
           "legendgroup": "European Union",
           "marker": {
            "color": "#781c6d",
            "pattern": {
             "shape": ""
            }
           },
           "name": "European Union",
           "offsetgroup": "European Union",
           "orientation": "v",
           "showlegend": true,
           "textposition": "auto",
           "type": "bar",
           "x": [
            "European Union"
           ],
           "xaxis": "x",
           "y": [
            73.610369251994
           ],
           "yaxis": "y"
          },
          {
           "alignmentgroup": "True",
           "hovertemplate": "Entity=%{x}<br>Year=2013<br>Internet_Usage=%{y}<extra></extra>",
           "ids": [
            "Latin America & Caribbean"
           ],
           "legendgroup": "Latin America & Caribbean",
           "marker": {
            "color": "#a52c60",
            "pattern": {
             "shape": ""
            }
           },
           "name": "Latin America & Caribbean",
           "offsetgroup": "Latin America & Caribbean",
           "orientation": "v",
           "showlegend": true,
           "textposition": "auto",
           "type": "bar",
           "x": [
            "Latin America & Caribbean"
           ],
           "xaxis": "x",
           "y": [
            46.2373336353434
           ],
           "yaxis": "y"
          },
          {
           "alignmentgroup": "True",
           "hovertemplate": "Entity=%{x}<br>Year=2013<br>Internet_Usage=%{y}<extra></extra>",
           "ids": [
            "North America"
           ],
           "legendgroup": "North America",
           "marker": {
            "color": "#cf4446",
            "pattern": {
             "shape": ""
            }
           },
           "name": "North America",
           "offsetgroup": "North America",
           "orientation": "v",
           "showlegend": true,
           "textposition": "auto",
           "type": "bar",
           "x": [
            "North America"
           ],
           "xaxis": "x",
           "y": [
            72.8493027183661
           ],
           "yaxis": "y"
          },
          {
           "alignmentgroup": "True",
           "hovertemplate": "Entity=%{x}<br>Year=2013<br>Internet_Usage=%{y}<extra></extra>",
           "ids": [
            "South Asia"
           ],
           "legendgroup": "South Asia",
           "marker": {
            "color": "#ed6925",
            "pattern": {
             "shape": ""
            }
           },
           "name": "South Asia",
           "offsetgroup": "South Asia",
           "orientation": "v",
           "showlegend": true,
           "textposition": "auto",
           "type": "bar",
           "x": [
            "South Asia"
           ],
           "xaxis": "x",
           "y": [
            13.7606188573742
           ],
           "yaxis": "y"
          }
         ],
         "name": "2013"
        },
        {
         "data": [
          {
           "alignmentgroup": "True",
           "hovertemplate": "Entity=%{x}<br>Year=2014<br>Internet_Usage=%{y}<extra></extra>",
           "ids": [
            "Africa Eastern and Southern"
           ],
           "legendgroup": "Africa Eastern and Southern",
           "marker": {
            "color": "#000004",
            "pattern": {
             "shape": ""
            }
           },
           "name": "Africa Eastern and Southern",
           "offsetgroup": "Africa Eastern and Southern",
           "orientation": "v",
           "showlegend": true,
           "textposition": "auto",
           "type": "bar",
           "x": [
            "Africa Eastern and Southern"
           ],
           "xaxis": "x",
           "y": [
            14.3665076341758
           ],
           "yaxis": "y"
          },
          {
           "alignmentgroup": "True",
           "hovertemplate": "Entity=%{x}<br>Year=2014<br>Internet_Usage=%{y}<extra></extra>",
           "ids": [
            "Africa Western and Central"
           ],
           "legendgroup": "Africa Western and Central",
           "marker": {
            "color": "#1b0c41",
            "pattern": {
             "shape": ""
            }
           },
           "name": "Africa Western and Central",
           "offsetgroup": "Africa Western and Central",
           "orientation": "v",
           "showlegend": true,
           "textposition": "auto",
           "type": "bar",
           "x": [
            "Africa Western and Central"
           ],
           "xaxis": "x",
           "y": [
            16.0775447603499
           ],
           "yaxis": "y"
          },
          {
           "alignmentgroup": "True",
           "hovertemplate": "Entity=%{x}<br>Year=2014<br>Internet_Usage=%{y}<extra></extra>",
           "ids": [
            "East Asia & Pacific"
           ],
           "legendgroup": "East Asia & Pacific",
           "marker": {
            "color": "#4a0c6b",
            "pattern": {
             "shape": ""
            }
           },
           "name": "East Asia & Pacific",
           "offsetgroup": "East Asia & Pacific",
           "orientation": "v",
           "showlegend": true,
           "textposition": "auto",
           "type": "bar",
           "x": [
            "East Asia & Pacific"
           ],
           "xaxis": "x",
           "y": [
            46.838477159998
           ],
           "yaxis": "y"
          },
          {
           "alignmentgroup": "True",
           "hovertemplate": "Entity=%{x}<br>Year=2014<br>Internet_Usage=%{y}<extra></extra>",
           "ids": [
            "European Union"
           ],
           "legendgroup": "European Union",
           "marker": {
            "color": "#781c6d",
            "pattern": {
             "shape": ""
            }
           },
           "name": "European Union",
           "offsetgroup": "European Union",
           "orientation": "v",
           "showlegend": true,
           "textposition": "auto",
           "type": "bar",
           "x": [
            "European Union"
           ],
           "xaxis": "x",
           "y": [
            75.1855045094835
           ],
           "yaxis": "y"
          },
          {
           "alignmentgroup": "True",
           "hovertemplate": "Entity=%{x}<br>Year=2014<br>Internet_Usage=%{y}<extra></extra>",
           "ids": [
            "Latin America & Caribbean"
           ],
           "legendgroup": "Latin America & Caribbean",
           "marker": {
            "color": "#a52c60",
            "pattern": {
             "shape": ""
            }
           },
           "name": "Latin America & Caribbean",
           "offsetgroup": "Latin America & Caribbean",
           "orientation": "v",
           "showlegend": true,
           "textposition": "auto",
           "type": "bar",
           "x": [
            "Latin America & Caribbean"
           ],
           "xaxis": "x",
           "y": [
            48.6070157052375
           ],
           "yaxis": "y"
          },
          {
           "alignmentgroup": "True",
           "hovertemplate": "Entity=%{x}<br>Year=2014<br>Internet_Usage=%{y}<extra></extra>",
           "ids": [
            "North America"
           ],
           "legendgroup": "North America",
           "marker": {
            "color": "#cf4446",
            "pattern": {
             "shape": ""
            }
           },
           "name": "North America",
           "offsetgroup": "North America",
           "orientation": "v",
           "showlegend": true,
           "textposition": "auto",
           "type": "bar",
           "x": [
            "North America"
           ],
           "xaxis": "x",
           "y": [
            74.4252310539038
           ],
           "yaxis": "y"
          },
          {
           "alignmentgroup": "True",
           "hovertemplate": "Entity=%{x}<br>Year=2014<br>Internet_Usage=%{y}<extra></extra>",
           "ids": [
            "South Asia"
           ],
           "legendgroup": "South Asia",
           "marker": {
            "color": "#ed6925",
            "pattern": {
             "shape": ""
            }
           },
           "name": "South Asia",
           "offsetgroup": "South Asia",
           "orientation": "v",
           "showlegend": true,
           "textposition": "auto",
           "type": "bar",
           "x": [
            "South Asia"
           ],
           "xaxis": "x",
           "y": [
            19.0593018778098
           ],
           "yaxis": "y"
          }
         ],
         "name": "2014"
        },
        {
         "data": [
          {
           "alignmentgroup": "True",
           "hovertemplate": "Entity=%{x}<br>Year=2015<br>Internet_Usage=%{y}<extra></extra>",
           "ids": [
            "Africa Eastern and Southern"
           ],
           "legendgroup": "Africa Eastern and Southern",
           "marker": {
            "color": "#000004",
            "pattern": {
             "shape": ""
            }
           },
           "name": "Africa Eastern and Southern",
           "offsetgroup": "Africa Eastern and Southern",
           "orientation": "v",
           "showlegend": true,
           "textposition": "auto",
           "type": "bar",
           "x": [
            "Africa Eastern and Southern"
           ],
           "xaxis": "x",
           "y": [
            17.4836666165298
           ],
           "yaxis": "y"
          },
          {
           "alignmentgroup": "True",
           "hovertemplate": "Entity=%{x}<br>Year=2015<br>Internet_Usage=%{y}<extra></extra>",
           "ids": [
            "Africa Western and Central"
           ],
           "legendgroup": "Africa Western and Central",
           "marker": {
            "color": "#1b0c41",
            "pattern": {
             "shape": ""
            }
           },
           "name": "Africa Western and Central",
           "offsetgroup": "Africa Western and Central",
           "orientation": "v",
           "showlegend": true,
           "textposition": "auto",
           "type": "bar",
           "x": [
            "Africa Western and Central"
           ],
           "xaxis": "x",
           "y": [
            25.5701843341121
           ],
           "yaxis": "y"
          },
          {
           "alignmentgroup": "True",
           "hovertemplate": "Entity=%{x}<br>Year=2015<br>Internet_Usage=%{y}<extra></extra>",
           "ids": [
            "East Asia & Pacific"
           ],
           "legendgroup": "East Asia & Pacific",
           "marker": {
            "color": "#4a0c6b",
            "pattern": {
             "shape": ""
            }
           },
           "name": "East Asia & Pacific",
           "offsetgroup": "East Asia & Pacific",
           "orientation": "v",
           "showlegend": true,
           "textposition": "auto",
           "type": "bar",
           "x": [
            "East Asia & Pacific"
           ],
           "xaxis": "x",
           "y": [
            49.0084270896419
           ],
           "yaxis": "y"
          },
          {
           "alignmentgroup": "True",
           "hovertemplate": "Entity=%{x}<br>Year=2015<br>Internet_Usage=%{y}<extra></extra>",
           "ids": [
            "European Union"
           ],
           "legendgroup": "European Union",
           "marker": {
            "color": "#781c6d",
            "pattern": {
             "shape": ""
            }
           },
           "name": "European Union",
           "offsetgroup": "European Union",
           "orientation": "v",
           "showlegend": true,
           "textposition": "auto",
           "type": "bar",
           "x": [
            "European Union"
           ],
           "xaxis": "x",
           "y": [
            75.6544158261607
           ],
           "yaxis": "y"
          },
          {
           "alignmentgroup": "True",
           "hovertemplate": "Entity=%{x}<br>Year=2015<br>Internet_Usage=%{y}<extra></extra>",
           "ids": [
            "Latin America & Caribbean"
           ],
           "legendgroup": "Latin America & Caribbean",
           "marker": {
            "color": "#a52c60",
            "pattern": {
             "shape": ""
            }
           },
           "name": "Latin America & Caribbean",
           "offsetgroup": "Latin America & Caribbean",
           "orientation": "v",
           "showlegend": true,
           "textposition": "auto",
           "type": "bar",
           "x": [
            "Latin America & Caribbean"
           ],
           "xaxis": "x",
           "y": [
            54.6160690922127
           ],
           "yaxis": "y"
          },
          {
           "alignmentgroup": "True",
           "hovertemplate": "Entity=%{x}<br>Year=2015<br>Internet_Usage=%{y}<extra></extra>",
           "ids": [
            "North America"
           ],
           "legendgroup": "North America",
           "marker": {
            "color": "#cf4446",
            "pattern": {
             "shape": ""
            }
           },
           "name": "North America",
           "offsetgroup": "North America",
           "orientation": "v",
           "showlegend": true,
           "textposition": "auto",
           "type": "bar",
           "x": [
            "North America"
           ],
           "xaxis": "x",
           "y": [
            76.1172938341097
           ],
           "yaxis": "y"
          },
          {
           "alignmentgroup": "True",
           "hovertemplate": "Entity=%{x}<br>Year=2015<br>Internet_Usage=%{y}<extra></extra>",
           "ids": [
            "South Asia"
           ],
           "legendgroup": "South Asia",
           "marker": {
            "color": "#ed6925",
            "pattern": {
             "shape": ""
            }
           },
           "name": "South Asia",
           "offsetgroup": "South Asia",
           "orientation": "v",
           "showlegend": true,
           "textposition": "auto",
           "type": "bar",
           "x": [
            "South Asia"
           ],
           "xaxis": "x",
           "y": [
            16.2234730219695
           ],
           "yaxis": "y"
          }
         ],
         "name": "2015"
        },
        {
         "data": [
          {
           "alignmentgroup": "True",
           "hovertemplate": "Entity=%{x}<br>Year=2016<br>Internet_Usage=%{y}<extra></extra>",
           "ids": [
            "Africa Eastern and Southern"
           ],
           "legendgroup": "Africa Eastern and Southern",
           "marker": {
            "color": "#000004",
            "pattern": {
             "shape": ""
            }
           },
           "name": "Africa Eastern and Southern",
           "offsetgroup": "Africa Eastern and Southern",
           "orientation": "v",
           "showlegend": true,
           "textposition": "auto",
           "type": "bar",
           "x": [
            "Africa Eastern and Southern"
           ],
           "xaxis": "x",
           "y": [
            17.5854372566907
           ],
           "yaxis": "y"
          },
          {
           "alignmentgroup": "True",
           "hovertemplate": "Entity=%{x}<br>Year=2016<br>Internet_Usage=%{y}<extra></extra>",
           "ids": [
            "East Asia & Pacific"
           ],
           "legendgroup": "East Asia & Pacific",
           "marker": {
            "color": "#4a0c6b",
            "pattern": {
             "shape": ""
            }
           },
           "name": "East Asia & Pacific",
           "offsetgroup": "East Asia & Pacific",
           "orientation": "v",
           "showlegend": true,
           "textposition": "auto",
           "type": "bar",
           "x": [
            "East Asia & Pacific"
           ],
           "xaxis": "x",
           "y": [
            53.1874208856639
           ],
           "yaxis": "y"
          },
          {
           "alignmentgroup": "True",
           "hovertemplate": "Entity=%{x}<br>Year=2016<br>Internet_Usage=%{y}<extra></extra>",
           "ids": [
            "European Union"
           ],
           "legendgroup": "European Union",
           "marker": {
            "color": "#781c6d",
            "pattern": {
             "shape": ""
            }
           },
           "name": "European Union",
           "offsetgroup": "European Union",
           "orientation": "v",
           "showlegend": true,
           "textposition": "auto",
           "type": "bar",
           "x": [
            "European Union"
           ],
           "xaxis": "x",
           "y": [
            76.8264367449193
           ],
           "yaxis": "y"
          },
          {
           "alignmentgroup": "True",
           "hovertemplate": "Entity=%{x}<br>Year=2016<br>Internet_Usage=%{y}<extra></extra>",
           "ids": [
            "Latin America & Caribbean"
           ],
           "legendgroup": "Latin America & Caribbean",
           "marker": {
            "color": "#a52c60",
            "pattern": {
             "shape": ""
            }
           },
           "name": "Latin America & Caribbean",
           "offsetgroup": "Latin America & Caribbean",
           "orientation": "v",
           "showlegend": true,
           "textposition": "auto",
           "type": "bar",
           "x": [
            "Latin America & Caribbean"
           ],
           "xaxis": "x",
           "y": [
            57.3546142720724
           ],
           "yaxis": "y"
          },
          {
           "alignmentgroup": "True",
           "hovertemplate": "Entity=%{x}<br>Year=2016<br>Internet_Usage=%{y}<extra></extra>",
           "ids": [
            "North America"
           ],
           "legendgroup": "North America",
           "marker": {
            "color": "#cf4446",
            "pattern": {
             "shape": ""
            }
           },
           "name": "North America",
           "offsetgroup": "North America",
           "orientation": "v",
           "showlegend": true,
           "textposition": "auto",
           "type": "bar",
           "x": [
            "North America"
           ],
           "xaxis": "x",
           "y": [
            86.1149971071056
           ],
           "yaxis": "y"
          },
          {
           "alignmentgroup": "True",
           "hovertemplate": "Entity=%{x}<br>Year=2016<br>Internet_Usage=%{y}<extra></extra>",
           "ids": [
            "South Asia"
           ],
           "legendgroup": "South Asia",
           "marker": {
            "color": "#ed6925",
            "pattern": {
             "shape": ""
            }
           },
           "name": "South Asia",
           "offsetgroup": "South Asia",
           "orientation": "v",
           "showlegend": true,
           "textposition": "auto",
           "type": "bar",
           "x": [
            "South Asia"
           ],
           "xaxis": "x",
           "y": [
            20.4241391305161
           ],
           "yaxis": "y"
          }
         ],
         "name": "2016"
        },
        {
         "data": [
          {
           "alignmentgroup": "True",
           "hovertemplate": "Entity=%{x}<br>Year=2017<br>Internet_Usage=%{y}<extra></extra>",
           "ids": [
            "Africa Eastern and Southern"
           ],
           "legendgroup": "Africa Eastern and Southern",
           "marker": {
            "color": "#000004",
            "pattern": {
             "shape": ""
            }
           },
           "name": "Africa Eastern and Southern",
           "offsetgroup": "Africa Eastern and Southern",
           "orientation": "v",
           "showlegend": true,
           "textposition": "auto",
           "type": "bar",
           "x": [
            "Africa Eastern and Southern"
           ],
           "xaxis": "x",
           "y": [
            21.2818313064622
           ],
           "yaxis": "y"
          },
          {
           "alignmentgroup": "True",
           "hovertemplate": "Entity=%{x}<br>Year=2017<br>Internet_Usage=%{y}<extra></extra>",
           "ids": [
            "East Asia & Pacific"
           ],
           "legendgroup": "East Asia & Pacific",
           "marker": {
            "color": "#4a0c6b",
            "pattern": {
             "shape": ""
            }
           },
           "name": "East Asia & Pacific",
           "offsetgroup": "East Asia & Pacific",
           "orientation": "v",
           "showlegend": true,
           "textposition": "auto",
           "type": "bar",
           "x": [
            "East Asia & Pacific"
           ],
           "xaxis": "x",
           "y": [
            54.925228895795
           ],
           "yaxis": "y"
          },
          {
           "alignmentgroup": "True",
           "hovertemplate": "Entity=%{x}<br>Year=2017<br>Internet_Usage=%{y}<extra></extra>",
           "ids": [
            "European Union"
           ],
           "legendgroup": "European Union",
           "marker": {
            "color": "#781c6d",
            "pattern": {
             "shape": ""
            }
           },
           "name": "European Union",
           "offsetgroup": "European Union",
           "orientation": "v",
           "showlegend": true,
           "textposition": "auto",
           "type": "bar",
           "x": [
            "European Union"
           ],
           "xaxis": "x",
           "y": [
            78.6838126546675
           ],
           "yaxis": "y"
          },
          {
           "alignmentgroup": "True",
           "hovertemplate": "Entity=%{x}<br>Year=2017<br>Internet_Usage=%{y}<extra></extra>",
           "ids": [
            "Latin America & Caribbean"
           ],
           "legendgroup": "Latin America & Caribbean",
           "marker": {
            "color": "#a52c60",
            "pattern": {
             "shape": ""
            }
           },
           "name": "Latin America & Caribbean",
           "offsetgroup": "Latin America & Caribbean",
           "orientation": "v",
           "showlegend": true,
           "textposition": "auto",
           "type": "bar",
           "x": [
            "Latin America & Caribbean"
           ],
           "xaxis": "x",
           "y": [
            62.4659250684226
           ],
           "yaxis": "y"
          },
          {
           "alignmentgroup": "True",
           "hovertemplate": "Entity=%{x}<br>Year=2017<br>Internet_Usage=%{y}<extra></extra>",
           "ids": [
            "North America"
           ],
           "legendgroup": "North America",
           "marker": {
            "color": "#cf4446",
            "pattern": {
             "shape": ""
            }
           },
           "name": "North America",
           "offsetgroup": "North America",
           "orientation": "v",
           "showlegend": true,
           "textposition": "auto",
           "type": "bar",
           "x": [
            "North America"
           ],
           "xaxis": "x",
           "y": [
            87.8276294994968
           ],
           "yaxis": "y"
          },
          {
           "alignmentgroup": "True",
           "hovertemplate": "Entity=%{x}<br>Year=2017<br>Internet_Usage=%{y}<extra></extra>",
           "ids": [
            "South Asia"
           ],
           "legendgroup": "South Asia",
           "marker": {
            "color": "#ed6925",
            "pattern": {
             "shape": ""
            }
           },
           "name": "South Asia",
           "offsetgroup": "South Asia",
           "orientation": "v",
           "showlegend": true,
           "textposition": "auto",
           "type": "bar",
           "x": [
            "South Asia"
           ],
           "xaxis": "x",
           "y": [
            29.5030395469116
           ],
           "yaxis": "y"
          }
         ],
         "name": "2017"
        }
       ],
       "layout": {
        "barmode": "relative",
        "legend": {
         "title": {
          "text": "Entity"
         },
         "tracegroupgap": 0
        },
        "margin": {
         "b": 0,
         "l": 0,
         "r": 0,
         "t": 30
        },
        "sliders": [
         {
          "active": 0,
          "currentvalue": {
           "prefix": "Year="
          },
          "len": 0.9,
          "pad": {
           "b": 10,
           "t": 60
          },
          "steps": [
           {
            "args": [
             [
              "1990"
             ],
             {
              "frame": {
               "duration": 0,
               "redraw": true
              },
              "fromcurrent": true,
              "mode": "immediate",
              "transition": {
               "duration": 0,
               "easing": "linear"
              }
             }
            ],
            "label": "1990",
            "method": "animate"
           },
           {
            "args": [
             [
              "1991"
             ],
             {
              "frame": {
               "duration": 0,
               "redraw": true
              },
              "fromcurrent": true,
              "mode": "immediate",
              "transition": {
               "duration": 0,
               "easing": "linear"
              }
             }
            ],
            "label": "1991",
            "method": "animate"
           },
           {
            "args": [
             [
              "1992"
             ],
             {
              "frame": {
               "duration": 0,
               "redraw": true
              },
              "fromcurrent": true,
              "mode": "immediate",
              "transition": {
               "duration": 0,
               "easing": "linear"
              }
             }
            ],
            "label": "1992",
            "method": "animate"
           },
           {
            "args": [
             [
              "1993"
             ],
             {
              "frame": {
               "duration": 0,
               "redraw": true
              },
              "fromcurrent": true,
              "mode": "immediate",
              "transition": {
               "duration": 0,
               "easing": "linear"
              }
             }
            ],
            "label": "1993",
            "method": "animate"
           },
           {
            "args": [
             [
              "1994"
             ],
             {
              "frame": {
               "duration": 0,
               "redraw": true
              },
              "fromcurrent": true,
              "mode": "immediate",
              "transition": {
               "duration": 0,
               "easing": "linear"
              }
             }
            ],
            "label": "1994",
            "method": "animate"
           },
           {
            "args": [
             [
              "1995"
             ],
             {
              "frame": {
               "duration": 0,
               "redraw": true
              },
              "fromcurrent": true,
              "mode": "immediate",
              "transition": {
               "duration": 0,
               "easing": "linear"
              }
             }
            ],
            "label": "1995",
            "method": "animate"
           },
           {
            "args": [
             [
              "1996"
             ],
             {
              "frame": {
               "duration": 0,
               "redraw": true
              },
              "fromcurrent": true,
              "mode": "immediate",
              "transition": {
               "duration": 0,
               "easing": "linear"
              }
             }
            ],
            "label": "1996",
            "method": "animate"
           },
           {
            "args": [
             [
              "1997"
             ],
             {
              "frame": {
               "duration": 0,
               "redraw": true
              },
              "fromcurrent": true,
              "mode": "immediate",
              "transition": {
               "duration": 0,
               "easing": "linear"
              }
             }
            ],
            "label": "1997",
            "method": "animate"
           },
           {
            "args": [
             [
              "1998"
             ],
             {
              "frame": {
               "duration": 0,
               "redraw": true
              },
              "fromcurrent": true,
              "mode": "immediate",
              "transition": {
               "duration": 0,
               "easing": "linear"
              }
             }
            ],
            "label": "1998",
            "method": "animate"
           },
           {
            "args": [
             [
              "1999"
             ],
             {
              "frame": {
               "duration": 0,
               "redraw": true
              },
              "fromcurrent": true,
              "mode": "immediate",
              "transition": {
               "duration": 0,
               "easing": "linear"
              }
             }
            ],
            "label": "1999",
            "method": "animate"
           },
           {
            "args": [
             [
              "2000"
             ],
             {
              "frame": {
               "duration": 0,
               "redraw": true
              },
              "fromcurrent": true,
              "mode": "immediate",
              "transition": {
               "duration": 0,
               "easing": "linear"
              }
             }
            ],
            "label": "2000",
            "method": "animate"
           },
           {
            "args": [
             [
              "2001"
             ],
             {
              "frame": {
               "duration": 0,
               "redraw": true
              },
              "fromcurrent": true,
              "mode": "immediate",
              "transition": {
               "duration": 0,
               "easing": "linear"
              }
             }
            ],
            "label": "2001",
            "method": "animate"
           },
           {
            "args": [
             [
              "2002"
             ],
             {
              "frame": {
               "duration": 0,
               "redraw": true
              },
              "fromcurrent": true,
              "mode": "immediate",
              "transition": {
               "duration": 0,
               "easing": "linear"
              }
             }
            ],
            "label": "2002",
            "method": "animate"
           },
           {
            "args": [
             [
              "2003"
             ],
             {
              "frame": {
               "duration": 0,
               "redraw": true
              },
              "fromcurrent": true,
              "mode": "immediate",
              "transition": {
               "duration": 0,
               "easing": "linear"
              }
             }
            ],
            "label": "2003",
            "method": "animate"
           },
           {
            "args": [
             [
              "2004"
             ],
             {
              "frame": {
               "duration": 0,
               "redraw": true
              },
              "fromcurrent": true,
              "mode": "immediate",
              "transition": {
               "duration": 0,
               "easing": "linear"
              }
             }
            ],
            "label": "2004",
            "method": "animate"
           },
           {
            "args": [
             [
              "2005"
             ],
             {
              "frame": {
               "duration": 0,
               "redraw": true
              },
              "fromcurrent": true,
              "mode": "immediate",
              "transition": {
               "duration": 0,
               "easing": "linear"
              }
             }
            ],
            "label": "2005",
            "method": "animate"
           },
           {
            "args": [
             [
              "2006"
             ],
             {
              "frame": {
               "duration": 0,
               "redraw": true
              },
              "fromcurrent": true,
              "mode": "immediate",
              "transition": {
               "duration": 0,
               "easing": "linear"
              }
             }
            ],
            "label": "2006",
            "method": "animate"
           },
           {
            "args": [
             [
              "2007"
             ],
             {
              "frame": {
               "duration": 0,
               "redraw": true
              },
              "fromcurrent": true,
              "mode": "immediate",
              "transition": {
               "duration": 0,
               "easing": "linear"
              }
             }
            ],
            "label": "2007",
            "method": "animate"
           },
           {
            "args": [
             [
              "2008"
             ],
             {
              "frame": {
               "duration": 0,
               "redraw": true
              },
              "fromcurrent": true,
              "mode": "immediate",
              "transition": {
               "duration": 0,
               "easing": "linear"
              }
             }
            ],
            "label": "2008",
            "method": "animate"
           },
           {
            "args": [
             [
              "2009"
             ],
             {
              "frame": {
               "duration": 0,
               "redraw": true
              },
              "fromcurrent": true,
              "mode": "immediate",
              "transition": {
               "duration": 0,
               "easing": "linear"
              }
             }
            ],
            "label": "2009",
            "method": "animate"
           },
           {
            "args": [
             [
              "2010"
             ],
             {
              "frame": {
               "duration": 0,
               "redraw": true
              },
              "fromcurrent": true,
              "mode": "immediate",
              "transition": {
               "duration": 0,
               "easing": "linear"
              }
             }
            ],
            "label": "2010",
            "method": "animate"
           },
           {
            "args": [
             [
              "2011"
             ],
             {
              "frame": {
               "duration": 0,
               "redraw": true
              },
              "fromcurrent": true,
              "mode": "immediate",
              "transition": {
               "duration": 0,
               "easing": "linear"
              }
             }
            ],
            "label": "2011",
            "method": "animate"
           },
           {
            "args": [
             [
              "2012"
             ],
             {
              "frame": {
               "duration": 0,
               "redraw": true
              },
              "fromcurrent": true,
              "mode": "immediate",
              "transition": {
               "duration": 0,
               "easing": "linear"
              }
             }
            ],
            "label": "2012",
            "method": "animate"
           },
           {
            "args": [
             [
              "2013"
             ],
             {
              "frame": {
               "duration": 0,
               "redraw": true
              },
              "fromcurrent": true,
              "mode": "immediate",
              "transition": {
               "duration": 0,
               "easing": "linear"
              }
             }
            ],
            "label": "2013",
            "method": "animate"
           },
           {
            "args": [
             [
              "2014"
             ],
             {
              "frame": {
               "duration": 0,
               "redraw": true
              },
              "fromcurrent": true,
              "mode": "immediate",
              "transition": {
               "duration": 0,
               "easing": "linear"
              }
             }
            ],
            "label": "2014",
            "method": "animate"
           },
           {
            "args": [
             [
              "2015"
             ],
             {
              "frame": {
               "duration": 0,
               "redraw": true
              },
              "fromcurrent": true,
              "mode": "immediate",
              "transition": {
               "duration": 0,
               "easing": "linear"
              }
             }
            ],
            "label": "2015",
            "method": "animate"
           },
           {
            "args": [
             [
              "2016"
             ],
             {
              "frame": {
               "duration": 0,
               "redraw": true
              },
              "fromcurrent": true,
              "mode": "immediate",
              "transition": {
               "duration": 0,
               "easing": "linear"
              }
             }
            ],
            "label": "2016",
            "method": "animate"
           },
           {
            "args": [
             [
              "2017"
             ],
             {
              "frame": {
               "duration": 0,
               "redraw": true
              },
              "fromcurrent": true,
              "mode": "immediate",
              "transition": {
               "duration": 0,
               "easing": "linear"
              }
             }
            ],
            "label": "2017",
            "method": "animate"
           }
          ],
          "x": 0.1,
          "xanchor": "left",
          "y": 0,
          "yanchor": "top"
         }
        ],
        "template": {
         "data": {
          "bar": [
           {
            "error_x": {
             "color": "#2a3f5f"
            },
            "error_y": {
             "color": "#2a3f5f"
            },
            "marker": {
             "line": {
              "color": "#E5ECF6",
              "width": 0.5
             },
             "pattern": {
              "fillmode": "overlay",
              "size": 10,
              "solidity": 0.2
             }
            },
            "type": "bar"
           }
          ],
          "barpolar": [
           {
            "marker": {
             "line": {
              "color": "#E5ECF6",
              "width": 0.5
             },
             "pattern": {
              "fillmode": "overlay",
              "size": 10,
              "solidity": 0.2
             }
            },
            "type": "barpolar"
           }
          ],
          "carpet": [
           {
            "aaxis": {
             "endlinecolor": "#2a3f5f",
             "gridcolor": "white",
             "linecolor": "white",
             "minorgridcolor": "white",
             "startlinecolor": "#2a3f5f"
            },
            "baxis": {
             "endlinecolor": "#2a3f5f",
             "gridcolor": "white",
             "linecolor": "white",
             "minorgridcolor": "white",
             "startlinecolor": "#2a3f5f"
            },
            "type": "carpet"
           }
          ],
          "choropleth": [
           {
            "colorbar": {
             "outlinewidth": 0,
             "ticks": ""
            },
            "type": "choropleth"
           }
          ],
          "contour": [
           {
            "colorbar": {
             "outlinewidth": 0,
             "ticks": ""
            },
            "colorscale": [
             [
              0,
              "#0d0887"
             ],
             [
              0.1111111111111111,
              "#46039f"
             ],
             [
              0.2222222222222222,
              "#7201a8"
             ],
             [
              0.3333333333333333,
              "#9c179e"
             ],
             [
              0.4444444444444444,
              "#bd3786"
             ],
             [
              0.5555555555555556,
              "#d8576b"
             ],
             [
              0.6666666666666666,
              "#ed7953"
             ],
             [
              0.7777777777777778,
              "#fb9f3a"
             ],
             [
              0.8888888888888888,
              "#fdca26"
             ],
             [
              1,
              "#f0f921"
             ]
            ],
            "type": "contour"
           }
          ],
          "contourcarpet": [
           {
            "colorbar": {
             "outlinewidth": 0,
             "ticks": ""
            },
            "type": "contourcarpet"
           }
          ],
          "heatmap": [
           {
            "colorbar": {
             "outlinewidth": 0,
             "ticks": ""
            },
            "colorscale": [
             [
              0,
              "#0d0887"
             ],
             [
              0.1111111111111111,
              "#46039f"
             ],
             [
              0.2222222222222222,
              "#7201a8"
             ],
             [
              0.3333333333333333,
              "#9c179e"
             ],
             [
              0.4444444444444444,
              "#bd3786"
             ],
             [
              0.5555555555555556,
              "#d8576b"
             ],
             [
              0.6666666666666666,
              "#ed7953"
             ],
             [
              0.7777777777777778,
              "#fb9f3a"
             ],
             [
              0.8888888888888888,
              "#fdca26"
             ],
             [
              1,
              "#f0f921"
             ]
            ],
            "type": "heatmap"
           }
          ],
          "heatmapgl": [
           {
            "colorbar": {
             "outlinewidth": 0,
             "ticks": ""
            },
            "colorscale": [
             [
              0,
              "#0d0887"
             ],
             [
              0.1111111111111111,
              "#46039f"
             ],
             [
              0.2222222222222222,
              "#7201a8"
             ],
             [
              0.3333333333333333,
              "#9c179e"
             ],
             [
              0.4444444444444444,
              "#bd3786"
             ],
             [
              0.5555555555555556,
              "#d8576b"
             ],
             [
              0.6666666666666666,
              "#ed7953"
             ],
             [
              0.7777777777777778,
              "#fb9f3a"
             ],
             [
              0.8888888888888888,
              "#fdca26"
             ],
             [
              1,
              "#f0f921"
             ]
            ],
            "type": "heatmapgl"
           }
          ],
          "histogram": [
           {
            "marker": {
             "pattern": {
              "fillmode": "overlay",
              "size": 10,
              "solidity": 0.2
             }
            },
            "type": "histogram"
           }
          ],
          "histogram2d": [
           {
            "colorbar": {
             "outlinewidth": 0,
             "ticks": ""
            },
            "colorscale": [
             [
              0,
              "#0d0887"
             ],
             [
              0.1111111111111111,
              "#46039f"
             ],
             [
              0.2222222222222222,
              "#7201a8"
             ],
             [
              0.3333333333333333,
              "#9c179e"
             ],
             [
              0.4444444444444444,
              "#bd3786"
             ],
             [
              0.5555555555555556,
              "#d8576b"
             ],
             [
              0.6666666666666666,
              "#ed7953"
             ],
             [
              0.7777777777777778,
              "#fb9f3a"
             ],
             [
              0.8888888888888888,
              "#fdca26"
             ],
             [
              1,
              "#f0f921"
             ]
            ],
            "type": "histogram2d"
           }
          ],
          "histogram2dcontour": [
           {
            "colorbar": {
             "outlinewidth": 0,
             "ticks": ""
            },
            "colorscale": [
             [
              0,
              "#0d0887"
             ],
             [
              0.1111111111111111,
              "#46039f"
             ],
             [
              0.2222222222222222,
              "#7201a8"
             ],
             [
              0.3333333333333333,
              "#9c179e"
             ],
             [
              0.4444444444444444,
              "#bd3786"
             ],
             [
              0.5555555555555556,
              "#d8576b"
             ],
             [
              0.6666666666666666,
              "#ed7953"
             ],
             [
              0.7777777777777778,
              "#fb9f3a"
             ],
             [
              0.8888888888888888,
              "#fdca26"
             ],
             [
              1,
              "#f0f921"
             ]
            ],
            "type": "histogram2dcontour"
           }
          ],
          "mesh3d": [
           {
            "colorbar": {
             "outlinewidth": 0,
             "ticks": ""
            },
            "type": "mesh3d"
           }
          ],
          "parcoords": [
           {
            "line": {
             "colorbar": {
              "outlinewidth": 0,
              "ticks": ""
             }
            },
            "type": "parcoords"
           }
          ],
          "pie": [
           {
            "automargin": true,
            "type": "pie"
           }
          ],
          "scatter": [
           {
            "fillpattern": {
             "fillmode": "overlay",
             "size": 10,
             "solidity": 0.2
            },
            "type": "scatter"
           }
          ],
          "scatter3d": [
           {
            "line": {
             "colorbar": {
              "outlinewidth": 0,
              "ticks": ""
             }
            },
            "marker": {
             "colorbar": {
              "outlinewidth": 0,
              "ticks": ""
             }
            },
            "type": "scatter3d"
           }
          ],
          "scattercarpet": [
           {
            "marker": {
             "colorbar": {
              "outlinewidth": 0,
              "ticks": ""
             }
            },
            "type": "scattercarpet"
           }
          ],
          "scattergeo": [
           {
            "marker": {
             "colorbar": {
              "outlinewidth": 0,
              "ticks": ""
             }
            },
            "type": "scattergeo"
           }
          ],
          "scattergl": [
           {
            "marker": {
             "colorbar": {
              "outlinewidth": 0,
              "ticks": ""
             }
            },
            "type": "scattergl"
           }
          ],
          "scattermapbox": [
           {
            "marker": {
             "colorbar": {
              "outlinewidth": 0,
              "ticks": ""
             }
            },
            "type": "scattermapbox"
           }
          ],
          "scatterpolar": [
           {
            "marker": {
             "colorbar": {
              "outlinewidth": 0,
              "ticks": ""
             }
            },
            "type": "scatterpolar"
           }
          ],
          "scatterpolargl": [
           {
            "marker": {
             "colorbar": {
              "outlinewidth": 0,
              "ticks": ""
             }
            },
            "type": "scatterpolargl"
           }
          ],
          "scatterternary": [
           {
            "marker": {
             "colorbar": {
              "outlinewidth": 0,
              "ticks": ""
             }
            },
            "type": "scatterternary"
           }
          ],
          "surface": [
           {
            "colorbar": {
             "outlinewidth": 0,
             "ticks": ""
            },
            "colorscale": [
             [
              0,
              "#0d0887"
             ],
             [
              0.1111111111111111,
              "#46039f"
             ],
             [
              0.2222222222222222,
              "#7201a8"
             ],
             [
              0.3333333333333333,
              "#9c179e"
             ],
             [
              0.4444444444444444,
              "#bd3786"
             ],
             [
              0.5555555555555556,
              "#d8576b"
             ],
             [
              0.6666666666666666,
              "#ed7953"
             ],
             [
              0.7777777777777778,
              "#fb9f3a"
             ],
             [
              0.8888888888888888,
              "#fdca26"
             ],
             [
              1,
              "#f0f921"
             ]
            ],
            "type": "surface"
           }
          ],
          "table": [
           {
            "cells": {
             "fill": {
              "color": "#EBF0F8"
             },
             "line": {
              "color": "white"
             }
            },
            "header": {
             "fill": {
              "color": "#C8D4E3"
             },
             "line": {
              "color": "white"
             }
            },
            "type": "table"
           }
          ]
         },
         "layout": {
          "annotationdefaults": {
           "arrowcolor": "#2a3f5f",
           "arrowhead": 0,
           "arrowwidth": 1
          },
          "autotypenumbers": "strict",
          "coloraxis": {
           "colorbar": {
            "outlinewidth": 0,
            "ticks": ""
           }
          },
          "colorscale": {
           "diverging": [
            [
             0,
             "#8e0152"
            ],
            [
             0.1,
             "#c51b7d"
            ],
            [
             0.2,
             "#de77ae"
            ],
            [
             0.3,
             "#f1b6da"
            ],
            [
             0.4,
             "#fde0ef"
            ],
            [
             0.5,
             "#f7f7f7"
            ],
            [
             0.6,
             "#e6f5d0"
            ],
            [
             0.7,
             "#b8e186"
            ],
            [
             0.8,
             "#7fbc41"
            ],
            [
             0.9,
             "#4d9221"
            ],
            [
             1,
             "#276419"
            ]
           ],
           "sequential": [
            [
             0,
             "#0d0887"
            ],
            [
             0.1111111111111111,
             "#46039f"
            ],
            [
             0.2222222222222222,
             "#7201a8"
            ],
            [
             0.3333333333333333,
             "#9c179e"
            ],
            [
             0.4444444444444444,
             "#bd3786"
            ],
            [
             0.5555555555555556,
             "#d8576b"
            ],
            [
             0.6666666666666666,
             "#ed7953"
            ],
            [
             0.7777777777777778,
             "#fb9f3a"
            ],
            [
             0.8888888888888888,
             "#fdca26"
            ],
            [
             1,
             "#f0f921"
            ]
           ],
           "sequentialminus": [
            [
             0,
             "#0d0887"
            ],
            [
             0.1111111111111111,
             "#46039f"
            ],
            [
             0.2222222222222222,
             "#7201a8"
            ],
            [
             0.3333333333333333,
             "#9c179e"
            ],
            [
             0.4444444444444444,
             "#bd3786"
            ],
            [
             0.5555555555555556,
             "#d8576b"
            ],
            [
             0.6666666666666666,
             "#ed7953"
            ],
            [
             0.7777777777777778,
             "#fb9f3a"
            ],
            [
             0.8888888888888888,
             "#fdca26"
            ],
            [
             1,
             "#f0f921"
            ]
           ]
          },
          "colorway": [
           "#636efa",
           "#EF553B",
           "#00cc96",
           "#ab63fa",
           "#FFA15A",
           "#19d3f3",
           "#FF6692",
           "#B6E880",
           "#FF97FF",
           "#FECB52"
          ],
          "font": {
           "color": "#2a3f5f"
          },
          "geo": {
           "bgcolor": "white",
           "lakecolor": "white",
           "landcolor": "#E5ECF6",
           "showlakes": true,
           "showland": true,
           "subunitcolor": "white"
          },
          "hoverlabel": {
           "align": "left"
          },
          "hovermode": "closest",
          "mapbox": {
           "style": "light"
          },
          "paper_bgcolor": "white",
          "plot_bgcolor": "#E5ECF6",
          "polar": {
           "angularaxis": {
            "gridcolor": "white",
            "linecolor": "white",
            "ticks": ""
           },
           "bgcolor": "#E5ECF6",
           "radialaxis": {
            "gridcolor": "white",
            "linecolor": "white",
            "ticks": ""
           }
          },
          "scene": {
           "xaxis": {
            "backgroundcolor": "#E5ECF6",
            "gridcolor": "white",
            "gridwidth": 2,
            "linecolor": "white",
            "showbackground": true,
            "ticks": "",
            "zerolinecolor": "white"
           },
           "yaxis": {
            "backgroundcolor": "#E5ECF6",
            "gridcolor": "white",
            "gridwidth": 2,
            "linecolor": "white",
            "showbackground": true,
            "ticks": "",
            "zerolinecolor": "white"
           },
           "zaxis": {
            "backgroundcolor": "#E5ECF6",
            "gridcolor": "white",
            "gridwidth": 2,
            "linecolor": "white",
            "showbackground": true,
            "ticks": "",
            "zerolinecolor": "white"
           }
          },
          "shapedefaults": {
           "line": {
            "color": "#2a3f5f"
           }
          },
          "ternary": {
           "aaxis": {
            "gridcolor": "white",
            "linecolor": "white",
            "ticks": ""
           },
           "baxis": {
            "gridcolor": "white",
            "linecolor": "white",
            "ticks": ""
           },
           "bgcolor": "#E5ECF6",
           "caxis": {
            "gridcolor": "white",
            "linecolor": "white",
            "ticks": ""
           }
          },
          "title": {
           "x": 0.05
          },
          "xaxis": {
           "automargin": true,
           "gridcolor": "white",
           "linecolor": "white",
           "ticks": "",
           "title": {
            "standoff": 15
           },
           "zerolinecolor": "white",
           "zerolinewidth": 2
          },
          "yaxis": {
           "automargin": true,
           "gridcolor": "white",
           "linecolor": "white",
           "ticks": "",
           "title": {
            "standoff": 15
           },
           "zerolinecolor": "white",
           "zerolinewidth": 2
          }
         }
        },
        "title": {
         "text": "Internet usage over time for seven regions from 1990 to 2017 for seven regions"
        },
        "updatemenus": [
         {
          "buttons": [
           {
            "args": [
             null,
             {
              "frame": {
               "duration": 500,
               "redraw": true
              },
              "fromcurrent": true,
              "mode": "immediate",
              "transition": {
               "duration": 500,
               "easing": "linear"
              }
             }
            ],
            "label": "&#9654;",
            "method": "animate"
           },
           {
            "args": [
             [
              null
             ],
             {
              "frame": {
               "duration": 0,
               "redraw": true
              },
              "fromcurrent": true,
              "mode": "immediate",
              "transition": {
               "duration": 0,
               "easing": "linear"
              }
             }
            ],
            "label": "&#9724;",
            "method": "animate"
           }
          ],
          "direction": "left",
          "pad": {
           "r": 10,
           "t": 70
          },
          "showactive": false,
          "type": "buttons",
          "x": 0.1,
          "xanchor": "right",
          "y": 0,
          "yanchor": "top"
         }
        ],
        "xaxis": {
         "anchor": "y",
         "categoryarray": [
          "Africa Eastern and Southern",
          "Africa Western and Central",
          "East Asia & Pacific",
          "European Union",
          "Latin America & Caribbean",
          "North America",
          "South Asia"
         ],
         "categoryorder": "array",
         "domain": [
          0,
          1
         ],
         "title": {
          "text": "Entity"
         }
        },
        "yaxis": {
         "anchor": "x",
         "domain": [
          0,
          1
         ],
         "title": {
          "text": "Internet_Usage"
         }
        }
       }
      }
     },
     "metadata": {},
     "output_type": "display_data"
    }
   ],
   "source": [
    "seven_regions = seven_regions.query ('Year < 2018')\n",
    "fig = px.bar(seven_regions, x=\"Entity\", y=\"Internet_Usage\", color=\"Entity\", color_discrete_sequence=px.colors.sequential.Inferno,\n",
    "  animation_frame=\"Year\", animation_group=\"Entity\", title = \"Internet usage over time for seven regions from 1990 to 2017 for seven regions\")\n",
    "\n",
    "fig.update_layout(\n",
    "    margin=dict(l=0, r=0, t=30, b=0))\n",
    "\n",
    "\n",
    "fig.show()"
   ]
  },
  {
   "cell_type": "code",
   "execution_count": 22,
   "metadata": {},
   "outputs": [],
   "source": [
    "five = internet\n",
    "replacers = {'South Asia':'Asia & Pacific','East Asia & Pacific':'Asia & Pacific', 'Africa Eastern and Southern':'Africa','Africa Western and Central':'Africa'} \n",
    "five['Entity'] = five['Entity'].replace(replacers)\n",
    "region = 'Africa', 'Latin America & Caribbean', 'Asia & Pacific', 'North America', 'European Union'\n",
    "five_regions = five[five['Entity'].isin(region)]"
   ]
  },
  {
   "cell_type": "code",
   "execution_count": 23,
   "metadata": {},
   "outputs": [
    {
     "data": {
      "image/png": "[encoded data removed]",
      "text/plain": [
       "<Figure size 1400x700 with 1 Axes>"
      ]
     },
     "metadata": {},
     "output_type": "display_data"
    }
   ],
   "source": [
    "plt.figure(figsize=(14,7))\n",
    "sns.lineplot(data=five_regions,  x = 'Year', y = 'Internet_Usage', hue = 'Entity', palette = 'inferno').set(title='Internet usage over time for five regions');\n"
   ]
  },
  {
   "cell_type": "code",
   "execution_count": 24,
   "metadata": {},
   "outputs": [
    {
     "data": {
      "application/vnd.plotly.v1+json": {
       "config": {
        "plotlyServerURL": "https://plot.ly"
       },
       "data": [
        {
         "alignmentgroup": "True",
         "hovertemplate": "Entity=%{x}<br>Year=1990<br>Internet_Usage=%{y}<extra></extra>",
         "ids": [
          "Africa",
          "Africa"
         ],
         "legendgroup": "Africa",
         "marker": {
          "color": "#000004",
          "pattern": {
           "shape": ""
          }
         },
         "name": "Africa",
         "offsetgroup": "Africa",
         "orientation": "v",
         "showlegend": true,
         "textposition": "auto",
         "type": "bar",
         "x": [
          "Africa",
          "Africa"
         ],
         "xaxis": "x",
         "y": [
          0,
          0
         ],
         "yaxis": "y"
        },
        {
         "alignmentgroup": "True",
         "hovertemplate": "Entity=%{x}<br>Year=1990<br>Internet_Usage=%{y}<extra></extra>",
         "ids": [
          "Asia & Pacific",
          "Asia & Pacific"
         ],
         "legendgroup": "Asia & Pacific",
         "marker": {
          "color": "#1b0c41",
          "pattern": {
           "shape": ""
          }
         },
         "name": "Asia & Pacific",
         "offsetgroup": "Asia & Pacific",
         "orientation": "v",
         "showlegend": true,
         "textposition": "auto",
         "type": "bar",
         "x": [
          "Asia & Pacific",
          "Asia & Pacific"
         ],
         "xaxis": "x",
         "y": [
          0.0072108745794878,
          0
         ],
         "yaxis": "y"
        },
        {
         "alignmentgroup": "True",
         "hovertemplate": "Entity=%{x}<br>Year=1990<br>Internet_Usage=%{y}<extra></extra>",
         "ids": [
          "European Union"
         ],
         "legendgroup": "European Union",
         "marker": {
          "color": "#4a0c6b",
          "pattern": {
           "shape": ""
          }
         },
         "name": "European Union",
         "offsetgroup": "European Union",
         "orientation": "v",
         "showlegend": true,
         "textposition": "auto",
         "type": "bar",
         "x": [
          "European Union"
         ],
         "xaxis": "x",
         "y": [
          0.0667223726931025
         ],
         "yaxis": "y"
        },
        {
         "alignmentgroup": "True",
         "hovertemplate": "Entity=%{x}<br>Year=1990<br>Internet_Usage=%{y}<extra></extra>",
         "ids": [
          "Latin America & Caribbean"
         ],
         "legendgroup": "Latin America & Caribbean",
         "marker": {
          "color": "#781c6d",
          "pattern": {
           "shape": ""
          }
         },
         "name": "Latin America & Caribbean",
         "offsetgroup": "Latin America & Caribbean",
         "orientation": "v",
         "showlegend": true,
         "textposition": "auto",
         "type": "bar",
         "x": [
          "Latin America & Caribbean"
         ],
         "xaxis": "x",
         "y": [
          0
         ],
         "yaxis": "y"
        },
        {
         "alignmentgroup": "True",
         "hovertemplate": "Entity=%{x}<br>Year=1990<br>Internet_Usage=%{y}<extra></extra>",
         "ids": [
          "North America"
         ],
         "legendgroup": "North America",
         "marker": {
          "color": "#a52c60",
          "pattern": {
           "shape": ""
          }
         },
         "name": "North America",
         "offsetgroup": "North America",
         "orientation": "v",
         "showlegend": true,
         "textposition": "auto",
         "type": "bar",
         "x": [
          "North America"
         ],
         "xaxis": "x",
         "y": [
          0.742835611324641
         ],
         "yaxis": "y"
        }
       ],
       "frames": [
        {
         "data": [
          {
           "alignmentgroup": "True",
           "hovertemplate": "Entity=%{x}<br>Year=1990<br>Internet_Usage=%{y}<extra></extra>",
           "ids": [
            "Africa",
            "Africa"
           ],
           "legendgroup": "Africa",
           "marker": {
            "color": "#000004",
            "pattern": {
             "shape": ""
            }
           },
           "name": "Africa",
           "offsetgroup": "Africa",
           "orientation": "v",
           "showlegend": true,
           "textposition": "auto",
           "type": "bar",
           "x": [
            "Africa",
            "Africa"
           ],
           "xaxis": "x",
           "y": [
            0,
            0
           ],
           "yaxis": "y"
          },
          {
           "alignmentgroup": "True",
           "hovertemplate": "Entity=%{x}<br>Year=1990<br>Internet_Usage=%{y}<extra></extra>",
           "ids": [
            "Asia & Pacific",
            "Asia & Pacific"
           ],
           "legendgroup": "Asia & Pacific",
           "marker": {
            "color": "#1b0c41",
            "pattern": {
             "shape": ""
            }
           },
           "name": "Asia & Pacific",
           "offsetgroup": "Asia & Pacific",
           "orientation": "v",
           "showlegend": true,
           "textposition": "auto",
           "type": "bar",
           "x": [
            "Asia & Pacific",
            "Asia & Pacific"
           ],
           "xaxis": "x",
           "y": [
            0.0072108745794878,
            0
           ],
           "yaxis": "y"
          },
          {
           "alignmentgroup": "True",
           "hovertemplate": "Entity=%{x}<br>Year=1990<br>Internet_Usage=%{y}<extra></extra>",
           "ids": [
            "European Union"
           ],
           "legendgroup": "European Union",
           "marker": {
            "color": "#4a0c6b",
            "pattern": {
             "shape": ""
            }
           },
           "name": "European Union",
           "offsetgroup": "European Union",
           "orientation": "v",
           "showlegend": true,
           "textposition": "auto",
           "type": "bar",
           "x": [
            "European Union"
           ],
           "xaxis": "x",
           "y": [
            0.0667223726931025
           ],
           "yaxis": "y"
          },
          {
           "alignmentgroup": "True",
           "hovertemplate": "Entity=%{x}<br>Year=1990<br>Internet_Usage=%{y}<extra></extra>",
           "ids": [
            "Latin America & Caribbean"
           ],
           "legendgroup": "Latin America & Caribbean",
           "marker": {
            "color": "#781c6d",
            "pattern": {
             "shape": ""
            }
           },
           "name": "Latin America & Caribbean",
           "offsetgroup": "Latin America & Caribbean",
           "orientation": "v",
           "showlegend": true,
           "textposition": "auto",
           "type": "bar",
           "x": [
            "Latin America & Caribbean"
           ],
           "xaxis": "x",
           "y": [
            0
           ],
           "yaxis": "y"
          },
          {
           "alignmentgroup": "True",
           "hovertemplate": "Entity=%{x}<br>Year=1990<br>Internet_Usage=%{y}<extra></extra>",
           "ids": [
            "North America"
           ],
           "legendgroup": "North America",
           "marker": {
            "color": "#a52c60",
            "pattern": {
             "shape": ""
            }
           },
           "name": "North America",
           "offsetgroup": "North America",
           "orientation": "v",
           "showlegend": true,
           "textposition": "auto",
           "type": "bar",
           "x": [
            "North America"
           ],
           "xaxis": "x",
           "y": [
            0.742835611324641
           ],
           "yaxis": "y"
          }
         ],
         "name": "1990"
        },
        {
         "data": [
          {
           "alignmentgroup": "True",
           "hovertemplate": "Entity=%{x}<br>Year=1991<br>Internet_Usage=%{y}<extra></extra>",
           "ids": [
            "Africa",
            "Africa"
           ],
           "legendgroup": "Africa",
           "marker": {
            "color": "#000004",
            "pattern": {
             "shape": ""
            }
           },
           "name": "Africa",
           "offsetgroup": "Africa",
           "orientation": "v",
           "showlegend": true,
           "textposition": "auto",
           "type": "bar",
           "x": [
            "Africa",
            "Africa"
           ],
           "xaxis": "x",
           "y": [
            0.0015987650680518,
            0
           ],
           "yaxis": "y"
          },
          {
           "alignmentgroup": "True",
           "hovertemplate": "Entity=%{x}<br>Year=1991<br>Internet_Usage=%{y}<extra></extra>",
           "ids": [
            "Asia & Pacific",
            "Asia & Pacific"
           ],
           "legendgroup": "Asia & Pacific",
           "marker": {
            "color": "#1b0c41",
            "pattern": {
             "shape": ""
            }
           },
           "name": "Asia & Pacific",
           "offsetgroup": "Asia & Pacific",
           "orientation": "v",
           "showlegend": true,
           "textposition": "auto",
           "type": "bar",
           "x": [
            "Asia & Pacific",
            "Asia & Pacific"
           ],
           "xaxis": "x",
           "y": [
            0.0148675340362716,
            0
           ],
           "yaxis": "y"
          },
          {
           "alignmentgroup": "True",
           "hovertemplate": "Entity=%{x}<br>Year=1991<br>Internet_Usage=%{y}<extra></extra>",
           "ids": [
            "European Union"
           ],
           "legendgroup": "European Union",
           "marker": {
            "color": "#4a0c6b",
            "pattern": {
             "shape": ""
            }
           },
           "name": "European Union",
           "offsetgroup": "European Union",
           "orientation": "v",
           "showlegend": true,
           "textposition": "auto",
           "type": "bar",
           "x": [
            "European Union"
           ],
           "xaxis": "x",
           "y": [
            0.145183745842492
           ],
           "yaxis": "y"
          },
          {
           "alignmentgroup": "True",
           "hovertemplate": "Entity=%{x}<br>Year=1991<br>Internet_Usage=%{y}<extra></extra>",
           "ids": [
            "Latin America & Caribbean"
           ],
           "legendgroup": "Latin America & Caribbean",
           "marker": {
            "color": "#781c6d",
            "pattern": {
             "shape": ""
            }
           },
           "name": "Latin America & Caribbean",
           "offsetgroup": "Latin America & Caribbean",
           "orientation": "v",
           "showlegend": true,
           "textposition": "auto",
           "type": "bar",
           "x": [
            "Latin America & Caribbean"
           ],
           "xaxis": "x",
           "y": [
            0.0022264823521394
           ],
           "yaxis": "y"
          },
          {
           "alignmentgroup": "True",
           "hovertemplate": "Entity=%{x}<br>Year=1991<br>Internet_Usage=%{y}<extra></extra>",
           "ids": [
            "North America"
           ],
           "legendgroup": "North America",
           "marker": {
            "color": "#a52c60",
            "pattern": {
             "shape": ""
            }
           },
           "name": "North America",
           "offsetgroup": "North America",
           "orientation": "v",
           "showlegend": true,
           "textposition": "auto",
           "type": "bar",
           "x": [
            "North America"
           ],
           "xaxis": "x",
           "y": [
            1.10441347317847
           ],
           "yaxis": "y"
          }
         ],
         "name": "1991"
        },
        {
         "data": [
          {
           "alignmentgroup": "True",
           "hovertemplate": "Entity=%{x}<br>Year=1992<br>Internet_Usage=%{y}<extra></extra>",
           "ids": [
            "Africa",
            "Africa"
           ],
           "legendgroup": "Africa",
           "marker": {
            "color": "#000004",
            "pattern": {
             "shape": ""
            }
           },
           "name": "Africa",
           "offsetgroup": "Africa",
           "orientation": "v",
           "showlegend": true,
           "textposition": "auto",
           "type": "bar",
           "x": [
            "Africa",
            "Africa"
           ],
           "xaxis": "x",
           "y": [
            0.0046643105220642,
            0
           ],
           "yaxis": "y"
          },
          {
           "alignmentgroup": "True",
           "hovertemplate": "Entity=%{x}<br>Year=1992<br>Internet_Usage=%{y}<extra></extra>",
           "ids": [
            "Asia & Pacific",
            "Asia & Pacific"
           ],
           "legendgroup": "Asia & Pacific",
           "marker": {
            "color": "#1b0c41",
            "pattern": {
             "shape": ""
            }
           },
           "name": "Asia & Pacific",
           "offsetgroup": "Asia & Pacific",
           "orientation": "v",
           "showlegend": true,
           "textposition": "auto",
           "type": "bar",
           "x": [
            "Asia & Pacific",
            "Asia & Pacific"
           ],
           "xaxis": "x",
           "y": [
            0.0311976182830164,
            0.0000854744513479
           ],
           "yaxis": "y"
          },
          {
           "alignmentgroup": "True",
           "hovertemplate": "Entity=%{x}<br>Year=1992<br>Internet_Usage=%{y}<extra></extra>",
           "ids": [
            "European Union"
           ],
           "legendgroup": "European Union",
           "marker": {
            "color": "#4a0c6b",
            "pattern": {
             "shape": ""
            }
           },
           "name": "European Union",
           "offsetgroup": "European Union",
           "orientation": "v",
           "showlegend": true,
           "textposition": "auto",
           "type": "bar",
           "x": [
            "European Union"
           ],
           "xaxis": "x",
           "y": [
            0.271839359869986
           ],
           "yaxis": "y"
          },
          {
           "alignmentgroup": "True",
           "hovertemplate": "Entity=%{x}<br>Year=1992<br>Internet_Usage=%{y}<extra></extra>",
           "ids": [
            "Latin America & Caribbean"
           ],
           "legendgroup": "Latin America & Caribbean",
           "marker": {
            "color": "#781c6d",
            "pattern": {
             "shape": ""
            }
           },
           "name": "Latin America & Caribbean",
           "offsetgroup": "Latin America & Caribbean",
           "orientation": "v",
           "showlegend": true,
           "textposition": "auto",
           "type": "bar",
           "x": [
            "Latin America & Caribbean"
           ],
           "xaxis": "x",
           "y": [
            0.0096374913979162
           ],
           "yaxis": "y"
          },
          {
           "alignmentgroup": "True",
           "hovertemplate": "Entity=%{x}<br>Year=1992<br>Internet_Usage=%{y}<extra></extra>",
           "ids": [
            "North America"
           ],
           "legendgroup": "North America",
           "marker": {
            "color": "#a52c60",
            "pattern": {
             "shape": ""
            }
           },
           "name": "North America",
           "offsetgroup": "North America",
           "orientation": "v",
           "showlegend": true,
           "textposition": "auto",
           "type": "bar",
           "x": [
            "North America"
           ],
           "xaxis": "x",
           "y": [
            1.643862685444
           ],
           "yaxis": "y"
          }
         ],
         "name": "1992"
        },
        {
         "data": [
          {
           "alignmentgroup": "True",
           "hovertemplate": "Entity=%{x}<br>Year=1993<br>Internet_Usage=%{y}<extra></extra>",
           "ids": [
            "Africa",
            "Africa"
           ],
           "legendgroup": "Africa",
           "marker": {
            "color": "#000004",
            "pattern": {
             "shape": ""
            }
           },
           "name": "Africa",
           "offsetgroup": "Africa",
           "orientation": "v",
           "showlegend": true,
           "textposition": "auto",
           "type": "bar",
           "x": [
            "Africa",
            "Africa"
           ],
           "xaxis": "x",
           "y": [
            0.0136089801269559,
            0
           ],
           "yaxis": "y"
          },
          {
           "alignmentgroup": "True",
           "hovertemplate": "Entity=%{x}<br>Year=1993<br>Internet_Usage=%{y}<extra></extra>",
           "ids": [
            "Asia & Pacific",
            "Asia & Pacific"
           ],
           "legendgroup": "Asia & Pacific",
           "marker": {
            "color": "#1b0c41",
            "pattern": {
             "shape": ""
            }
           },
           "name": "Asia & Pacific",
           "offsetgroup": "Asia & Pacific",
           "orientation": "v",
           "showlegend": true,
           "textposition": "auto",
           "type": "bar",
           "x": [
            "Asia & Pacific",
            "Asia & Pacific"
           ],
           "xaxis": "x",
           "y": [
            0.062183679879623,
            0.0001672419182815
           ],
           "yaxis": "y"
          },
          {
           "alignmentgroup": "True",
           "hovertemplate": "Entity=%{x}<br>Year=1993<br>Internet_Usage=%{y}<extra></extra>",
           "ids": [
            "European Union"
           ],
           "legendgroup": "European Union",
           "marker": {
            "color": "#4a0c6b",
            "pattern": {
             "shape": ""
            }
           },
           "name": "European Union",
           "offsetgroup": "European Union",
           "orientation": "v",
           "showlegend": true,
           "textposition": "auto",
           "type": "bar",
           "x": [
            "European Union"
           ],
           "xaxis": "x",
           "y": [
            0.415061288233737
           ],
           "yaxis": "y"
          },
          {
           "alignmentgroup": "True",
           "hovertemplate": "Entity=%{x}<br>Year=1993<br>Internet_Usage=%{y}<extra></extra>",
           "ids": [
            "Latin America & Caribbean"
           ],
           "legendgroup": "Latin America & Caribbean",
           "marker": {
            "color": "#781c6d",
            "pattern": {
             "shape": ""
            }
           },
           "name": "Latin America & Caribbean",
           "offsetgroup": "Latin America & Caribbean",
           "orientation": "v",
           "showlegend": true,
           "textposition": "auto",
           "type": "bar",
           "x": [
            "Latin America & Caribbean"
           ],
           "xaxis": "x",
           "y": [
            0.0211212702156735
           ],
           "yaxis": "y"
          },
          {
           "alignmentgroup": "True",
           "hovertemplate": "Entity=%{x}<br>Year=1993<br>Internet_Usage=%{y}<extra></extra>",
           "ids": [
            "North America"
           ],
           "legendgroup": "North America",
           "marker": {
            "color": "#a52c60",
            "pattern": {
             "shape": ""
            }
           },
           "name": "North America",
           "offsetgroup": "North America",
           "orientation": "v",
           "showlegend": true,
           "textposition": "auto",
           "type": "bar",
           "x": [
            "North America"
           ],
           "xaxis": "x",
           "y": [
            2.16347177698383
           ],
           "yaxis": "y"
          }
         ],
         "name": "1993"
        },
        {
         "data": [
          {
           "alignmentgroup": "True",
           "hovertemplate": "Entity=%{x}<br>Year=1994<br>Internet_Usage=%{y}<extra></extra>",
           "ids": [
            "Africa",
            "Africa"
           ],
           "legendgroup": "Africa",
           "marker": {
            "color": "#000004",
            "pattern": {
             "shape": ""
            }
           },
           "name": "Africa",
           "offsetgroup": "Africa",
           "orientation": "v",
           "showlegend": true,
           "textposition": "auto",
           "type": "bar",
           "x": [
            "Africa",
            "Africa"
           ],
           "xaxis": "x",
           "y": [
            0.0296583471803235,
            0.0000043016238906
           ],
           "yaxis": "y"
          },
          {
           "alignmentgroup": "True",
           "hovertemplate": "Entity=%{x}<br>Year=1994<br>Internet_Usage=%{y}<extra></extra>",
           "ids": [
            "Asia & Pacific",
            "Asia & Pacific"
           ],
           "legendgroup": "Asia & Pacific",
           "marker": {
            "color": "#1b0c41",
            "pattern": {
             "shape": ""
            }
           },
           "name": "Asia & Pacific",
           "offsetgroup": "Asia & Pacific",
           "orientation": "v",
           "showlegend": true,
           "textposition": "auto",
           "type": "bar",
           "x": [
            "Asia & Pacific",
            "Asia & Pacific"
           ],
           "xaxis": "x",
           "y": [
            0.107776621019807,
            0.0008589660816701
           ],
           "yaxis": "y"
          },
          {
           "alignmentgroup": "True",
           "hovertemplate": "Entity=%{x}<br>Year=1994<br>Internet_Usage=%{y}<extra></extra>",
           "ids": [
            "European Union"
           ],
           "legendgroup": "European Union",
           "marker": {
            "color": "#4a0c6b",
            "pattern": {
             "shape": ""
            }
           },
           "name": "European Union",
           "offsetgroup": "European Union",
           "orientation": "v",
           "showlegend": true,
           "textposition": "auto",
           "type": "bar",
           "x": [
            "European Union"
           ],
           "xaxis": "x",
           "y": [
            0.785199202952114
           ],
           "yaxis": "y"
          },
          {
           "alignmentgroup": "True",
           "hovertemplate": "Entity=%{x}<br>Year=1994<br>Internet_Usage=%{y}<extra></extra>",
           "ids": [
            "Latin America & Caribbean"
           ],
           "legendgroup": "Latin America & Caribbean",
           "marker": {
            "color": "#781c6d",
            "pattern": {
             "shape": ""
            }
           },
           "name": "Latin America & Caribbean",
           "offsetgroup": "Latin America & Caribbean",
           "orientation": "v",
           "showlegend": true,
           "textposition": "auto",
           "type": "bar",
           "x": [
            "Latin America & Caribbean"
           ],
           "xaxis": "x",
           "y": [
            0.0434068906029553
           ],
           "yaxis": "y"
          },
          {
           "alignmentgroup": "True",
           "hovertemplate": "Entity=%{x}<br>Year=1994<br>Internet_Usage=%{y}<extra></extra>",
           "ids": [
            "North America"
           ],
           "legendgroup": "North America",
           "marker": {
            "color": "#a52c60",
            "pattern": {
             "shape": ""
            }
           },
           "name": "North America",
           "offsetgroup": "North America",
           "orientation": "v",
           "showlegend": true,
           "textposition": "auto",
           "type": "bar",
           "x": [
            "North America"
           ],
           "xaxis": "x",
           "y": [
            4.61550020464823
           ],
           "yaxis": "y"
          }
         ],
         "name": "1994"
        },
        {
         "data": [
          {
           "alignmentgroup": "True",
           "hovertemplate": "Entity=%{x}<br>Year=1995<br>Internet_Usage=%{y}<extra></extra>",
           "ids": [
            "Africa",
            "Africa"
           ],
           "legendgroup": "Africa",
           "marker": {
            "color": "#000004",
            "pattern": {
             "shape": ""
            }
           },
           "name": "Africa",
           "offsetgroup": "Africa",
           "orientation": "v",
           "showlegend": true,
           "textposition": "auto",
           "type": "bar",
           "x": [
            "Africa",
            "Africa"
           ],
           "xaxis": "x",
           "y": [
            0.0812162187313169,
            0.000128512174414
           ],
           "yaxis": "y"
          },
          {
           "alignmentgroup": "True",
           "hovertemplate": "Entity=%{x}<br>Year=1995<br>Internet_Usage=%{y}<extra></extra>",
           "ids": [
            "Asia & Pacific",
            "Asia & Pacific"
           ],
           "legendgroup": "Asia & Pacific",
           "marker": {
            "color": "#1b0c41",
            "pattern": {
             "shape": ""
            }
           },
           "name": "Asia & Pacific",
           "offsetgroup": "Asia & Pacific",
           "orientation": "v",
           "showlegend": true,
           "textposition": "auto",
           "type": "bar",
           "x": [
            "Asia & Pacific",
            "Asia & Pacific"
           ],
           "xaxis": "x",
           "y": [
            0.193066878560003,
            0.0201474719356977
           ],
           "yaxis": "y"
          },
          {
           "alignmentgroup": "True",
           "hovertemplate": "Entity=%{x}<br>Year=1995<br>Internet_Usage=%{y}<extra></extra>",
           "ids": [
            "European Union"
           ],
           "legendgroup": "European Union",
           "marker": {
            "color": "#4a0c6b",
            "pattern": {
             "shape": ""
            }
           },
           "name": "European Union",
           "offsetgroup": "European Union",
           "orientation": "v",
           "showlegend": true,
           "textposition": "auto",
           "type": "bar",
           "x": [
            "European Union"
           ],
           "xaxis": "x",
           "y": [
            1.5146894217204
           ],
           "yaxis": "y"
          },
          {
           "alignmentgroup": "True",
           "hovertemplate": "Entity=%{x}<br>Year=1995<br>Internet_Usage=%{y}<extra></extra>",
           "ids": [
            "Latin America & Caribbean"
           ],
           "legendgroup": "Latin America & Caribbean",
           "marker": {
            "color": "#781c6d",
            "pattern": {
             "shape": ""
            }
           },
           "name": "Latin America & Caribbean",
           "offsetgroup": "Latin America & Caribbean",
           "orientation": "v",
           "showlegend": true,
           "textposition": "auto",
           "type": "bar",
           "x": [
            "Latin America & Caribbean"
           ],
           "xaxis": "x",
           "y": [
            0.105625846033003
           ],
           "yaxis": "y"
          },
          {
           "alignmentgroup": "True",
           "hovertemplate": "Entity=%{x}<br>Year=1995<br>Internet_Usage=%{y}<extra></extra>",
           "ids": [
            "North America"
           ],
           "legendgroup": "North America",
           "marker": {
            "color": "#a52c60",
            "pattern": {
             "shape": ""
            }
           },
           "name": "North America",
           "offsetgroup": "North America",
           "orientation": "v",
           "showlegend": true,
           "textposition": "auto",
           "type": "bar",
           "x": [
            "North America"
           ],
           "xaxis": "x",
           "y": [
            8.73395407814314
           ],
           "yaxis": "y"
          }
         ],
         "name": "1995"
        },
        {
         "data": [
          {
           "alignmentgroup": "True",
           "hovertemplate": "Entity=%{x}<br>Year=1996<br>Internet_Usage=%{y}<extra></extra>",
           "ids": [
            "Africa",
            "Africa"
           ],
           "legendgroup": "Africa",
           "marker": {
            "color": "#000004",
            "pattern": {
             "shape": ""
            }
           },
           "name": "Africa",
           "offsetgroup": "Africa",
           "orientation": "v",
           "showlegend": true,
           "textposition": "auto",
           "type": "bar",
           "x": [
            "Africa",
            "Africa"
           ],
           "xaxis": "x",
           "y": [
            0.106348941915746,
            0.0070349480412736
           ],
           "yaxis": "y"
          },
          {
           "alignmentgroup": "True",
           "hovertemplate": "Entity=%{x}<br>Year=1996<br>Internet_Usage=%{y}<extra></extra>",
           "ids": [
            "Asia & Pacific",
            "Asia & Pacific"
           ],
           "legendgroup": "Asia & Pacific",
           "marker": {
            "color": "#1b0c41",
            "pattern": {
             "shape": ""
            }
           },
           "name": "Asia & Pacific",
           "offsetgroup": "Asia & Pacific",
           "orientation": "v",
           "showlegend": true,
           "textposition": "auto",
           "type": "bar",
           "x": [
            "Asia & Pacific",
            "Asia & Pacific"
           ],
           "xaxis": "x",
           "y": [
            0.467536911294776,
            0.0409035293739115
           ],
           "yaxis": "y"
          },
          {
           "alignmentgroup": "True",
           "hovertemplate": "Entity=%{x}<br>Year=1996<br>Internet_Usage=%{y}<extra></extra>",
           "ids": [
            "European Union"
           ],
           "legendgroup": "European Union",
           "marker": {
            "color": "#4a0c6b",
            "pattern": {
             "shape": ""
            }
           },
           "name": "European Union",
           "offsetgroup": "European Union",
           "orientation": "v",
           "showlegend": true,
           "textposition": "auto",
           "type": "bar",
           "x": [
            "European Union"
           ],
           "xaxis": "x",
           "y": [
            2.62462287233831
           ],
           "yaxis": "y"
          },
          {
           "alignmentgroup": "True",
           "hovertemplate": "Entity=%{x}<br>Year=1996<br>Internet_Usage=%{y}<extra></extra>",
           "ids": [
            "Latin America & Caribbean"
           ],
           "legendgroup": "Latin America & Caribbean",
           "marker": {
            "color": "#781c6d",
            "pattern": {
             "shape": ""
            }
           },
           "name": "Latin America & Caribbean",
           "offsetgroup": "Latin America & Caribbean",
           "orientation": "v",
           "showlegend": true,
           "textposition": "auto",
           "type": "bar",
           "x": [
            "Latin America & Caribbean"
           ],
           "xaxis": "x",
           "y": [
            0.309551535351447
           ],
           "yaxis": "y"
          },
          {
           "alignmentgroup": "True",
           "hovertemplate": "Entity=%{x}<br>Year=1996<br>Internet_Usage=%{y}<extra></extra>",
           "ids": [
            "North America"
           ],
           "legendgroup": "North America",
           "marker": {
            "color": "#a52c60",
            "pattern": {
             "shape": ""
            }
           },
           "name": "North America",
           "offsetgroup": "North America",
           "orientation": "v",
           "showlegend": true,
           "textposition": "auto",
           "type": "bar",
           "x": [
            "North America"
           ],
           "xaxis": "x",
           "y": [
            15.4640267065347
           ],
           "yaxis": "y"
          }
         ],
         "name": "1996"
        },
        {
         "data": [
          {
           "alignmentgroup": "True",
           "hovertemplate": "Entity=%{x}<br>Year=1997<br>Internet_Usage=%{y}<extra></extra>",
           "ids": [
            "Africa",
            "Africa"
           ],
           "legendgroup": "Africa",
           "marker": {
            "color": "#000004",
            "pattern": {
             "shape": ""
            }
           },
           "name": "Africa",
           "offsetgroup": "Africa",
           "orientation": "v",
           "showlegend": true,
           "textposition": "auto",
           "type": "bar",
           "x": [
            "Africa",
            "Africa"
           ],
           "xaxis": "x",
           "y": [
            0.202055769965555,
            0.0198422946306781
           ],
           "yaxis": "y"
          },
          {
           "alignmentgroup": "True",
           "hovertemplate": "Entity=%{x}<br>Year=1997<br>Internet_Usage=%{y}<extra></extra>",
           "ids": [
            "Asia & Pacific",
            "Asia & Pacific"
           ],
           "legendgroup": "Asia & Pacific",
           "marker": {
            "color": "#1b0c41",
            "pattern": {
             "shape": ""
            }
           },
           "name": "Asia & Pacific",
           "offsetgroup": "Asia & Pacific",
           "orientation": "v",
           "showlegend": true,
           "textposition": "auto",
           "type": "bar",
           "x": [
            "Asia & Pacific",
            "Asia & Pacific"
           ],
           "xaxis": "x",
           "y": [
            1.08368558341961,
            0.060390755784059
           ],
           "yaxis": "y"
          },
          {
           "alignmentgroup": "True",
           "hovertemplate": "Entity=%{x}<br>Year=1997<br>Internet_Usage=%{y}<extra></extra>",
           "ids": [
            "European Union"
           ],
           "legendgroup": "European Union",
           "marker": {
            "color": "#4a0c6b",
            "pattern": {
             "shape": ""
            }
           },
           "name": "European Union",
           "offsetgroup": "European Union",
           "orientation": "v",
           "showlegend": true,
           "textposition": "auto",
           "type": "bar",
           "x": [
            "European Union"
           ],
           "xaxis": "x",
           "y": [
            4.80236084523099
           ],
           "yaxis": "y"
          },
          {
           "alignmentgroup": "True",
           "hovertemplate": "Entity=%{x}<br>Year=1997<br>Internet_Usage=%{y}<extra></extra>",
           "ids": [
            "Latin America & Caribbean"
           ],
           "legendgroup": "Latin America & Caribbean",
           "marker": {
            "color": "#781c6d",
            "pattern": {
             "shape": ""
            }
           },
           "name": "Latin America & Caribbean",
           "offsetgroup": "Latin America & Caribbean",
           "orientation": "v",
           "showlegend": true,
           "textposition": "auto",
           "type": "bar",
           "x": [
            "Latin America & Caribbean"
           ],
           "xaxis": "x",
           "y": [
            0.608914642895414
           ],
           "yaxis": "y"
          },
          {
           "alignmentgroup": "True",
           "hovertemplate": "Entity=%{x}<br>Year=1997<br>Internet_Usage=%{y}<extra></extra>",
           "ids": [
            "North America"
           ],
           "legendgroup": "North America",
           "marker": {
            "color": "#a52c60",
            "pattern": {
             "shape": ""
            }
           },
           "name": "North America",
           "offsetgroup": "North America",
           "orientation": "v",
           "showlegend": true,
           "textposition": "auto",
           "type": "bar",
           "x": [
            "North America"
           ],
           "xaxis": "x",
           "y": [
            20.9714337581609
           ],
           "yaxis": "y"
          }
         ],
         "name": "1997"
        },
        {
         "data": [
          {
           "alignmentgroup": "True",
           "hovertemplate": "Entity=%{x}<br>Year=1998<br>Internet_Usage=%{y}<extra></extra>",
           "ids": [
            "Africa",
            "Africa"
           ],
           "legendgroup": "Africa",
           "marker": {
            "color": "#000004",
            "pattern": {
             "shape": ""
            }
           },
           "name": "Africa",
           "offsetgroup": "Africa",
           "orientation": "v",
           "showlegend": true,
           "textposition": "auto",
           "type": "bar",
           "x": [
            "Africa",
            "Africa"
           ],
           "xaxis": "x",
           "y": [
            0.367790377676976,
            0.0354244563365098
           ],
           "yaxis": "y"
          },
          {
           "alignmentgroup": "True",
           "hovertemplate": "Entity=%{x}<br>Year=1998<br>Internet_Usage=%{y}<extra></extra>",
           "ids": [
            "Asia & Pacific",
            "Asia & Pacific"
           ],
           "legendgroup": "Asia & Pacific",
           "marker": {
            "color": "#1b0c41",
            "pattern": {
             "shape": ""
            }
           },
           "name": "Asia & Pacific",
           "offsetgroup": "Asia & Pacific",
           "orientation": "v",
           "showlegend": true,
           "textposition": "auto",
           "type": "bar",
           "x": [
            "Asia & Pacific",
            "Asia & Pacific"
           ],
           "xaxis": "x",
           "y": [
            1.88541468355169,
            0.117714358250296
           ],
           "yaxis": "y"
          },
          {
           "alignmentgroup": "True",
           "hovertemplate": "Entity=%{x}<br>Year=1998<br>Internet_Usage=%{y}<extra></extra>",
           "ids": [
            "European Union"
           ],
           "legendgroup": "European Union",
           "marker": {
            "color": "#4a0c6b",
            "pattern": {
             "shape": ""
            }
           },
           "name": "European Union",
           "offsetgroup": "European Union",
           "orientation": "v",
           "showlegend": true,
           "textposition": "auto",
           "type": "bar",
           "x": [
            "European Union"
           ],
           "xaxis": "x",
           "y": [
            7.69303237924152
           ],
           "yaxis": "y"
          },
          {
           "alignmentgroup": "True",
           "hovertemplate": "Entity=%{x}<br>Year=1998<br>Internet_Usage=%{y}<extra></extra>",
           "ids": [
            "Latin America & Caribbean"
           ],
           "legendgroup": "Latin America & Caribbean",
           "marker": {
            "color": "#781c6d",
            "pattern": {
             "shape": ""
            }
           },
           "name": "Latin America & Caribbean",
           "offsetgroup": "Latin America & Caribbean",
           "orientation": "v",
           "showlegend": true,
           "textposition": "auto",
           "type": "bar",
           "x": [
            "Latin America & Caribbean"
           ],
           "xaxis": "x",
           "y": [
            1.22873933742197
           ],
           "yaxis": "y"
          },
          {
           "alignmentgroup": "True",
           "hovertemplate": "Entity=%{x}<br>Year=1998<br>Internet_Usage=%{y}<extra></extra>",
           "ids": [
            "North America"
           ],
           "legendgroup": "North America",
           "marker": {
            "color": "#a52c60",
            "pattern": {
             "shape": ""
            }
           },
           "name": "North America",
           "offsetgroup": "North America",
           "orientation": "v",
           "showlegend": true,
           "textposition": "auto",
           "type": "bar",
           "x": [
            "North America"
           ],
           "xaxis": "x",
           "y": [
            29.5826213192236
           ],
           "yaxis": "y"
          }
         ],
         "name": "1998"
        },
        {
         "data": [
          {
           "alignmentgroup": "True",
           "hovertemplate": "Entity=%{x}<br>Year=1999<br>Internet_Usage=%{y}<extra></extra>",
           "ids": [
            "Africa",
            "Africa"
           ],
           "legendgroup": "Africa",
           "marker": {
            "color": "#000004",
            "pattern": {
             "shape": ""
            }
           },
           "name": "Africa",
           "offsetgroup": "Africa",
           "orientation": "v",
           "showlegend": true,
           "textposition": "auto",
           "type": "bar",
           "x": [
            "Africa",
            "Africa"
           ],
           "xaxis": "x",
           "y": [
            0.544145756214162,
            0.0862388487127028
           ],
           "yaxis": "y"
          },
          {
           "alignmentgroup": "True",
           "hovertemplate": "Entity=%{x}<br>Year=1999<br>Internet_Usage=%{y}<extra></extra>",
           "ids": [
            "Asia & Pacific",
            "Asia & Pacific"
           ],
           "legendgroup": "Asia & Pacific",
           "marker": {
            "color": "#1b0c41",
            "pattern": {
             "shape": ""
            }
           },
           "name": "Asia & Pacific",
           "offsetgroup": "Asia & Pacific",
           "orientation": "v",
           "showlegend": true,
           "textposition": "auto",
           "type": "bar",
           "x": [
            "Asia & Pacific",
            "Asia & Pacific"
           ],
           "xaxis": "x",
           "y": [
            3.41787819769399,
            0.227646629594943
           ],
           "yaxis": "y"
          },
          {
           "alignmentgroup": "True",
           "hovertemplate": "Entity=%{x}<br>Year=1999<br>Internet_Usage=%{y}<extra></extra>",
           "ids": [
            "European Union"
           ],
           "legendgroup": "European Union",
           "marker": {
            "color": "#4a0c6b",
            "pattern": {
             "shape": ""
            }
           },
           "name": "European Union",
           "offsetgroup": "European Union",
           "orientation": "v",
           "showlegend": true,
           "textposition": "auto",
           "type": "bar",
           "x": [
            "European Union"
           ],
           "xaxis": "x",
           "y": [
            13.6278604408869
           ],
           "yaxis": "y"
          },
          {
           "alignmentgroup": "True",
           "hovertemplate": "Entity=%{x}<br>Year=1999<br>Internet_Usage=%{y}<extra></extra>",
           "ids": [
            "Latin America & Caribbean"
           ],
           "legendgroup": "Latin America & Caribbean",
           "marker": {
            "color": "#781c6d",
            "pattern": {
             "shape": ""
            }
           },
           "name": "Latin America & Caribbean",
           "offsetgroup": "Latin America & Caribbean",
           "orientation": "v",
           "showlegend": true,
           "textposition": "auto",
           "type": "bar",
           "x": [
            "Latin America & Caribbean"
           ],
           "xaxis": "x",
           "y": [
            2.05177996241735
           ],
           "yaxis": "y"
          },
          {
           "alignmentgroup": "True",
           "hovertemplate": "Entity=%{x}<br>Year=1999<br>Internet_Usage=%{y}<extra></extra>",
           "ids": [
            "North America"
           ],
           "legendgroup": "North America",
           "marker": {
            "color": "#a52c60",
            "pattern": {
             "shape": ""
            }
           },
           "name": "North America",
           "offsetgroup": "North America",
           "orientation": "v",
           "showlegend": true,
           "textposition": "auto",
           "type": "bar",
           "x": [
            "North America"
           ],
           "xaxis": "x",
           "y": [
            35.8827105582599
           ],
           "yaxis": "y"
          }
         ],
         "name": "1999"
        },
        {
         "data": [
          {
           "alignmentgroup": "True",
           "hovertemplate": "Entity=%{x}<br>Year=2000<br>Internet_Usage=%{y}<extra></extra>",
           "ids": [
            "Africa",
            "Africa"
           ],
           "legendgroup": "Africa",
           "marker": {
            "color": "#000004",
            "pattern": {
             "shape": ""
            }
           },
           "name": "Africa",
           "offsetgroup": "Africa",
           "orientation": "v",
           "showlegend": true,
           "textposition": "auto",
           "type": "bar",
           "x": [
            "Africa",
            "Africa"
           ],
           "xaxis": "x",
           "y": [
            0.743921679270876,
            0.138960653380905
           ],
           "yaxis": "y"
          },
          {
           "alignmentgroup": "True",
           "hovertemplate": "Entity=%{x}<br>Year=2000<br>Internet_Usage=%{y}<extra></extra>",
           "ids": [
            "Asia & Pacific",
            "Asia & Pacific"
           ],
           "legendgroup": "Asia & Pacific",
           "marker": {
            "color": "#1b0c41",
            "pattern": {
             "shape": ""
            }
           },
           "name": "Asia & Pacific",
           "offsetgroup": "Asia & Pacific",
           "orientation": "v",
           "showlegend": true,
           "textposition": "auto",
           "type": "bar",
           "x": [
            "Asia & Pacific",
            "Asia & Pacific"
           ],
           "xaxis": "x",
           "y": [
            5.60924070528704,
            0.475928509361668
           ],
           "yaxis": "y"
          },
          {
           "alignmentgroup": "True",
           "hovertemplate": "Entity=%{x}<br>Year=2000<br>Internet_Usage=%{y}<extra></extra>",
           "ids": [
            "European Union"
           ],
           "legendgroup": "European Union",
           "marker": {
            "color": "#4a0c6b",
            "pattern": {
             "shape": ""
            }
           },
           "name": "European Union",
           "offsetgroup": "European Union",
           "orientation": "v",
           "showlegend": true,
           "textposition": "auto",
           "type": "bar",
           "x": [
            "European Union"
           ],
           "xaxis": "x",
           "y": [
            19.6471689008245
           ],
           "yaxis": "y"
          },
          {
           "alignmentgroup": "True",
           "hovertemplate": "Entity=%{x}<br>Year=2000<br>Internet_Usage=%{y}<extra></extra>",
           "ids": [
            "Latin America & Caribbean"
           ],
           "legendgroup": "Latin America & Caribbean",
           "marker": {
            "color": "#781c6d",
            "pattern": {
             "shape": ""
            }
           },
           "name": "Latin America & Caribbean",
           "offsetgroup": "Latin America & Caribbean",
           "orientation": "v",
           "showlegend": true,
           "textposition": "auto",
           "type": "bar",
           "x": [
            "Latin America & Caribbean"
           ],
           "xaxis": "x",
           "y": [
            3.88445540375328
           ],
           "yaxis": "y"
          },
          {
           "alignmentgroup": "True",
           "hovertemplate": "Entity=%{x}<br>Year=2000<br>Internet_Usage=%{y}<extra></extra>",
           "ids": [
            "North America"
           ],
           "legendgroup": "North America",
           "marker": {
            "color": "#a52c60",
            "pattern": {
             "shape": ""
            }
           },
           "name": "North America",
           "offsetgroup": "North America",
           "orientation": "v",
           "showlegend": true,
           "textposition": "auto",
           "type": "bar",
           "x": [
            "North America"
           ],
           "xaxis": "x",
           "y": [
            43.8841640832073
           ],
           "yaxis": "y"
          }
         ],
         "name": "2000"
        },
        {
         "data": [
          {
           "alignmentgroup": "True",
           "hovertemplate": "Entity=%{x}<br>Year=2001<br>Internet_Usage=%{y}<extra></extra>",
           "ids": [
            "Africa",
            "Africa"
           ],
           "legendgroup": "Africa",
           "marker": {
            "color": "#000004",
            "pattern": {
             "shape": ""
            }
           },
           "name": "Africa",
           "offsetgroup": "Africa",
           "orientation": "v",
           "showlegend": true,
           "textposition": "auto",
           "type": "bar",
           "x": [
            "Africa",
            "Africa"
           ],
           "xaxis": "x",
           "y": [
            0.930779519522306,
            0.20959643027656
           ],
           "yaxis": "y"
          },
          {
           "alignmentgroup": "True",
           "hovertemplate": "Entity=%{x}<br>Year=2001<br>Internet_Usage=%{y}<extra></extra>",
           "ids": [
            "Asia & Pacific",
            "Asia & Pacific"
           ],
           "legendgroup": "Asia & Pacific",
           "marker": {
            "color": "#1b0c41",
            "pattern": {
             "shape": ""
            }
           },
           "name": "Asia & Pacific",
           "offsetgroup": "Asia & Pacific",
           "orientation": "v",
           "showlegend": true,
           "textposition": "auto",
           "type": "bar",
           "x": [
            "Asia & Pacific",
            "Asia & Pacific"
           ],
           "xaxis": "x",
           "y": [
            7.27835490444649,
            0.664542970301687
           ],
           "yaxis": "y"
          },
          {
           "alignmentgroup": "True",
           "hovertemplate": "Entity=%{x}<br>Year=2001<br>Internet_Usage=%{y}<extra></extra>",
           "ids": [
            "European Union"
           ],
           "legendgroup": "European Union",
           "marker": {
            "color": "#4a0c6b",
            "pattern": {
             "shape": ""
            }
           },
           "name": "European Union",
           "offsetgroup": "European Union",
           "orientation": "v",
           "showlegend": true,
           "textposition": "auto",
           "type": "bar",
           "x": [
            "European Union"
           ],
           "xaxis": "x",
           "y": [
            24.138993449168
           ],
           "yaxis": "y"
          },
          {
           "alignmentgroup": "True",
           "hovertemplate": "Entity=%{x}<br>Year=2001<br>Internet_Usage=%{y}<extra></extra>",
           "ids": [
            "Latin America & Caribbean"
           ],
           "legendgroup": "Latin America & Caribbean",
           "marker": {
            "color": "#781c6d",
            "pattern": {
             "shape": ""
            }
           },
           "name": "Latin America & Caribbean",
           "offsetgroup": "Latin America & Caribbean",
           "orientation": "v",
           "showlegend": true,
           "textposition": "auto",
           "type": "bar",
           "x": [
            "Latin America & Caribbean"
           ],
           "xaxis": "x",
           "y": [
            5.63092332270643
           ],
           "yaxis": "y"
          },
          {
           "alignmentgroup": "True",
           "hovertemplate": "Entity=%{x}<br>Year=2001<br>Internet_Usage=%{y}<extra></extra>",
           "ids": [
            "North America"
           ],
           "legendgroup": "North America",
           "marker": {
            "color": "#a52c60",
            "pattern": {
             "shape": ""
            }
           },
           "name": "North America",
           "offsetgroup": "North America",
           "orientation": "v",
           "showlegend": true,
           "textposition": "auto",
           "type": "bar",
           "x": [
            "North America"
           ],
           "xaxis": "x",
           "y": [
            50.1686287653019
           ],
           "yaxis": "y"
          }
         ],
         "name": "2001"
        },
        {
         "data": [
          {
           "alignmentgroup": "True",
           "hovertemplate": "Entity=%{x}<br>Year=2002<br>Internet_Usage=%{y}<extra></extra>",
           "ids": [
            "Africa",
            "Africa"
           ],
           "legendgroup": "Africa",
           "marker": {
            "color": "#000004",
            "pattern": {
             "shape": ""
            }
           },
           "name": "Africa",
           "offsetgroup": "Africa",
           "orientation": "v",
           "showlegend": true,
           "textposition": "auto",
           "type": "bar",
           "x": [
            "Africa",
            "Africa"
           ],
           "xaxis": "x",
           "y": [
            1.10689607706053,
            0.411060803424681
           ],
           "yaxis": "y"
          },
          {
           "alignmentgroup": "True",
           "hovertemplate": "Entity=%{x}<br>Year=2002<br>Internet_Usage=%{y}<extra></extra>",
           "ids": [
            "Asia & Pacific",
            "Asia & Pacific"
           ],
           "legendgroup": "Asia & Pacific",
           "marker": {
            "color": "#1b0c41",
            "pattern": {
             "shape": ""
            }
           },
           "name": "Asia & Pacific",
           "offsetgroup": "Asia & Pacific",
           "orientation": "v",
           "showlegend": true,
           "textposition": "auto",
           "type": "bar",
           "x": [
            "Asia & Pacific",
            "Asia & Pacific"
           ],
           "xaxis": "x",
           "y": [
            9.03018298411244,
            1.46664446850377
           ],
           "yaxis": "y"
          },
          {
           "alignmentgroup": "True",
           "hovertemplate": "Entity=%{x}<br>Year=2002<br>Internet_Usage=%{y}<extra></extra>",
           "ids": [
            "European Union"
           ],
           "legendgroup": "European Union",
           "marker": {
            "color": "#4a0c6b",
            "pattern": {
             "shape": ""
            }
           },
           "name": "European Union",
           "offsetgroup": "European Union",
           "orientation": "v",
           "showlegend": true,
           "textposition": "auto",
           "type": "bar",
           "x": [
            "European Union"
           ],
           "xaxis": "x",
           "y": [
            32.1282630636134
           ],
           "yaxis": "y"
          },
          {
           "alignmentgroup": "True",
           "hovertemplate": "Entity=%{x}<br>Year=2002<br>Internet_Usage=%{y}<extra></extra>",
           "ids": [
            "Latin America & Caribbean"
           ],
           "legendgroup": "Latin America & Caribbean",
           "marker": {
            "color": "#781c6d",
            "pattern": {
             "shape": ""
            }
           },
           "name": "Latin America & Caribbean",
           "offsetgroup": "Latin America & Caribbean",
           "orientation": "v",
           "showlegend": true,
           "textposition": "auto",
           "type": "bar",
           "x": [
            "Latin America & Caribbean"
           ],
           "xaxis": "x",
           "y": [
            8.8525507158455
           ],
           "yaxis": "y"
          },
          {
           "alignmentgroup": "True",
           "hovertemplate": "Entity=%{x}<br>Year=2002<br>Internet_Usage=%{y}<extra></extra>",
           "ids": [
            "North America"
           ],
           "legendgroup": "North America",
           "marker": {
            "color": "#a52c60",
            "pattern": {
             "shape": ""
            }
           },
           "name": "North America",
           "offsetgroup": "North America",
           "orientation": "v",
           "showlegend": true,
           "textposition": "auto",
           "type": "bar",
           "x": [
            "North America"
           ],
           "xaxis": "x",
           "y": [
            59.058859197879
           ],
           "yaxis": "y"
          }
         ],
         "name": "2002"
        },
        {
         "data": [
          {
           "alignmentgroup": "True",
           "hovertemplate": "Entity=%{x}<br>Year=2003<br>Internet_Usage=%{y}<extra></extra>",
           "ids": [
            "Africa",
            "Africa"
           ],
           "legendgroup": "Africa",
           "marker": {
            "color": "#000004",
            "pattern": {
             "shape": ""
            }
           },
           "name": "Africa",
           "offsetgroup": "Africa",
           "orientation": "v",
           "showlegend": true,
           "textposition": "auto",
           "type": "bar",
           "x": [
            "Africa",
            "Africa"
           ],
           "xaxis": "x",
           "y": [
            1.40818976008011,
            0.657285158944135
           ],
           "yaxis": "y"
          },
          {
           "alignmentgroup": "True",
           "hovertemplate": "Entity=%{x}<br>Year=2003<br>Internet_Usage=%{y}<extra></extra>",
           "ids": [
            "Asia & Pacific",
            "Asia & Pacific"
           ],
           "legendgroup": "Asia & Pacific",
           "marker": {
            "color": "#1b0c41",
            "pattern": {
             "shape": ""
            }
           },
           "name": "Asia & Pacific",
           "offsetgroup": "Asia & Pacific",
           "orientation": "v",
           "showlegend": true,
           "textposition": "auto",
           "type": "bar",
           "x": [
            "Asia & Pacific",
            "Asia & Pacific"
           ],
           "xaxis": "x",
           "y": [
            10.5786362918198,
            1.84665677677393
           ],
           "yaxis": "y"
          },
          {
           "alignmentgroup": "True",
           "hovertemplate": "Entity=%{x}<br>Year=2003<br>Internet_Usage=%{y}<extra></extra>",
           "ids": [
            "European Union"
           ],
           "legendgroup": "European Union",
           "marker": {
            "color": "#4a0c6b",
            "pattern": {
             "shape": ""
            }
           },
           "name": "European Union",
           "offsetgroup": "European Union",
           "orientation": "v",
           "showlegend": true,
           "textposition": "auto",
           "type": "bar",
           "x": [
            "European Union"
           ],
           "xaxis": "x",
           "y": [
            38.6077946457506
           ],
           "yaxis": "y"
          },
          {
           "alignmentgroup": "True",
           "hovertemplate": "Entity=%{x}<br>Year=2003<br>Internet_Usage=%{y}<extra></extra>",
           "ids": [
            "Latin America & Caribbean"
           ],
           "legendgroup": "Latin America & Caribbean",
           "marker": {
            "color": "#781c6d",
            "pattern": {
             "shape": ""
            }
           },
           "name": "Latin America & Caribbean",
           "offsetgroup": "Latin America & Caribbean",
           "orientation": "v",
           "showlegend": true,
           "textposition": "auto",
           "type": "bar",
           "x": [
            "Latin America & Caribbean"
           ],
           "xaxis": "x",
           "y": [
            11.2655071338012
           ],
           "yaxis": "y"
          },
          {
           "alignmentgroup": "True",
           "hovertemplate": "Entity=%{x}<br>Year=2003<br>Internet_Usage=%{y}<extra></extra>",
           "ids": [
            "North America"
           ],
           "legendgroup": "North America",
           "marker": {
            "color": "#a52c60",
            "pattern": {
             "shape": ""
            }
           },
           "name": "North America",
           "offsetgroup": "North America",
           "orientation": "v",
           "showlegend": true,
           "textposition": "auto",
           "type": "bar",
           "x": [
            "North America"
           ],
           "xaxis": "x",
           "y": [
            61.9412897044475
           ],
           "yaxis": "y"
          }
         ],
         "name": "2003"
        },
        {
         "data": [
          {
           "alignmentgroup": "True",
           "hovertemplate": "Entity=%{x}<br>Year=2004<br>Internet_Usage=%{y}<extra></extra>",
           "ids": [
            "Africa",
            "Africa"
           ],
           "legendgroup": "Africa",
           "marker": {
            "color": "#000004",
            "pattern": {
             "shape": ""
            }
           },
           "name": "Africa",
           "offsetgroup": "Africa",
           "orientation": "v",
           "showlegend": true,
           "textposition": "auto",
           "type": "bar",
           "x": [
            "Africa",
            "Africa"
           ],
           "xaxis": "x",
           "y": [
            1.71679138112129,
            1.17786496755986
           ],
           "yaxis": "y"
          },
          {
           "alignmentgroup": "True",
           "hovertemplate": "Entity=%{x}<br>Year=2004<br>Internet_Usage=%{y}<extra></extra>",
           "ids": [
            "Asia & Pacific",
            "Asia & Pacific"
           ],
           "legendgroup": "Asia & Pacific",
           "marker": {
            "color": "#1b0c41",
            "pattern": {
             "shape": ""
            }
           },
           "name": "Asia & Pacific",
           "offsetgroup": "Asia & Pacific",
           "orientation": "v",
           "showlegend": true,
           "textposition": "auto",
           "type": "bar",
           "x": [
            "Asia & Pacific",
            "Asia & Pacific"
           ],
           "xaxis": "x",
           "y": [
            12.6281762173798,
            2.19007537447087
           ],
           "yaxis": "y"
          },
          {
           "alignmentgroup": "True",
           "hovertemplate": "Entity=%{x}<br>Year=2004<br>Internet_Usage=%{y}<extra></extra>",
           "ids": [
            "European Union"
           ],
           "legendgroup": "European Union",
           "marker": {
            "color": "#4a0c6b",
            "pattern": {
             "shape": ""
            }
           },
           "name": "European Union",
           "offsetgroup": "European Union",
           "orientation": "v",
           "showlegend": true,
           "textposition": "auto",
           "type": "bar",
           "x": [
            "European Union"
           ],
           "xaxis": "x",
           "y": [
            44.1873073985821
           ],
           "yaxis": "y"
          },
          {
           "alignmentgroup": "True",
           "hovertemplate": "Entity=%{x}<br>Year=2004<br>Internet_Usage=%{y}<extra></extra>",
           "ids": [
            "Latin America & Caribbean"
           ],
           "legendgroup": "Latin America & Caribbean",
           "marker": {
            "color": "#781c6d",
            "pattern": {
             "shape": ""
            }
           },
           "name": "Latin America & Caribbean",
           "offsetgroup": "Latin America & Caribbean",
           "orientation": "v",
           "showlegend": true,
           "textposition": "auto",
           "type": "bar",
           "x": [
            "Latin America & Caribbean"
           ],
           "xaxis": "x",
           "y": [
            14.3980321275045
           ],
           "yaxis": "y"
          },
          {
           "alignmentgroup": "True",
           "hovertemplate": "Entity=%{x}<br>Year=2004<br>Internet_Usage=%{y}<extra></extra>",
           "ids": [
            "North America"
           ],
           "legendgroup": "North America",
           "marker": {
            "color": "#a52c60",
            "pattern": {
             "shape": ""
            }
           },
           "name": "North America",
           "offsetgroup": "North America",
           "orientation": "v",
           "showlegend": true,
           "textposition": "auto",
           "type": "bar",
           "x": [
            "North America"
           ],
           "xaxis": "x",
           "y": [
            64.875012149211
           ],
           "yaxis": "y"
          }
         ],
         "name": "2004"
        },
        {
         "data": [
          {
           "alignmentgroup": "True",
           "hovertemplate": "Entity=%{x}<br>Year=2005<br>Internet_Usage=%{y}<extra></extra>",
           "ids": [
            "Africa",
            "Africa"
           ],
           "legendgroup": "Africa",
           "marker": {
            "color": "#000004",
            "pattern": {
             "shape": ""
            }
           },
           "name": "Africa",
           "offsetgroup": "Africa",
           "orientation": "v",
           "showlegend": true,
           "textposition": "auto",
           "type": "bar",
           "x": [
            "Africa",
            "Africa"
           ],
           "xaxis": "x",
           "y": [
            1.83534488985186,
            2.32674116599097
           ],
           "yaxis": "y"
          },
          {
           "alignmentgroup": "True",
           "hovertemplate": "Entity=%{x}<br>Year=2005<br>Internet_Usage=%{y}<extra></extra>",
           "ids": [
            "Asia & Pacific",
            "Asia & Pacific"
           ],
           "legendgroup": "Asia & Pacific",
           "marker": {
            "color": "#1b0c41",
            "pattern": {
             "shape": ""
            }
           },
           "name": "Asia & Pacific",
           "offsetgroup": "Asia & Pacific",
           "orientation": "v",
           "showlegend": true,
           "textposition": "auto",
           "type": "bar",
           "x": [
            "Asia & Pacific",
            "Asia & Pacific"
           ],
           "xaxis": "x",
           "y": [
            14.6865023197775,
            2.55564645668164
           ],
           "yaxis": "y"
          },
          {
           "alignmentgroup": "True",
           "hovertemplate": "Entity=%{x}<br>Year=2005<br>Internet_Usage=%{y}<extra></extra>",
           "ids": [
            "European Union"
           ],
           "legendgroup": "European Union",
           "marker": {
            "color": "#4a0c6b",
            "pattern": {
             "shape": ""
            }
           },
           "name": "European Union",
           "offsetgroup": "European Union",
           "orientation": "v",
           "showlegend": true,
           "textposition": "auto",
           "type": "bar",
           "x": [
            "European Union"
           ],
           "xaxis": "x",
           "y": [
            48.301943657072
           ],
           "yaxis": "y"
          },
          {
           "alignmentgroup": "True",
           "hovertemplate": "Entity=%{x}<br>Year=2005<br>Internet_Usage=%{y}<extra></extra>",
           "ids": [
            "Latin America & Caribbean"
           ],
           "legendgroup": "Latin America & Caribbean",
           "marker": {
            "color": "#781c6d",
            "pattern": {
             "shape": ""
            }
           },
           "name": "Latin America & Caribbean",
           "offsetgroup": "Latin America & Caribbean",
           "orientation": "v",
           "showlegend": true,
           "textposition": "auto",
           "type": "bar",
           "x": [
            "Latin America & Caribbean"
           ],
           "xaxis": "x",
           "y": [
            16.6160568076105
           ],
           "yaxis": "y"
          },
          {
           "alignmentgroup": "True",
           "hovertemplate": "Entity=%{x}<br>Year=2005<br>Internet_Usage=%{y}<extra></extra>",
           "ids": [
            "North America"
           ],
           "legendgroup": "North America",
           "marker": {
            "color": "#a52c60",
            "pattern": {
             "shape": ""
            }
           },
           "name": "North America",
           "offsetgroup": "North America",
           "orientation": "v",
           "showlegend": true,
           "textposition": "auto",
           "type": "bar",
           "x": [
            "North America"
           ],
           "xaxis": "x",
           "y": [
            68.3304403541267
           ],
           "yaxis": "y"
          }
         ],
         "name": "2005"
        },
        {
         "data": [
          {
           "alignmentgroup": "True",
           "hovertemplate": "Entity=%{x}<br>Year=2006<br>Internet_Usage=%{y}<extra></extra>",
           "ids": [
            "Africa",
            "Africa"
           ],
           "legendgroup": "Africa",
           "marker": {
            "color": "#000004",
            "pattern": {
             "shape": ""
            }
           },
           "name": "Africa",
           "offsetgroup": "Africa",
           "orientation": "v",
           "showlegend": true,
           "textposition": "auto",
           "type": "bar",
           "x": [
            "Africa",
            "Africa"
           ],
           "xaxis": "x",
           "y": [
            2.13614074042728,
            3.46323637758135
           ],
           "yaxis": "y"
          },
          {
           "alignmentgroup": "True",
           "hovertemplate": "Entity=%{x}<br>Year=2006<br>Internet_Usage=%{y}<extra></extra>",
           "ids": [
            "Asia & Pacific",
            "Asia & Pacific"
           ],
           "legendgroup": "Asia & Pacific",
           "marker": {
            "color": "#1b0c41",
            "pattern": {
             "shape": ""
            }
           },
           "name": "Asia & Pacific",
           "offsetgroup": "Asia & Pacific",
           "orientation": "v",
           "showlegend": true,
           "textposition": "auto",
           "type": "bar",
           "x": [
            "Asia & Pacific",
            "Asia & Pacific"
           ],
           "xaxis": "x",
           "y": [
            16.6375335685497,
            2.99224040780104
           ],
           "yaxis": "y"
          },
          {
           "alignmentgroup": "True",
           "hovertemplate": "Entity=%{x}<br>Year=2006<br>Internet_Usage=%{y}<extra></extra>",
           "ids": [
            "European Union"
           ],
           "legendgroup": "European Union",
           "marker": {
            "color": "#4a0c6b",
            "pattern": {
             "shape": ""
            }
           },
           "name": "European Union",
           "offsetgroup": "European Union",
           "orientation": "v",
           "showlegend": true,
           "textposition": "auto",
           "type": "bar",
           "x": [
            "European Union"
           ],
           "xaxis": "x",
           "y": [
            52.5502049648805
           ],
           "yaxis": "y"
          },
          {
           "alignmentgroup": "True",
           "hovertemplate": "Entity=%{x}<br>Year=2006<br>Internet_Usage=%{y}<extra></extra>",
           "ids": [
            "Latin America & Caribbean"
           ],
           "legendgroup": "Latin America & Caribbean",
           "marker": {
            "color": "#781c6d",
            "pattern": {
             "shape": ""
            }
           },
           "name": "Latin America & Caribbean",
           "offsetgroup": "Latin America & Caribbean",
           "orientation": "v",
           "showlegend": true,
           "textposition": "auto",
           "type": "bar",
           "x": [
            "Latin America & Caribbean"
           ],
           "xaxis": "x",
           "y": [
            20.7533781651469
           ],
           "yaxis": "y"
          },
          {
           "alignmentgroup": "True",
           "hovertemplate": "Entity=%{x}<br>Year=2006<br>Internet_Usage=%{y}<extra></extra>",
           "ids": [
            "North America"
           ],
           "legendgroup": "North America",
           "marker": {
            "color": "#a52c60",
            "pattern": {
             "shape": ""
            }
           },
           "name": "North America",
           "offsetgroup": "North America",
           "orientation": "v",
           "showlegend": true,
           "textposition": "auto",
           "type": "bar",
           "x": [
            "North America"
           ],
           "xaxis": "x",
           "y": [
            69.2730261939104
           ],
           "yaxis": "y"
          }
         ],
         "name": "2006"
        },
        {
         "data": [
          {
           "alignmentgroup": "True",
           "hovertemplate": "Entity=%{x}<br>Year=2007<br>Internet_Usage=%{y}<extra></extra>",
           "ids": [
            "Africa",
            "Africa"
           ],
           "legendgroup": "Africa",
           "marker": {
            "color": "#000004",
            "pattern": {
             "shape": ""
            }
           },
           "name": "Africa",
           "offsetgroup": "Africa",
           "orientation": "v",
           "showlegend": true,
           "textposition": "auto",
           "type": "bar",
           "x": [
            "Africa",
            "Africa"
           ],
           "xaxis": "x",
           "y": [
            2.97794447577724,
            4.24017376957547
           ],
           "yaxis": "y"
          },
          {
           "alignmentgroup": "True",
           "hovertemplate": "Entity=%{x}<br>Year=2007<br>Internet_Usage=%{y}<extra></extra>",
           "ids": [
            "Asia & Pacific",
            "Asia & Pacific"
           ],
           "legendgroup": "Asia & Pacific",
           "marker": {
            "color": "#1b0c41",
            "pattern": {
             "shape": ""
            }
           },
           "name": "Asia & Pacific",
           "offsetgroup": "Asia & Pacific",
           "orientation": "v",
           "showlegend": true,
           "textposition": "auto",
           "type": "bar",
           "x": [
            "Asia & Pacific",
            "Asia & Pacific"
           ],
           "xaxis": "x",
           "y": [
            20.7904574744464,
            3.98381730183109
           ],
           "yaxis": "y"
          },
          {
           "alignmentgroup": "True",
           "hovertemplate": "Entity=%{x}<br>Year=2007<br>Internet_Usage=%{y}<extra></extra>",
           "ids": [
            "European Union"
           ],
           "legendgroup": "European Union",
           "marker": {
            "color": "#4a0c6b",
            "pattern": {
             "shape": ""
            }
           },
           "name": "European Union",
           "offsetgroup": "European Union",
           "orientation": "v",
           "showlegend": true,
           "textposition": "auto",
           "type": "bar",
           "x": [
            "European Union"
           ],
           "xaxis": "x",
           "y": [
            58.2491049624314
           ],
           "yaxis": "y"
          },
          {
           "alignmentgroup": "True",
           "hovertemplate": "Entity=%{x}<br>Year=2007<br>Internet_Usage=%{y}<extra></extra>",
           "ids": [
            "Latin America & Caribbean"
           ],
           "legendgroup": "Latin America & Caribbean",
           "marker": {
            "color": "#781c6d",
            "pattern": {
             "shape": ""
            }
           },
           "name": "Latin America & Caribbean",
           "offsetgroup": "Latin America & Caribbean",
           "orientation": "v",
           "showlegend": true,
           "textposition": "auto",
           "type": "bar",
           "x": [
            "Latin America & Caribbean"
           ],
           "xaxis": "x",
           "y": [
            23.7118466918057
           ],
           "yaxis": "y"
          },
          {
           "alignmentgroup": "True",
           "hovertemplate": "Entity=%{x}<br>Year=2007<br>Internet_Usage=%{y}<extra></extra>",
           "ids": [
            "North America"
           ],
           "legendgroup": "North America",
           "marker": {
            "color": "#a52c60",
            "pattern": {
             "shape": ""
            }
           },
           "name": "North America",
           "offsetgroup": "North America",
           "orientation": "v",
           "showlegend": true,
           "textposition": "auto",
           "type": "bar",
           "x": [
            "North America"
           ],
           "xaxis": "x",
           "y": [
            74.8221899816302
           ],
           "yaxis": "y"
          }
         ],
         "name": "2007"
        },
        {
         "data": [
          {
           "alignmentgroup": "True",
           "hovertemplate": "Entity=%{x}<br>Year=2008<br>Internet_Usage=%{y}<extra></extra>",
           "ids": [
            "Africa",
            "Africa"
           ],
           "legendgroup": "Africa",
           "marker": {
            "color": "#000004",
            "pattern": {
             "shape": ""
            }
           },
           "name": "Africa",
           "offsetgroup": "Africa",
           "orientation": "v",
           "showlegend": true,
           "textposition": "auto",
           "type": "bar",
           "x": [
            "Africa",
            "Africa"
           ],
           "xaxis": "x",
           "y": [
            3.07089536531711,
            4.99156545490828
           ],
           "yaxis": "y"
          },
          {
           "alignmentgroup": "True",
           "hovertemplate": "Entity=%{x}<br>Year=2008<br>Internet_Usage=%{y}<extra></extra>",
           "ids": [
            "Asia & Pacific",
            "Asia & Pacific"
           ],
           "legendgroup": "Asia & Pacific",
           "marker": {
            "color": "#1b0c41",
            "pattern": {
             "shape": ""
            }
           },
           "name": "Asia & Pacific",
           "offsetgroup": "Asia & Pacific",
           "orientation": "v",
           "showlegend": true,
           "textposition": "auto",
           "type": "bar",
           "x": [
            "Asia & Pacific",
            "Asia & Pacific"
           ],
           "xaxis": "x",
           "y": [
            25.2855108798676,
            4.42625968942614
           ],
           "yaxis": "y"
          },
          {
           "alignmentgroup": "True",
           "hovertemplate": "Entity=%{x}<br>Year=2008<br>Internet_Usage=%{y}<extra></extra>",
           "ids": [
            "European Union"
           ],
           "legendgroup": "European Union",
           "marker": {
            "color": "#4a0c6b",
            "pattern": {
             "shape": ""
            }
           },
           "name": "European Union",
           "offsetgroup": "European Union",
           "orientation": "v",
           "showlegend": true,
           "textposition": "auto",
           "type": "bar",
           "x": [
            "European Union"
           ],
           "xaxis": "x",
           "y": [
            62.2500947715588
           ],
           "yaxis": "y"
          },
          {
           "alignmentgroup": "True",
           "hovertemplate": "Entity=%{x}<br>Year=2008<br>Internet_Usage=%{y}<extra></extra>",
           "ids": [
            "Latin America & Caribbean"
           ],
           "legendgroup": "Latin America & Caribbean",
           "marker": {
            "color": "#781c6d",
            "pattern": {
             "shape": ""
            }
           },
           "name": "Latin America & Caribbean",
           "offsetgroup": "Latin America & Caribbean",
           "orientation": "v",
           "showlegend": true,
           "textposition": "auto",
           "type": "bar",
           "x": [
            "Latin America & Caribbean"
           ],
           "xaxis": "x",
           "y": [
            26.5140437979054
           ],
           "yaxis": "y"
          },
          {
           "alignmentgroup": "True",
           "hovertemplate": "Entity=%{x}<br>Year=2008<br>Internet_Usage=%{y}<extra></extra>",
           "ids": [
            "North America"
           ],
           "legendgroup": "North America",
           "marker": {
            "color": "#a52c60",
            "pattern": {
             "shape": ""
            }
           },
           "name": "North America",
           "offsetgroup": "North America",
           "orientation": "v",
           "showlegend": true,
           "textposition": "auto",
           "type": "bar",
           "x": [
            "North America"
           ],
           "xaxis": "x",
           "y": [
            74.2688086987766
           ],
           "yaxis": "y"
          }
         ],
         "name": "2008"
        },
        {
         "data": [
          {
           "alignmentgroup": "True",
           "hovertemplate": "Entity=%{x}<br>Year=2009<br>Internet_Usage=%{y}<extra></extra>",
           "ids": [
            "Africa",
            "Africa"
           ],
           "legendgroup": "Africa",
           "marker": {
            "color": "#000004",
            "pattern": {
             "shape": ""
            }
           },
           "name": "Africa",
           "offsetgroup": "Africa",
           "orientation": "v",
           "showlegend": true,
           "textposition": "auto",
           "type": "bar",
           "x": [
            "Africa",
            "Africa"
           ],
           "xaxis": "x",
           "y": [
            3.71530402776679,
            5.80796073263232
           ],
           "yaxis": "y"
          },
          {
           "alignmentgroup": "True",
           "hovertemplate": "Entity=%{x}<br>Year=2009<br>Internet_Usage=%{y}<extra></extra>",
           "ids": [
            "Asia & Pacific",
            "Asia & Pacific"
           ],
           "legendgroup": "Asia & Pacific",
           "marker": {
            "color": "#1b0c41",
            "pattern": {
             "shape": ""
            }
           },
           "name": "Asia & Pacific",
           "offsetgroup": "Asia & Pacific",
           "orientation": "v",
           "showlegend": true,
           "textposition": "auto",
           "type": "bar",
           "x": [
            "Asia & Pacific",
            "Asia & Pacific"
           ],
           "xaxis": "x",
           "y": [
            29.5506961195955,
            5.16686609553699
           ],
           "yaxis": "y"
          },
          {
           "alignmentgroup": "True",
           "hovertemplate": "Entity=%{x}<br>Year=2009<br>Internet_Usage=%{y}<extra></extra>",
           "ids": [
            "European Union"
           ],
           "legendgroup": "European Union",
           "marker": {
            "color": "#4a0c6b",
            "pattern": {
             "shape": ""
            }
           },
           "name": "European Union",
           "offsetgroup": "European Union",
           "orientation": "v",
           "showlegend": true,
           "textposition": "auto",
           "type": "bar",
           "x": [
            "European Union"
           ],
           "xaxis": "x",
           "y": [
            64.9928352161294
           ],
           "yaxis": "y"
          },
          {
           "alignmentgroup": "True",
           "hovertemplate": "Entity=%{x}<br>Year=2009<br>Internet_Usage=%{y}<extra></extra>",
           "ids": [
            "Latin America & Caribbean"
           ],
           "legendgroup": "Latin America & Caribbean",
           "marker": {
            "color": "#781c6d",
            "pattern": {
             "shape": ""
            }
           },
           "name": "Latin America & Caribbean",
           "offsetgroup": "Latin America & Caribbean",
           "orientation": "v",
           "showlegend": true,
           "textposition": "auto",
           "type": "bar",
           "x": [
            "Latin America & Caribbean"
           ],
           "xaxis": "x",
           "y": [
            31.0392955545167
           ],
           "yaxis": "y"
          },
          {
           "alignmentgroup": "True",
           "hovertemplate": "Entity=%{x}<br>Year=2009<br>Internet_Usage=%{y}<extra></extra>",
           "ids": [
            "North America"
           ],
           "legendgroup": "North America",
           "marker": {
            "color": "#a52c60",
            "pattern": {
             "shape": ""
            }
           },
           "name": "North America",
           "offsetgroup": "North America",
           "orientation": "v",
           "showlegend": true,
           "textposition": "auto",
           "type": "bar",
           "x": [
            "North America"
           ],
           "xaxis": "x",
           "y": [
            71.9250963998418
           ],
           "yaxis": "y"
          }
         ],
         "name": "2009"
        },
        {
         "data": [
          {
           "alignmentgroup": "True",
           "hovertemplate": "Entity=%{x}<br>Year=2010<br>Internet_Usage=%{y}<extra></extra>",
           "ids": [
            "Africa",
            "Africa"
           ],
           "legendgroup": "Africa",
           "marker": {
            "color": "#000004",
            "pattern": {
             "shape": ""
            }
           },
           "name": "Africa",
           "offsetgroup": "Africa",
           "orientation": "v",
           "showlegend": true,
           "textposition": "auto",
           "type": "bar",
           "x": [
            "Africa",
            "Africa"
           ],
           "xaxis": "x",
           "y": [
            6.83708439817341,
            7.24207193407158
           ],
           "yaxis": "y"
          },
          {
           "alignmentgroup": "True",
           "hovertemplate": "Entity=%{x}<br>Year=2010<br>Internet_Usage=%{y}<extra></extra>",
           "ids": [
            "Asia & Pacific",
            "Asia & Pacific"
           ],
           "legendgroup": "Asia & Pacific",
           "marker": {
            "color": "#1b0c41",
            "pattern": {
             "shape": ""
            }
           },
           "name": "Asia & Pacific",
           "offsetgroup": "Asia & Pacific",
           "orientation": "v",
           "showlegend": true,
           "textposition": "auto",
           "type": "bar",
           "x": [
            "Asia & Pacific",
            "Asia & Pacific"
           ],
           "xaxis": "x",
           "y": [
            34.2705539668784,
            7.21973969713247
           ],
           "yaxis": "y"
          },
          {
           "alignmentgroup": "True",
           "hovertemplate": "Entity=%{x}<br>Year=2010<br>Internet_Usage=%{y}<extra></extra>",
           "ids": [
            "European Union"
           ],
           "legendgroup": "European Union",
           "marker": {
            "color": "#4a0c6b",
            "pattern": {
             "shape": ""
            }
           },
           "name": "European Union",
           "offsetgroup": "European Union",
           "orientation": "v",
           "showlegend": true,
           "textposition": "auto",
           "type": "bar",
           "x": [
            "European Union"
           ],
           "xaxis": "x",
           "y": [
            68.6956421468731
           ],
           "yaxis": "y"
          },
          {
           "alignmentgroup": "True",
           "hovertemplate": "Entity=%{x}<br>Year=2010<br>Internet_Usage=%{y}<extra></extra>",
           "ids": [
            "Latin America & Caribbean"
           ],
           "legendgroup": "Latin America & Caribbean",
           "marker": {
            "color": "#781c6d",
            "pattern": {
             "shape": ""
            }
           },
           "name": "Latin America & Caribbean",
           "offsetgroup": "Latin America & Caribbean",
           "orientation": "v",
           "showlegend": true,
           "textposition": "auto",
           "type": "bar",
           "x": [
            "Latin America & Caribbean"
           ],
           "xaxis": "x",
           "y": [
            34.7021411941668
           ],
           "yaxis": "y"
          },
          {
           "alignmentgroup": "True",
           "hovertemplate": "Entity=%{x}<br>Year=2010<br>Internet_Usage=%{y}<extra></extra>",
           "ids": [
            "North America"
           ],
           "legendgroup": "North America",
           "marker": {
            "color": "#a52c60",
            "pattern": {
             "shape": ""
            }
           },
           "name": "North America",
           "offsetgroup": "North America",
           "orientation": "v",
           "showlegend": true,
           "textposition": "auto",
           "type": "bar",
           "x": [
            "North America"
           ],
           "xaxis": "x",
           "y": [
            72.5489982887815
           ],
           "yaxis": "y"
          }
         ],
         "name": "2010"
        },
        {
         "data": [
          {
           "alignmentgroup": "True",
           "hovertemplate": "Entity=%{x}<br>Year=2011<br>Internet_Usage=%{y}<extra></extra>",
           "ids": [
            "Africa",
            "Africa"
           ],
           "legendgroup": "Africa",
           "marker": {
            "color": "#000004",
            "pattern": {
             "shape": ""
            }
           },
           "name": "Africa",
           "offsetgroup": "Africa",
           "orientation": "v",
           "showlegend": true,
           "textposition": "auto",
           "type": "bar",
           "x": [
            "Africa",
            "Africa"
           ],
           "xaxis": "x",
           "y": [
            8.21733034430149,
            8.66331049088811
           ],
           "yaxis": "y"
          },
          {
           "alignmentgroup": "True",
           "hovertemplate": "Entity=%{x}<br>Year=2011<br>Internet_Usage=%{y}<extra></extra>",
           "ids": [
            "Asia & Pacific",
            "Asia & Pacific"
           ],
           "legendgroup": "Asia & Pacific",
           "marker": {
            "color": "#1b0c41",
            "pattern": {
             "shape": ""
            }
           },
           "name": "Asia & Pacific",
           "offsetgroup": "Asia & Pacific",
           "orientation": "v",
           "showlegend": true,
           "textposition": "auto",
           "type": "bar",
           "x": [
            "Asia & Pacific",
            "Asia & Pacific"
           ],
           "xaxis": "x",
           "y": [
            37.4023237117011,
            9.41001702905328
           ],
           "yaxis": "y"
          },
          {
           "alignmentgroup": "True",
           "hovertemplate": "Entity=%{x}<br>Year=2011<br>Internet_Usage=%{y}<extra></extra>",
           "ids": [
            "European Union"
           ],
           "legendgroup": "European Union",
           "marker": {
            "color": "#4a0c6b",
            "pattern": {
             "shape": ""
            }
           },
           "name": "European Union",
           "offsetgroup": "European Union",
           "orientation": "v",
           "showlegend": true,
           "textposition": "auto",
           "type": "bar",
           "x": [
            "European Union"
           ],
           "xaxis": "x",
           "y": [
            69.661777891422
           ],
           "yaxis": "y"
          },
          {
           "alignmentgroup": "True",
           "hovertemplate": "Entity=%{x}<br>Year=2011<br>Internet_Usage=%{y}<extra></extra>",
           "ids": [
            "Latin America & Caribbean"
           ],
           "legendgroup": "Latin America & Caribbean",
           "marker": {
            "color": "#781c6d",
            "pattern": {
             "shape": ""
            }
           },
           "name": "Latin America & Caribbean",
           "offsetgroup": "Latin America & Caribbean",
           "orientation": "v",
           "showlegend": true,
           "textposition": "auto",
           "type": "bar",
           "x": [
            "Latin America & Caribbean"
           ],
           "xaxis": "x",
           "y": [
            39.3384906810595
           ],
           "yaxis": "y"
          },
          {
           "alignmentgroup": "True",
           "hovertemplate": "Entity=%{x}<br>Year=2011<br>Internet_Usage=%{y}<extra></extra>",
           "ids": [
            "North America"
           ],
           "legendgroup": "North America",
           "marker": {
            "color": "#a52c60",
            "pattern": {
             "shape": ""
            }
           },
           "name": "North America",
           "offsetgroup": "North America",
           "orientation": "v",
           "showlegend": true,
           "textposition": "auto",
           "type": "bar",
           "x": [
            "North America"
           ],
           "xaxis": "x",
           "y": [
            71.0569584322978
           ],
           "yaxis": "y"
          }
         ],
         "name": "2011"
        },
        {
         "data": [
          {
           "alignmentgroup": "True",
           "hovertemplate": "Entity=%{x}<br>Year=2012<br>Internet_Usage=%{y}<extra></extra>",
           "ids": [
            "Africa",
            "Africa"
           ],
           "legendgroup": "Africa",
           "marker": {
            "color": "#000004",
            "pattern": {
             "shape": ""
            }
           },
           "name": "Africa",
           "offsetgroup": "Africa",
           "orientation": "v",
           "showlegend": true,
           "textposition": "auto",
           "type": "bar",
           "x": [
            "Africa",
            "Africa"
           ],
           "xaxis": "x",
           "y": [
            10.2528175683957,
            10.3355545850363
           ],
           "yaxis": "y"
          },
          {
           "alignmentgroup": "True",
           "hovertemplate": "Entity=%{x}<br>Year=2012<br>Internet_Usage=%{y}<extra></extra>",
           "ids": [
            "Asia & Pacific",
            "Asia & Pacific"
           ],
           "legendgroup": "Asia & Pacific",
           "marker": {
            "color": "#1b0c41",
            "pattern": {
             "shape": ""
            }
           },
           "name": "Asia & Pacific",
           "offsetgroup": "Asia & Pacific",
           "orientation": "v",
           "showlegend": true,
           "textposition": "auto",
           "type": "bar",
           "x": [
            "Asia & Pacific",
            "Asia & Pacific"
           ],
           "xaxis": "x",
           "y": [
            40.743754029271,
            11.5311286506713
           ],
           "yaxis": "y"
          },
          {
           "alignmentgroup": "True",
           "hovertemplate": "Entity=%{x}<br>Year=2012<br>Internet_Usage=%{y}<extra></extra>",
           "ids": [
            "European Union"
           ],
           "legendgroup": "European Union",
           "marker": {
            "color": "#4a0c6b",
            "pattern": {
             "shape": ""
            }
           },
           "name": "European Union",
           "offsetgroup": "European Union",
           "orientation": "v",
           "showlegend": true,
           "textposition": "auto",
           "type": "bar",
           "x": [
            "European Union"
           ],
           "xaxis": "x",
           "y": [
            71.8574513072492
           ],
           "yaxis": "y"
          },
          {
           "alignmentgroup": "True",
           "hovertemplate": "Entity=%{x}<br>Year=2012<br>Internet_Usage=%{y}<extra></extra>",
           "ids": [
            "Latin America & Caribbean"
           ],
           "legendgroup": "Latin America & Caribbean",
           "marker": {
            "color": "#781c6d",
            "pattern": {
             "shape": ""
            }
           },
           "name": "Latin America & Caribbean",
           "offsetgroup": "Latin America & Caribbean",
           "orientation": "v",
           "showlegend": true,
           "textposition": "auto",
           "type": "bar",
           "x": [
            "Latin America & Caribbean"
           ],
           "xaxis": "x",
           "y": [
            43.162893355839
           ],
           "yaxis": "y"
          },
          {
           "alignmentgroup": "True",
           "hovertemplate": "Entity=%{x}<br>Year=2012<br>Internet_Usage=%{y}<extra></extra>",
           "ids": [
            "North America"
           ],
           "legendgroup": "North America",
           "marker": {
            "color": "#a52c60",
            "pattern": {
             "shape": ""
            }
           },
           "name": "North America",
           "offsetgroup": "North America",
           "orientation": "v",
           "showlegend": true,
           "textposition": "auto",
           "type": "bar",
           "x": [
            "North America"
           ],
           "xaxis": "x",
           "y": [
            75.5335297673991
           ],
           "yaxis": "y"
          }
         ],
         "name": "2012"
        },
        {
         "data": [
          {
           "alignmentgroup": "True",
           "hovertemplate": "Entity=%{x}<br>Year=2013<br>Internet_Usage=%{y}<extra></extra>",
           "ids": [
            "Africa",
            "Africa"
           ],
           "legendgroup": "Africa",
           "marker": {
            "color": "#000004",
            "pattern": {
             "shape": ""
            }
           },
           "name": "Africa",
           "offsetgroup": "Africa",
           "orientation": "v",
           "showlegend": true,
           "textposition": "auto",
           "type": "bar",
           "x": [
            "Africa",
            "Africa"
           ],
           "xaxis": "x",
           "y": [
            11.8766800032232,
            13.0852009626666
           ],
           "yaxis": "y"
          },
          {
           "alignmentgroup": "True",
           "hovertemplate": "Entity=%{x}<br>Year=2013<br>Internet_Usage=%{y}<extra></extra>",
           "ids": [
            "Asia & Pacific",
            "Asia & Pacific"
           ],
           "legendgroup": "Asia & Pacific",
           "marker": {
            "color": "#1b0c41",
            "pattern": {
             "shape": ""
            }
           },
           "name": "Asia & Pacific",
           "offsetgroup": "Asia & Pacific",
           "orientation": "v",
           "showlegend": true,
           "textposition": "auto",
           "type": "bar",
           "x": [
            "Asia & Pacific",
            "Asia & Pacific"
           ],
           "xaxis": "x",
           "y": [
            44.123035166719,
            13.7606188573742
           ],
           "yaxis": "y"
          },
          {
           "alignmentgroup": "True",
           "hovertemplate": "Entity=%{x}<br>Year=2013<br>Internet_Usage=%{y}<extra></extra>",
           "ids": [
            "European Union"
           ],
           "legendgroup": "European Union",
           "marker": {
            "color": "#4a0c6b",
            "pattern": {
             "shape": ""
            }
           },
           "name": "European Union",
           "offsetgroup": "European Union",
           "orientation": "v",
           "showlegend": true,
           "textposition": "auto",
           "type": "bar",
           "x": [
            "European Union"
           ],
           "xaxis": "x",
           "y": [
            73.610369251994
           ],
           "yaxis": "y"
          },
          {
           "alignmentgroup": "True",
           "hovertemplate": "Entity=%{x}<br>Year=2013<br>Internet_Usage=%{y}<extra></extra>",
           "ids": [
            "Latin America & Caribbean"
           ],
           "legendgroup": "Latin America & Caribbean",
           "marker": {
            "color": "#781c6d",
            "pattern": {
             "shape": ""
            }
           },
           "name": "Latin America & Caribbean",
           "offsetgroup": "Latin America & Caribbean",
           "orientation": "v",
           "showlegend": true,
           "textposition": "auto",
           "type": "bar",
           "x": [
            "Latin America & Caribbean"
           ],
           "xaxis": "x",
           "y": [
            46.2373336353434
           ],
           "yaxis": "y"
          },
          {
           "alignmentgroup": "True",
           "hovertemplate": "Entity=%{x}<br>Year=2013<br>Internet_Usage=%{y}<extra></extra>",
           "ids": [
            "North America"
           ],
           "legendgroup": "North America",
           "marker": {
            "color": "#a52c60",
            "pattern": {
             "shape": ""
            }
           },
           "name": "North America",
           "offsetgroup": "North America",
           "orientation": "v",
           "showlegend": true,
           "textposition": "auto",
           "type": "bar",
           "x": [
            "North America"
           ],
           "xaxis": "x",
           "y": [
            72.8493027183661
           ],
           "yaxis": "y"
          }
         ],
         "name": "2013"
        },
        {
         "data": [
          {
           "alignmentgroup": "True",
           "hovertemplate": "Entity=%{x}<br>Year=2014<br>Internet_Usage=%{y}<extra></extra>",
           "ids": [
            "Africa",
            "Africa"
           ],
           "legendgroup": "Africa",
           "marker": {
            "color": "#000004",
            "pattern": {
             "shape": ""
            }
           },
           "name": "Africa",
           "offsetgroup": "Africa",
           "orientation": "v",
           "showlegend": true,
           "textposition": "auto",
           "type": "bar",
           "x": [
            "Africa",
            "Africa"
           ],
           "xaxis": "x",
           "y": [
            14.3665076341758,
            16.0775447603499
           ],
           "yaxis": "y"
          },
          {
           "alignmentgroup": "True",
           "hovertemplate": "Entity=%{x}<br>Year=2014<br>Internet_Usage=%{y}<extra></extra>",
           "ids": [
            "Asia & Pacific",
            "Asia & Pacific"
           ],
           "legendgroup": "Asia & Pacific",
           "marker": {
            "color": "#1b0c41",
            "pattern": {
             "shape": ""
            }
           },
           "name": "Asia & Pacific",
           "offsetgroup": "Asia & Pacific",
           "orientation": "v",
           "showlegend": true,
           "textposition": "auto",
           "type": "bar",
           "x": [
            "Asia & Pacific",
            "Asia & Pacific"
           ],
           "xaxis": "x",
           "y": [
            46.838477159998,
            19.0593018778098
           ],
           "yaxis": "y"
          },
          {
           "alignmentgroup": "True",
           "hovertemplate": "Entity=%{x}<br>Year=2014<br>Internet_Usage=%{y}<extra></extra>",
           "ids": [
            "European Union"
           ],
           "legendgroup": "European Union",
           "marker": {
            "color": "#4a0c6b",
            "pattern": {
             "shape": ""
            }
           },
           "name": "European Union",
           "offsetgroup": "European Union",
           "orientation": "v",
           "showlegend": true,
           "textposition": "auto",
           "type": "bar",
           "x": [
            "European Union"
           ],
           "xaxis": "x",
           "y": [
            75.1855045094835
           ],
           "yaxis": "y"
          },
          {
           "alignmentgroup": "True",
           "hovertemplate": "Entity=%{x}<br>Year=2014<br>Internet_Usage=%{y}<extra></extra>",
           "ids": [
            "Latin America & Caribbean"
           ],
           "legendgroup": "Latin America & Caribbean",
           "marker": {
            "color": "#781c6d",
            "pattern": {
             "shape": ""
            }
           },
           "name": "Latin America & Caribbean",
           "offsetgroup": "Latin America & Caribbean",
           "orientation": "v",
           "showlegend": true,
           "textposition": "auto",
           "type": "bar",
           "x": [
            "Latin America & Caribbean"
           ],
           "xaxis": "x",
           "y": [
            48.6070157052375
           ],
           "yaxis": "y"
          },
          {
           "alignmentgroup": "True",
           "hovertemplate": "Entity=%{x}<br>Year=2014<br>Internet_Usage=%{y}<extra></extra>",
           "ids": [
            "North America"
           ],
           "legendgroup": "North America",
           "marker": {
            "color": "#a52c60",
            "pattern": {
             "shape": ""
            }
           },
           "name": "North America",
           "offsetgroup": "North America",
           "orientation": "v",
           "showlegend": true,
           "textposition": "auto",
           "type": "bar",
           "x": [
            "North America"
           ],
           "xaxis": "x",
           "y": [
            74.4252310539038
           ],
           "yaxis": "y"
          }
         ],
         "name": "2014"
        },
        {
         "data": [
          {
           "alignmentgroup": "True",
           "hovertemplate": "Entity=%{x}<br>Year=2015<br>Internet_Usage=%{y}<extra></extra>",
           "ids": [
            "Africa",
            "Africa"
           ],
           "legendgroup": "Africa",
           "marker": {
            "color": "#000004",
            "pattern": {
             "shape": ""
            }
           },
           "name": "Africa",
           "offsetgroup": "Africa",
           "orientation": "v",
           "showlegend": true,
           "textposition": "auto",
           "type": "bar",
           "x": [
            "Africa",
            "Africa"
           ],
           "xaxis": "x",
           "y": [
            17.4836666165298,
            25.5701843341121
           ],
           "yaxis": "y"
          },
          {
           "alignmentgroup": "True",
           "hovertemplate": "Entity=%{x}<br>Year=2015<br>Internet_Usage=%{y}<extra></extra>",
           "ids": [
            "Asia & Pacific",
            "Asia & Pacific"
           ],
           "legendgroup": "Asia & Pacific",
           "marker": {
            "color": "#1b0c41",
            "pattern": {
             "shape": ""
            }
           },
           "name": "Asia & Pacific",
           "offsetgroup": "Asia & Pacific",
           "orientation": "v",
           "showlegend": true,
           "textposition": "auto",
           "type": "bar",
           "x": [
            "Asia & Pacific",
            "Asia & Pacific"
           ],
           "xaxis": "x",
           "y": [
            49.0084270896419,
            16.2234730219695
           ],
           "yaxis": "y"
          },
          {
           "alignmentgroup": "True",
           "hovertemplate": "Entity=%{x}<br>Year=2015<br>Internet_Usage=%{y}<extra></extra>",
           "ids": [
            "European Union"
           ],
           "legendgroup": "European Union",
           "marker": {
            "color": "#4a0c6b",
            "pattern": {
             "shape": ""
            }
           },
           "name": "European Union",
           "offsetgroup": "European Union",
           "orientation": "v",
           "showlegend": true,
           "textposition": "auto",
           "type": "bar",
           "x": [
            "European Union"
           ],
           "xaxis": "x",
           "y": [
            75.6544158261607
           ],
           "yaxis": "y"
          },
          {
           "alignmentgroup": "True",
           "hovertemplate": "Entity=%{x}<br>Year=2015<br>Internet_Usage=%{y}<extra></extra>",
           "ids": [
            "Latin America & Caribbean"
           ],
           "legendgroup": "Latin America & Caribbean",
           "marker": {
            "color": "#781c6d",
            "pattern": {
             "shape": ""
            }
           },
           "name": "Latin America & Caribbean",
           "offsetgroup": "Latin America & Caribbean",
           "orientation": "v",
           "showlegend": true,
           "textposition": "auto",
           "type": "bar",
           "x": [
            "Latin America & Caribbean"
           ],
           "xaxis": "x",
           "y": [
            54.6160690922127
           ],
           "yaxis": "y"
          },
          {
           "alignmentgroup": "True",
           "hovertemplate": "Entity=%{x}<br>Year=2015<br>Internet_Usage=%{y}<extra></extra>",
           "ids": [
            "North America"
           ],
           "legendgroup": "North America",
           "marker": {
            "color": "#a52c60",
            "pattern": {
             "shape": ""
            }
           },
           "name": "North America",
           "offsetgroup": "North America",
           "orientation": "v",
           "showlegend": true,
           "textposition": "auto",
           "type": "bar",
           "x": [
            "North America"
           ],
           "xaxis": "x",
           "y": [
            76.1172938341097
           ],
           "yaxis": "y"
          }
         ],
         "name": "2015"
        },
        {
         "data": [
          {
           "alignmentgroup": "True",
           "hovertemplate": "Entity=%{x}<br>Year=2016<br>Internet_Usage=%{y}<extra></extra>",
           "ids": [
            "Africa"
           ],
           "legendgroup": "Africa",
           "marker": {
            "color": "#000004",
            "pattern": {
             "shape": ""
            }
           },
           "name": "Africa",
           "offsetgroup": "Africa",
           "orientation": "v",
           "showlegend": true,
           "textposition": "auto",
           "type": "bar",
           "x": [
            "Africa"
           ],
           "xaxis": "x",
           "y": [
            17.5854372566907
           ],
           "yaxis": "y"
          },
          {
           "alignmentgroup": "True",
           "hovertemplate": "Entity=%{x}<br>Year=2016<br>Internet_Usage=%{y}<extra></extra>",
           "ids": [
            "Asia & Pacific",
            "Asia & Pacific"
           ],
           "legendgroup": "Asia & Pacific",
           "marker": {
            "color": "#1b0c41",
            "pattern": {
             "shape": ""
            }
           },
           "name": "Asia & Pacific",
           "offsetgroup": "Asia & Pacific",
           "orientation": "v",
           "showlegend": true,
           "textposition": "auto",
           "type": "bar",
           "x": [
            "Asia & Pacific",
            "Asia & Pacific"
           ],
           "xaxis": "x",
           "y": [
            53.1874208856639,
            20.4241391305161
           ],
           "yaxis": "y"
          },
          {
           "alignmentgroup": "True",
           "hovertemplate": "Entity=%{x}<br>Year=2016<br>Internet_Usage=%{y}<extra></extra>",
           "ids": [
            "European Union"
           ],
           "legendgroup": "European Union",
           "marker": {
            "color": "#4a0c6b",
            "pattern": {
             "shape": ""
            }
           },
           "name": "European Union",
           "offsetgroup": "European Union",
           "orientation": "v",
           "showlegend": true,
           "textposition": "auto",
           "type": "bar",
           "x": [
            "European Union"
           ],
           "xaxis": "x",
           "y": [
            76.8264367449193
           ],
           "yaxis": "y"
          },
          {
           "alignmentgroup": "True",
           "hovertemplate": "Entity=%{x}<br>Year=2016<br>Internet_Usage=%{y}<extra></extra>",
           "ids": [
            "Latin America & Caribbean"
           ],
           "legendgroup": "Latin America & Caribbean",
           "marker": {
            "color": "#781c6d",
            "pattern": {
             "shape": ""
            }
           },
           "name": "Latin America & Caribbean",
           "offsetgroup": "Latin America & Caribbean",
           "orientation": "v",
           "showlegend": true,
           "textposition": "auto",
           "type": "bar",
           "x": [
            "Latin America & Caribbean"
           ],
           "xaxis": "x",
           "y": [
            57.3546142720724
           ],
           "yaxis": "y"
          },
          {
           "alignmentgroup": "True",
           "hovertemplate": "Entity=%{x}<br>Year=2016<br>Internet_Usage=%{y}<extra></extra>",
           "ids": [
            "North America"
           ],
           "legendgroup": "North America",
           "marker": {
            "color": "#a52c60",
            "pattern": {
             "shape": ""
            }
           },
           "name": "North America",
           "offsetgroup": "North America",
           "orientation": "v",
           "showlegend": true,
           "textposition": "auto",
           "type": "bar",
           "x": [
            "North America"
           ],
           "xaxis": "x",
           "y": [
            86.1149971071056
           ],
           "yaxis": "y"
          }
         ],
         "name": "2016"
        },
        {
         "data": [
          {
           "alignmentgroup": "True",
           "hovertemplate": "Entity=%{x}<br>Year=2017<br>Internet_Usage=%{y}<extra></extra>",
           "ids": [
            "Africa"
           ],
           "legendgroup": "Africa",
           "marker": {
            "color": "#000004",
            "pattern": {
             "shape": ""
            }
           },
           "name": "Africa",
           "offsetgroup": "Africa",
           "orientation": "v",
           "showlegend": true,
           "textposition": "auto",
           "type": "bar",
           "x": [
            "Africa"
           ],
           "xaxis": "x",
           "y": [
            21.2818313064622
           ],
           "yaxis": "y"
          },
          {
           "alignmentgroup": "True",
           "hovertemplate": "Entity=%{x}<br>Year=2017<br>Internet_Usage=%{y}<extra></extra>",
           "ids": [
            "Asia & Pacific",
            "Asia & Pacific"
           ],
           "legendgroup": "Asia & Pacific",
           "marker": {
            "color": "#1b0c41",
            "pattern": {
             "shape": ""
            }
           },
           "name": "Asia & Pacific",
           "offsetgroup": "Asia & Pacific",
           "orientation": "v",
           "showlegend": true,
           "textposition": "auto",
           "type": "bar",
           "x": [
            "Asia & Pacific",
            "Asia & Pacific"
           ],
           "xaxis": "x",
           "y": [
            54.925228895795,
            29.5030395469116
           ],
           "yaxis": "y"
          },
          {
           "alignmentgroup": "True",
           "hovertemplate": "Entity=%{x}<br>Year=2017<br>Internet_Usage=%{y}<extra></extra>",
           "ids": [
            "European Union"
           ],
           "legendgroup": "European Union",
           "marker": {
            "color": "#4a0c6b",
            "pattern": {
             "shape": ""
            }
           },
           "name": "European Union",
           "offsetgroup": "European Union",
           "orientation": "v",
           "showlegend": true,
           "textposition": "auto",
           "type": "bar",
           "x": [
            "European Union"
           ],
           "xaxis": "x",
           "y": [
            78.6838126546675
           ],
           "yaxis": "y"
          },
          {
           "alignmentgroup": "True",
           "hovertemplate": "Entity=%{x}<br>Year=2017<br>Internet_Usage=%{y}<extra></extra>",
           "ids": [
            "Latin America & Caribbean"
           ],
           "legendgroup": "Latin America & Caribbean",
           "marker": {
            "color": "#781c6d",
            "pattern": {
             "shape": ""
            }
           },
           "name": "Latin America & Caribbean",
           "offsetgroup": "Latin America & Caribbean",
           "orientation": "v",
           "showlegend": true,
           "textposition": "auto",
           "type": "bar",
           "x": [
            "Latin America & Caribbean"
           ],
           "xaxis": "x",
           "y": [
            62.4659250684226
           ],
           "yaxis": "y"
          },
          {
           "alignmentgroup": "True",
           "hovertemplate": "Entity=%{x}<br>Year=2017<br>Internet_Usage=%{y}<extra></extra>",
           "ids": [
            "North America"
           ],
           "legendgroup": "North America",
           "marker": {
            "color": "#a52c60",
            "pattern": {
             "shape": ""
            }
           },
           "name": "North America",
           "offsetgroup": "North America",
           "orientation": "v",
           "showlegend": true,
           "textposition": "auto",
           "type": "bar",
           "x": [
            "North America"
           ],
           "xaxis": "x",
           "y": [
            87.8276294994968
           ],
           "yaxis": "y"
          }
         ],
         "name": "2017"
        }
       ],
       "layout": {
        "barmode": "relative",
        "legend": {
         "title": {
          "text": "Entity"
         },
         "tracegroupgap": 0
        },
        "margin": {
         "b": 0,
         "l": 0,
         "r": 0,
         "t": 30
        },
        "sliders": [
         {
          "active": 0,
          "currentvalue": {
           "prefix": "Year="
          },
          "len": 0.9,
          "pad": {
           "b": 10,
           "t": 60
          },
          "steps": [
           {
            "args": [
             [
              "1990"
             ],
             {
              "frame": {
               "duration": 0,
               "redraw": true
              },
              "fromcurrent": true,
              "mode": "immediate",
              "transition": {
               "duration": 0,
               "easing": "linear"
              }
             }
            ],
            "label": "1990",
            "method": "animate"
           },
           {
            "args": [
             [
              "1991"
             ],
             {
              "frame": {
               "duration": 0,
               "redraw": true
              },
              "fromcurrent": true,
              "mode": "immediate",
              "transition": {
               "duration": 0,
               "easing": "linear"
              }
             }
            ],
            "label": "1991",
            "method": "animate"
           },
           {
            "args": [
             [
              "1992"
             ],
             {
              "frame": {
               "duration": 0,
               "redraw": true
              },
              "fromcurrent": true,
              "mode": "immediate",
              "transition": {
               "duration": 0,
               "easing": "linear"
              }
             }
            ],
            "label": "1992",
            "method": "animate"
           },
           {
            "args": [
             [
              "1993"
             ],
             {
              "frame": {
               "duration": 0,
               "redraw": true
              },
              "fromcurrent": true,
              "mode": "immediate",
              "transition": {
               "duration": 0,
               "easing": "linear"
              }
             }
            ],
            "label": "1993",
            "method": "animate"
           },
           {
            "args": [
             [
              "1994"
             ],
             {
              "frame": {
               "duration": 0,
               "redraw": true
              },
              "fromcurrent": true,
              "mode": "immediate",
              "transition": {
               "duration": 0,
               "easing": "linear"
              }
             }
            ],
            "label": "1994",
            "method": "animate"
           },
           {
            "args": [
             [
              "1995"
             ],
             {
              "frame": {
               "duration": 0,
               "redraw": true
              },
              "fromcurrent": true,
              "mode": "immediate",
              "transition": {
               "duration": 0,
               "easing": "linear"
              }
             }
            ],
            "label": "1995",
            "method": "animate"
           },
           {
            "args": [
             [
              "1996"
             ],
             {
              "frame": {
               "duration": 0,
               "redraw": true
              },
              "fromcurrent": true,
              "mode": "immediate",
              "transition": {
               "duration": 0,
               "easing": "linear"
              }
             }
            ],
            "label": "1996",
            "method": "animate"
           },
           {
            "args": [
             [
              "1997"
             ],
             {
              "frame": {
               "duration": 0,
               "redraw": true
              },
              "fromcurrent": true,
              "mode": "immediate",
              "transition": {
               "duration": 0,
               "easing": "linear"
              }
             }
            ],
            "label": "1997",
            "method": "animate"
           },
           {
            "args": [
             [
              "1998"
             ],
             {
              "frame": {
               "duration": 0,
               "redraw": true
              },
              "fromcurrent": true,
              "mode": "immediate",
              "transition": {
               "duration": 0,
               "easing": "linear"
              }
             }
            ],
            "label": "1998",
            "method": "animate"
           },
           {
            "args": [
             [
              "1999"
             ],
             {
              "frame": {
               "duration": 0,
               "redraw": true
              },
              "fromcurrent": true,
              "mode": "immediate",
              "transition": {
               "duration": 0,
               "easing": "linear"
              }
             }
            ],
            "label": "1999",
            "method": "animate"
           },
           {
            "args": [
             [
              "2000"
             ],
             {
              "frame": {
               "duration": 0,
               "redraw": true
              },
              "fromcurrent": true,
              "mode": "immediate",
              "transition": {
               "duration": 0,
               "easing": "linear"
              }
             }
            ],
            "label": "2000",
            "method": "animate"
           },
           {
            "args": [
             [
              "2001"
             ],
             {
              "frame": {
               "duration": 0,
               "redraw": true
              },
              "fromcurrent": true,
              "mode": "immediate",
              "transition": {
               "duration": 0,
               "easing": "linear"
              }
             }
            ],
            "label": "2001",
            "method": "animate"
           },
           {
            "args": [
             [
              "2002"
             ],
             {
              "frame": {
               "duration": 0,
               "redraw": true
              },
              "fromcurrent": true,
              "mode": "immediate",
              "transition": {
               "duration": 0,
               "easing": "linear"
              }
             }
            ],
            "label": "2002",
            "method": "animate"
           },
           {
            "args": [
             [
              "2003"
             ],
             {
              "frame": {
               "duration": 0,
               "redraw": true
              },
              "fromcurrent": true,
              "mode": "immediate",
              "transition": {
               "duration": 0,
               "easing": "linear"
              }
             }
            ],
            "label": "2003",
            "method": "animate"
           },
           {
            "args": [
             [
              "2004"
             ],
             {
              "frame": {
               "duration": 0,
               "redraw": true
              },
              "fromcurrent": true,
              "mode": "immediate",
              "transition": {
               "duration": 0,
               "easing": "linear"
              }
             }
            ],
            "label": "2004",
            "method": "animate"
           },
           {
            "args": [
             [
              "2005"
             ],
             {
              "frame": {
               "duration": 0,
               "redraw": true
              },
              "fromcurrent": true,
              "mode": "immediate",
              "transition": {
               "duration": 0,
               "easing": "linear"
              }
             }
            ],
            "label": "2005",
            "method": "animate"
           },
           {
            "args": [
             [
              "2006"
             ],
             {
              "frame": {
               "duration": 0,
               "redraw": true
              },
              "fromcurrent": true,
              "mode": "immediate",
              "transition": {
               "duration": 0,
               "easing": "linear"
              }
             }
            ],
            "label": "2006",
            "method": "animate"
           },
           {
            "args": [
             [
              "2007"
             ],
             {
              "frame": {
               "duration": 0,
               "redraw": true
              },
              "fromcurrent": true,
              "mode": "immediate",
              "transition": {
               "duration": 0,
               "easing": "linear"
              }
             }
            ],
            "label": "2007",
            "method": "animate"
           },
           {
            "args": [
             [
              "2008"
             ],
             {
              "frame": {
               "duration": 0,
               "redraw": true
              },
              "fromcurrent": true,
              "mode": "immediate",
              "transition": {
               "duration": 0,
               "easing": "linear"
              }
             }
            ],
            "label": "2008",
            "method": "animate"
           },
           {
            "args": [
             [
              "2009"
             ],
             {
              "frame": {
               "duration": 0,
               "redraw": true
              },
              "fromcurrent": true,
              "mode": "immediate",
              "transition": {
               "duration": 0,
               "easing": "linear"
              }
             }
            ],
            "label": "2009",
            "method": "animate"
           },
           {
            "args": [
             [
              "2010"
             ],
             {
              "frame": {
               "duration": 0,
               "redraw": true
              },
              "fromcurrent": true,
              "mode": "immediate",
              "transition": {
               "duration": 0,
               "easing": "linear"
              }
             }
            ],
            "label": "2010",
            "method": "animate"
           },
           {
            "args": [
             [
              "2011"
             ],
             {
              "frame": {
               "duration": 0,
               "redraw": true
              },
              "fromcurrent": true,
              "mode": "immediate",
              "transition": {
               "duration": 0,
               "easing": "linear"
              }
             }
            ],
            "label": "2011",
            "method": "animate"
           },
           {
            "args": [
             [
              "2012"
             ],
             {
              "frame": {
               "duration": 0,
               "redraw": true
              },
              "fromcurrent": true,
              "mode": "immediate",
              "transition": {
               "duration": 0,
               "easing": "linear"
              }
             }
            ],
            "label": "2012",
            "method": "animate"
           },
           {
            "args": [
             [
              "2013"
             ],
             {
              "frame": {
               "duration": 0,
               "redraw": true
              },
              "fromcurrent": true,
              "mode": "immediate",
              "transition": {
               "duration": 0,
               "easing": "linear"
              }
             }
            ],
            "label": "2013",
            "method": "animate"
           },
           {
            "args": [
             [
              "2014"
             ],
             {
              "frame": {
               "duration": 0,
               "redraw": true
              },
              "fromcurrent": true,
              "mode": "immediate",
              "transition": {
               "duration": 0,
               "easing": "linear"
              }
             }
            ],
            "label": "2014",
            "method": "animate"
           },
           {
            "args": [
             [
              "2015"
             ],
             {
              "frame": {
               "duration": 0,
               "redraw": true
              },
              "fromcurrent": true,
              "mode": "immediate",
              "transition": {
               "duration": 0,
               "easing": "linear"
              }
             }
            ],
            "label": "2015",
            "method": "animate"
           },
           {
            "args": [
             [
              "2016"
             ],
             {
              "frame": {
               "duration": 0,
               "redraw": true
              },
              "fromcurrent": true,
              "mode": "immediate",
              "transition": {
               "duration": 0,
               "easing": "linear"
              }
             }
            ],
            "label": "2016",
            "method": "animate"
           },
           {
            "args": [
             [
              "2017"
             ],
             {
              "frame": {
               "duration": 0,
               "redraw": true
              },
              "fromcurrent": true,
              "mode": "immediate",
              "transition": {
               "duration": 0,
               "easing": "linear"
              }
             }
            ],
            "label": "2017",
            "method": "animate"
           }
          ],
          "x": 0.1,
          "xanchor": "left",
          "y": 0,
          "yanchor": "top"
         }
        ],
        "template": {
         "data": {
          "bar": [
           {
            "error_x": {
             "color": "#2a3f5f"
            },
            "error_y": {
             "color": "#2a3f5f"
            },
            "marker": {
             "line": {
              "color": "#E5ECF6",
              "width": 0.5
             },
             "pattern": {
              "fillmode": "overlay",
              "size": 10,
              "solidity": 0.2
             }
            },
            "type": "bar"
           }
          ],
          "barpolar": [
           {
            "marker": {
             "line": {
              "color": "#E5ECF6",
              "width": 0.5
             },
             "pattern": {
              "fillmode": "overlay",
              "size": 10,
              "solidity": 0.2
             }
            },
            "type": "barpolar"
           }
          ],
          "carpet": [
           {
            "aaxis": {
             "endlinecolor": "#2a3f5f",
             "gridcolor": "white",
             "linecolor": "white",
             "minorgridcolor": "white",
             "startlinecolor": "#2a3f5f"
            },
            "baxis": {
             "endlinecolor": "#2a3f5f",
             "gridcolor": "white",
             "linecolor": "white",
             "minorgridcolor": "white",
             "startlinecolor": "#2a3f5f"
            },
            "type": "carpet"
           }
          ],
          "choropleth": [
           {
            "colorbar": {
             "outlinewidth": 0,
             "ticks": ""
            },
            "type": "choropleth"
           }
          ],
          "contour": [
           {
            "colorbar": {
             "outlinewidth": 0,
             "ticks": ""
            },
            "colorscale": [
             [
              0,
              "#0d0887"
             ],
             [
              0.1111111111111111,
              "#46039f"
             ],
             [
              0.2222222222222222,
              "#7201a8"
             ],
             [
              0.3333333333333333,
              "#9c179e"
             ],
             [
              0.4444444444444444,
              "#bd3786"
             ],
             [
              0.5555555555555556,
              "#d8576b"
             ],
             [
              0.6666666666666666,
              "#ed7953"
             ],
             [
              0.7777777777777778,
              "#fb9f3a"
             ],
             [
              0.8888888888888888,
              "#fdca26"
             ],
             [
              1,
              "#f0f921"
             ]
            ],
            "type": "contour"
           }
          ],
          "contourcarpet": [
           {
            "colorbar": {
             "outlinewidth": 0,
             "ticks": ""
            },
            "type": "contourcarpet"
           }
          ],
          "heatmap": [
           {
            "colorbar": {
             "outlinewidth": 0,
             "ticks": ""
            },
            "colorscale": [
             [
              0,
              "#0d0887"
             ],
             [
              0.1111111111111111,
              "#46039f"
             ],
             [
              0.2222222222222222,
              "#7201a8"
             ],
             [
              0.3333333333333333,
              "#9c179e"
             ],
             [
              0.4444444444444444,
              "#bd3786"
             ],
             [
              0.5555555555555556,
              "#d8576b"
             ],
             [
              0.6666666666666666,
              "#ed7953"
             ],
             [
              0.7777777777777778,
              "#fb9f3a"
             ],
             [
              0.8888888888888888,
              "#fdca26"
             ],
             [
              1,
              "#f0f921"
             ]
            ],
            "type": "heatmap"
           }
          ],
          "heatmapgl": [
           {
            "colorbar": {
             "outlinewidth": 0,
             "ticks": ""
            },
            "colorscale": [
             [
              0,
              "#0d0887"
             ],
             [
              0.1111111111111111,
              "#46039f"
             ],
             [
              0.2222222222222222,
              "#7201a8"
             ],
             [
              0.3333333333333333,
              "#9c179e"
             ],
             [
              0.4444444444444444,
              "#bd3786"
             ],
             [
              0.5555555555555556,
              "#d8576b"
             ],
             [
              0.6666666666666666,
              "#ed7953"
             ],
             [
              0.7777777777777778,
              "#fb9f3a"
             ],
             [
              0.8888888888888888,
              "#fdca26"
             ],
             [
              1,
              "#f0f921"
             ]
            ],
            "type": "heatmapgl"
           }
          ],
          "histogram": [
           {
            "marker": {
             "pattern": {
              "fillmode": "overlay",
              "size": 10,
              "solidity": 0.2
             }
            },
            "type": "histogram"
           }
          ],
          "histogram2d": [
           {
            "colorbar": {
             "outlinewidth": 0,
             "ticks": ""
            },
            "colorscale": [
             [
              0,
              "#0d0887"
             ],
             [
              0.1111111111111111,
              "#46039f"
             ],
             [
              0.2222222222222222,
              "#7201a8"
             ],
             [
              0.3333333333333333,
              "#9c179e"
             ],
             [
              0.4444444444444444,
              "#bd3786"
             ],
             [
              0.5555555555555556,
              "#d8576b"
             ],
             [
              0.6666666666666666,
              "#ed7953"
             ],
             [
              0.7777777777777778,
              "#fb9f3a"
             ],
             [
              0.8888888888888888,
              "#fdca26"
             ],
             [
              1,
              "#f0f921"
             ]
            ],
            "type": "histogram2d"
           }
          ],
          "histogram2dcontour": [
           {
            "colorbar": {
             "outlinewidth": 0,
             "ticks": ""
            },
            "colorscale": [
             [
              0,
              "#0d0887"
             ],
             [
              0.1111111111111111,
              "#46039f"
             ],
             [
              0.2222222222222222,
              "#7201a8"
             ],
             [
              0.3333333333333333,
              "#9c179e"
             ],
             [
              0.4444444444444444,
              "#bd3786"
             ],
             [
              0.5555555555555556,
              "#d8576b"
             ],
             [
              0.6666666666666666,
              "#ed7953"
             ],
             [
              0.7777777777777778,
              "#fb9f3a"
             ],
             [
              0.8888888888888888,
              "#fdca26"
             ],
             [
              1,
              "#f0f921"
             ]
            ],
            "type": "histogram2dcontour"
           }
          ],
          "mesh3d": [
           {
            "colorbar": {
             "outlinewidth": 0,
             "ticks": ""
            },
            "type": "mesh3d"
           }
          ],
          "parcoords": [
           {
            "line": {
             "colorbar": {
              "outlinewidth": 0,
              "ticks": ""
             }
            },
            "type": "parcoords"
           }
          ],
          "pie": [
           {
            "automargin": true,
            "type": "pie"
           }
          ],
          "scatter": [
           {
            "fillpattern": {
             "fillmode": "overlay",
             "size": 10,
             "solidity": 0.2
            },
            "type": "scatter"
           }
          ],
          "scatter3d": [
           {
            "line": {
             "colorbar": {
              "outlinewidth": 0,
              "ticks": ""
             }
            },
            "marker": {
             "colorbar": {
              "outlinewidth": 0,
              "ticks": ""
             }
            },
            "type": "scatter3d"
           }
          ],
          "scattercarpet": [
           {
            "marker": {
             "colorbar": {
              "outlinewidth": 0,
              "ticks": ""
             }
            },
            "type": "scattercarpet"
           }
          ],
          "scattergeo": [
           {
            "marker": {
             "colorbar": {
              "outlinewidth": 0,
              "ticks": ""
             }
            },
            "type": "scattergeo"
           }
          ],
          "scattergl": [
           {
            "marker": {
             "colorbar": {
              "outlinewidth": 0,
              "ticks": ""
             }
            },
            "type": "scattergl"
           }
          ],
          "scattermapbox": [
           {
            "marker": {
             "colorbar": {
              "outlinewidth": 0,
              "ticks": ""
             }
            },
            "type": "scattermapbox"
           }
          ],
          "scatterpolar": [
           {
            "marker": {
             "colorbar": {
              "outlinewidth": 0,
              "ticks": ""
             }
            },
            "type": "scatterpolar"
           }
          ],
          "scatterpolargl": [
           {
            "marker": {
             "colorbar": {
              "outlinewidth": 0,
              "ticks": ""
             }
            },
            "type": "scatterpolargl"
           }
          ],
          "scatterternary": [
           {
            "marker": {
             "colorbar": {
              "outlinewidth": 0,
              "ticks": ""
             }
            },
            "type": "scatterternary"
           }
          ],
          "surface": [
           {
            "colorbar": {
             "outlinewidth": 0,
             "ticks": ""
            },
            "colorscale": [
             [
              0,
              "#0d0887"
             ],
             [
              0.1111111111111111,
              "#46039f"
             ],
             [
              0.2222222222222222,
              "#7201a8"
             ],
             [
              0.3333333333333333,
              "#9c179e"
             ],
             [
              0.4444444444444444,
              "#bd3786"
             ],
             [
              0.5555555555555556,
              "#d8576b"
             ],
             [
              0.6666666666666666,
              "#ed7953"
             ],
             [
              0.7777777777777778,
              "#fb9f3a"
             ],
             [
              0.8888888888888888,
              "#fdca26"
             ],
             [
              1,
              "#f0f921"
             ]
            ],
            "type": "surface"
           }
          ],
          "table": [
           {
            "cells": {
             "fill": {
              "color": "#EBF0F8"
             },
             "line": {
              "color": "white"
             }
            },
            "header": {
             "fill": {
              "color": "#C8D4E3"
             },
             "line": {
              "color": "white"
             }
            },
            "type": "table"
           }
          ]
         },
         "layout": {
          "annotationdefaults": {
           "arrowcolor": "#2a3f5f",
           "arrowhead": 0,
           "arrowwidth": 1
          },
          "autotypenumbers": "strict",
          "coloraxis": {
           "colorbar": {
            "outlinewidth": 0,
            "ticks": ""
           }
          },
          "colorscale": {
           "diverging": [
            [
             0,
             "#8e0152"
            ],
            [
             0.1,
             "#c51b7d"
            ],
            [
             0.2,
             "#de77ae"
            ],
            [
             0.3,
             "#f1b6da"
            ],
            [
             0.4,
             "#fde0ef"
            ],
            [
             0.5,
             "#f7f7f7"
            ],
            [
             0.6,
             "#e6f5d0"
            ],
            [
             0.7,
             "#b8e186"
            ],
            [
             0.8,
             "#7fbc41"
            ],
            [
             0.9,
             "#4d9221"
            ],
            [
             1,
             "#276419"
            ]
           ],
           "sequential": [
            [
             0,
             "#0d0887"
            ],
            [
             0.1111111111111111,
             "#46039f"
            ],
            [
             0.2222222222222222,
             "#7201a8"
            ],
            [
             0.3333333333333333,
             "#9c179e"
            ],
            [
             0.4444444444444444,
             "#bd3786"
            ],
            [
             0.5555555555555556,
             "#d8576b"
            ],
            [
             0.6666666666666666,
             "#ed7953"
            ],
            [
             0.7777777777777778,
             "#fb9f3a"
            ],
            [
             0.8888888888888888,
             "#fdca26"
            ],
            [
             1,
             "#f0f921"
            ]
           ],
           "sequentialminus": [
            [
             0,
             "#0d0887"
            ],
            [
             0.1111111111111111,
             "#46039f"
            ],
            [
             0.2222222222222222,
             "#7201a8"
            ],
            [
             0.3333333333333333,
             "#9c179e"
            ],
            [
             0.4444444444444444,
             "#bd3786"
            ],
            [
             0.5555555555555556,
             "#d8576b"
            ],
            [
             0.6666666666666666,
             "#ed7953"
            ],
            [
             0.7777777777777778,
             "#fb9f3a"
            ],
            [
             0.8888888888888888,
             "#fdca26"
            ],
            [
             1,
             "#f0f921"
            ]
           ]
          },
          "colorway": [
           "#636efa",
           "#EF553B",
           "#00cc96",
           "#ab63fa",
           "#FFA15A",
           "#19d3f3",
           "#FF6692",
           "#B6E880",
           "#FF97FF",
           "#FECB52"
          ],
          "font": {
           "color": "#2a3f5f"
          },
          "geo": {
           "bgcolor": "white",
           "lakecolor": "white",
           "landcolor": "#E5ECF6",
           "showlakes": true,
           "showland": true,
           "subunitcolor": "white"
          },
          "hoverlabel": {
           "align": "left"
          },
          "hovermode": "closest",
          "mapbox": {
           "style": "light"
          },
          "paper_bgcolor": "white",
          "plot_bgcolor": "#E5ECF6",
          "polar": {
           "angularaxis": {
            "gridcolor": "white",
            "linecolor": "white",
            "ticks": ""
           },
           "bgcolor": "#E5ECF6",
           "radialaxis": {
            "gridcolor": "white",
            "linecolor": "white",
            "ticks": ""
           }
          },
          "scene": {
           "xaxis": {
            "backgroundcolor": "#E5ECF6",
            "gridcolor": "white",
            "gridwidth": 2,
            "linecolor": "white",
            "showbackground": true,
            "ticks": "",
            "zerolinecolor": "white"
           },
           "yaxis": {
            "backgroundcolor": "#E5ECF6",
            "gridcolor": "white",
            "gridwidth": 2,
            "linecolor": "white",
            "showbackground": true,
            "ticks": "",
            "zerolinecolor": "white"
           },
           "zaxis": {
            "backgroundcolor": "#E5ECF6",
            "gridcolor": "white",
            "gridwidth": 2,
            "linecolor": "white",
            "showbackground": true,
            "ticks": "",
            "zerolinecolor": "white"
           }
          },
          "shapedefaults": {
           "line": {
            "color": "#2a3f5f"
           }
          },
          "ternary": {
           "aaxis": {
            "gridcolor": "white",
            "linecolor": "white",
            "ticks": ""
           },
           "baxis": {
            "gridcolor": "white",
            "linecolor": "white",
            "ticks": ""
           },
           "bgcolor": "#E5ECF6",
           "caxis": {
            "gridcolor": "white",
            "linecolor": "white",
            "ticks": ""
           }
          },
          "title": {
           "x": 0.05
          },
          "xaxis": {
           "automargin": true,
           "gridcolor": "white",
           "linecolor": "white",
           "ticks": "",
           "title": {
            "standoff": 15
           },
           "zerolinecolor": "white",
           "zerolinewidth": 2
          },
          "yaxis": {
           "automargin": true,
           "gridcolor": "white",
           "linecolor": "white",
           "ticks": "",
           "title": {
            "standoff": 15
           },
           "zerolinecolor": "white",
           "zerolinewidth": 2
          }
         }
        },
        "title": {
         "text": "Internet usage over time for five regions from 1990 to 2017"
        },
        "updatemenus": [
         {
          "buttons": [
           {
            "args": [
             null,
             {
              "frame": {
               "duration": 500,
               "redraw": true
              },
              "fromcurrent": true,
              "mode": "immediate",
              "transition": {
               "duration": 500,
               "easing": "linear"
              }
             }
            ],
            "label": "&#9654;",
            "method": "animate"
           },
           {
            "args": [
             [
              null
             ],
             {
              "frame": {
               "duration": 0,
               "redraw": true
              },
              "fromcurrent": true,
              "mode": "immediate",
              "transition": {
               "duration": 0,
               "easing": "linear"
              }
             }
            ],
            "label": "&#9724;",
            "method": "animate"
           }
          ],
          "direction": "left",
          "pad": {
           "r": 10,
           "t": 70
          },
          "showactive": false,
          "type": "buttons",
          "x": 0.1,
          "xanchor": "right",
          "y": 0,
          "yanchor": "top"
         }
        ],
        "xaxis": {
         "anchor": "y",
         "categoryarray": [
          "Africa",
          "Asia & Pacific",
          "European Union",
          "Latin America & Caribbean",
          "North America"
         ],
         "categoryorder": "array",
         "domain": [
          0,
          1
         ],
         "title": {
          "text": "Entity"
         }
        },
        "yaxis": {
         "anchor": "x",
         "domain": [
          0,
          1
         ],
         "title": {
          "text": "Internet_Usage"
         }
        }
       }
      }
     },
     "metadata": {},
     "output_type": "display_data"
    }
   ],
   "source": [
    "five_regions = five_regions.query ('Year < 2018')\n",
    "fig = px.bar(five_regions, x=\"Entity\", y=\"Internet_Usage\", color=\"Entity\", color_discrete_sequence=px.colors.sequential.Inferno,\n",
    "  animation_frame=\"Year\", animation_group=\"Entity\", title = \"Internet usage over time for five regions from 1990 to 2017\")\n",
    "\n",
    "fig.update_layout(\n",
    "    margin=dict(l=0, r=0, t=30, b=0))\n",
    "\n",
    "fig.show()"
   ]
  },
  {
   "cell_type": "code",
   "execution_count": 25,
   "metadata": {},
   "outputs": [
    {
     "data": {
      "text/plain": [
       "Entity\n",
       "China            1003218650\n",
       "India             600446441\n",
       "United States     305371298\n",
       "Brazil            173419624\n",
       "Indonesia         146059763\n",
       "Name: Users, dtype: int64"
      ]
     },
     "execution_count": 25,
     "metadata": {},
     "output_type": "execute_result"
    }
   ],
   "source": [
    "# 5 countries with the most internet users\n",
    "other = 'World', 'Asia', 'Upper-middle-income countries',  'High-income countries', 'Lower-middle-income countries', 'Europe', 'North America' , 'South America', 'Africa'\n",
    "no_other = people[~people['Entity'].isin(other)]\n",
    "no_other = no_other.query ('Year == 2020')\n",
    "top_five_users = no_other.groupby('Entity')['Users'].sum().sort_values(ascending=False).head(5)\n",
    "top_five_users"
   ]
  },
  {
   "cell_type": "code",
   "execution_count": 26,
   "metadata": {},
   "outputs": [
    {
     "data": {
      "image/png": "[encoded data removed]",
      "text/plain": [
       "<Figure size 1400x700 with 1 Axes>"
      ]
     },
     "metadata": {},
     "output_type": "display_data"
    }
   ],
   "source": [
    "plt.figure(figsize=(14,7))\n",
    "sns.barplot( x = top_five_users.index, y = top_five_users, palette = \"inferno\").set(title =\"Top 5 countries with most internet users in 2020\");\n"
   ]
  },
  {
   "cell_type": "code",
   "execution_count": 27,
   "metadata": {},
   "outputs": [
    {
     "name": "stdout",
     "output_type": "stream",
     "text": [
      "Correlation between  Internet_Usage  and  Broadband_Subscriptions is:  0.56\n"
     ]
    }
   ],
   "source": [
    "# What is the correlation between internet usage (population share) and broadband subscriptions for 2019?\n",
    "_data = internet.merge(broadband)\n",
    "_data = _data.query ('Year == 2019')\n",
    "\n",
    "col1, col2 = \"Internet_Usage\", \"Broadband_Subscriptions\"\n",
    "corr = _data['Internet_Usage'].corr(_data['Broadband_Subscriptions'])\n",
    "print (\"Correlation between \", col1, \" and \", col2, \"is: \", round(corr, 2))"
   ]
  },
  {
   "cell_type": "code",
   "execution_count": 28,
   "metadata": {},
   "outputs": [
    {
     "data": {
      "image/png": "[encoded data removed]",
      "text/plain": [
       "<Figure size 640x480 with 1 Axes>"
      ]
     },
     "metadata": {},
     "output_type": "display_data"
    }
   ],
   "source": [
    "x = _data['Internet_Usage'] \n",
    "y = _data['Broadband_Subscriptions']\n",
    "\n",
    "plt.title('Correlation')\n",
    "\n",
    "plt.scatter(x, y)\n",
    "\n",
    "\n",
    "plt.plot(np.unique(x), np.poly1d(np.polyfit(x, y, 1))\n",
    "         (np.unique(x)), color='red')\n",
    "\n",
    "plt.xlabel('Internet Usage')\n",
    "plt.ylabel('Broadband Subscriptions');"
   ]
  },
  {
   "cell_type": "code",
   "execution_count": null,
   "metadata": {},
   "outputs": [],
   "source": [
    "# Correlation 0.56 indicates a moderate positive linear relationship"
   ]
  }
 ],
 "metadata": {
  "kernelspec": {
   "display_name": "base",
   "language": "python",
   "name": "python3"
  },
  "language_info": {
   "codemirror_mode": {
    "name": "ipython",
    "version": 3
   },
   "file_extension": ".py",
   "mimetype": "text/x-python",
   "name": "python",
   "nbconvert_exporter": "python",
   "pygments_lexer": "ipython3",
   "version": "3.9.12"
  },
  "orig_nbformat": 4,
  "vscode": {
   "interpreter": {
    "hash": "483e3a07c24f05e8bb5407ff3c1463f6c695557f2448d79cf3f595c6ca799fb4"
   }
  }
 },
 "nbformat": 4,
 "nbformat_minor": 2
}
